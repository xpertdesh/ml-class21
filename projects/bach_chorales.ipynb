{
  "nbformat": 4,
  "nbformat_minor": 0,
  "metadata": {
    "colab": {
      "name": "bach_chorales.ipynb",
      "provenance": [],
      "authorship_tag": "ABX9TyPqX6EYXh06CVk5RMYMQ0PD",
      "include_colab_link": true
    },
    "kernelspec": {
      "name": "python3",
      "display_name": "Python 3"
    }
  },
  "cells": [
    {
      "cell_type": "markdown",
      "metadata": {
        "id": "view-in-github",
        "colab_type": "text"
      },
      "source": [
        "<a href=\"https://colab.research.google.com/github/xpertdesh/ml-class21/blob/main/projects/bach_chorales.ipynb\" target=\"_parent\"><img src=\"https://colab.research.google.com/assets/colab-badge.svg\" alt=\"Open In Colab\"/></a>"
      ]
    },
    {
      "cell_type": "markdown",
      "metadata": {
        "id": "OSEGjVWzi4wS"
      },
      "source": [
        "<br><br><br>\r\n",
        "# <center>Bach Chorales Project</center>\r\n",
        "---\r\n",
        "<br>\r\n",
        "This project consists of predicting the chords that Bach used based off from a set of notes. Johann Sebastian Bach was a German composer and musician of the Baroque period.<br> \r\n",
        "Fun fact: This is the second time in my life hearing about Bach. First time, was for 326 when Stephen made us read that humungous book GEB.<br><br>\r\n",
        "Before looking at the data set. I understand there are 3 columns of actual data, and 2 that wouldn't be used in the project.\r\n",
        "\r\n",
        "### Ok let's get started!\r\n"
      ]
    },
    {
      "cell_type": "markdown",
      "metadata": {
        "id": "r9WkKUAgn40r"
      },
      "source": [
        "https://raw.githubusercontent.com/zacharski/ml-class/master/data/bach.zip\r\n",
        "\r\n",
        "*   First,  we will download and unzip the file\r\n",
        "*   Then, we will import the neccessary libraries in order to take a look at the data\r\n",
        "*   Finally, we will explore and analyze the data\r\n"
      ]
    },
    {
      "cell_type": "code",
      "metadata": {
        "colab": {
          "base_uri": "https://localhost:8080/"
        },
        "id": "szwADf5nwZKy",
        "outputId": "39e68aa0-9ebb-4d61-be54-585c9d4e3c95"
      },
      "source": [
        "! wget https://raw.githubusercontent.com/zacharski/ml-class/master/data/bach.zip"
      ],
      "execution_count": 1,
      "outputs": [
        {
          "output_type": "stream",
          "text": [
            "--2021-02-28 02:09:22--  https://raw.githubusercontent.com/zacharski/ml-class/master/data/bach.zip\n",
            "Resolving raw.githubusercontent.com (raw.githubusercontent.com)... 185.199.108.133, 185.199.109.133, 185.199.111.133, ...\n",
            "Connecting to raw.githubusercontent.com (raw.githubusercontent.com)|185.199.108.133|:443... connected.\n",
            "HTTP request sent, awaiting response... 200 OK\n",
            "Length: 41761 (41K) [application/zip]\n",
            "Saving to: ‘bach.zip’\n",
            "\n",
            "bach.zip            100%[===================>]  40.78K  --.-KB/s    in 0.006s  \n",
            "\n",
            "2021-02-28 02:09:22 (6.97 MB/s) - ‘bach.zip’ saved [41761/41761]\n",
            "\n"
          ],
          "name": "stdout"
        }
      ]
    },
    {
      "cell_type": "code",
      "metadata": {
        "colab": {
          "base_uri": "https://localhost:8080/"
        },
        "id": "oDVu1t9Mzgsg",
        "outputId": "5a947864-184d-4407-bcfe-c0399dab77b9"
      },
      "source": [
        "! unzip bach.zip -d bach_chorales"
      ],
      "execution_count": 2,
      "outputs": [
        {
          "output_type": "stream",
          "text": [
            "Archive:  bach.zip\n",
            "  inflating: bach_chorales/bach.csv  \n"
          ],
          "name": "stdout"
        }
      ]
    },
    {
      "cell_type": "markdown",
      "metadata": {
        "id": "Pw72hHREiYls"
      },
      "source": [
        "##1. Import Neccessary Libraries\r\n",
        "<br><br><br>"
      ]
    },
    {
      "cell_type": "code",
      "metadata": {
        "id": "gFqbR2Aw4OpD"
      },
      "source": [
        "#data analysis libraries \r\n",
        "import numpy as np\r\n",
        "import pandas as pd\r\n",
        "\r\n",
        "#visualization libraries\r\n",
        "import matplotlib.pyplot as plt\r\n",
        "import seaborn as sns\r\n",
        "%matplotlib inline\r\n",
        "\r\n",
        "#ignore warnings\r\n",
        "import warnings\r\n",
        "warnings.filterwarnings('ignore')"
      ],
      "execution_count": 3,
      "outputs": []
    },
    {
      "cell_type": "markdown",
      "metadata": {
        "id": "7VhnBUPq5dAn"
      },
      "source": [
        "<br><br><br>\r\n",
        "\r\n",
        "##2. Read in and Explore the Data\r\n",
        "It's time to read in the data using `pd.readcsv()`, and take a first look at the data using the `describe()` function.<br><br><br>"
      ]
    },
    {
      "cell_type": "code",
      "metadata": {
        "colab": {
          "base_uri": "https://localhost:8080/",
          "height": 386
        },
        "id": "4B6mejDE5niM",
        "outputId": "b46a9e48-5b62-4df4-a0db-be50133ef889"
      },
      "source": [
        "bach = pd.read_csv('bach_chorales/bach.csv')\r\n",
        "bach.describe(include='all')"
      ],
      "execution_count": 4,
      "outputs": [
        {
          "output_type": "execute_result",
          "data": {
            "text/html": [
              "<div>\n",
              "<style scoped>\n",
              "    .dataframe tbody tr th:only-of-type {\n",
              "        vertical-align: middle;\n",
              "    }\n",
              "\n",
              "    .dataframe tbody tr th {\n",
              "        vertical-align: top;\n",
              "    }\n",
              "\n",
              "    .dataframe thead th {\n",
              "        text-align: right;\n",
              "    }\n",
              "</style>\n",
              "<table border=\"1\" class=\"dataframe\">\n",
              "  <thead>\n",
              "    <tr style=\"text-align: right;\">\n",
              "      <th></th>\n",
              "      <th>choral_ID</th>\n",
              "      <th>event_number</th>\n",
              "      <th>C</th>\n",
              "      <th>C#</th>\n",
              "      <th>D</th>\n",
              "      <th>D#</th>\n",
              "      <th>E</th>\n",
              "      <th>F</th>\n",
              "      <th>F#</th>\n",
              "      <th>G</th>\n",
              "      <th>G#</th>\n",
              "      <th>A</th>\n",
              "      <th>A#</th>\n",
              "      <th>B</th>\n",
              "      <th>bass</th>\n",
              "      <th>meter</th>\n",
              "      <th>chord_label</th>\n",
              "    </tr>\n",
              "  </thead>\n",
              "  <tbody>\n",
              "    <tr>\n",
              "      <th>count</th>\n",
              "      <td>5665</td>\n",
              "      <td>5665.000000</td>\n",
              "      <td>5665</td>\n",
              "      <td>5665</td>\n",
              "      <td>5665</td>\n",
              "      <td>5665</td>\n",
              "      <td>5665</td>\n",
              "      <td>5665</td>\n",
              "      <td>5665</td>\n",
              "      <td>5665</td>\n",
              "      <td>5665</td>\n",
              "      <td>5665</td>\n",
              "      <td>5665</td>\n",
              "      <td>5665</td>\n",
              "      <td>5665</td>\n",
              "      <td>5665.000000</td>\n",
              "      <td>5665</td>\n",
              "    </tr>\n",
              "    <tr>\n",
              "      <th>unique</th>\n",
              "      <td>60</td>\n",
              "      <td>NaN</td>\n",
              "      <td>2</td>\n",
              "      <td>2</td>\n",
              "      <td>2</td>\n",
              "      <td>2</td>\n",
              "      <td>2</td>\n",
              "      <td>2</td>\n",
              "      <td>2</td>\n",
              "      <td>2</td>\n",
              "      <td>2</td>\n",
              "      <td>2</td>\n",
              "      <td>2</td>\n",
              "      <td>2</td>\n",
              "      <td>16</td>\n",
              "      <td>NaN</td>\n",
              "      <td>102</td>\n",
              "    </tr>\n",
              "    <tr>\n",
              "      <th>top</th>\n",
              "      <td>002908ch</td>\n",
              "      <td>NaN</td>\n",
              "      <td>NO</td>\n",
              "      <td>NO</td>\n",
              "      <td>NO</td>\n",
              "      <td>NO</td>\n",
              "      <td>NO</td>\n",
              "      <td>NO</td>\n",
              "      <td>NO</td>\n",
              "      <td>NO</td>\n",
              "      <td>NO</td>\n",
              "      <td>NO</td>\n",
              "      <td>NO</td>\n",
              "      <td>NO</td>\n",
              "      <td>D</td>\n",
              "      <td>NaN</td>\n",
              "      <td>D_M</td>\n",
              "    </tr>\n",
              "    <tr>\n",
              "      <th>freq</th>\n",
              "      <td>207</td>\n",
              "      <td>NaN</td>\n",
              "      <td>3875</td>\n",
              "      <td>4711</td>\n",
              "      <td>3300</td>\n",
              "      <td>4956</td>\n",
              "      <td>3540</td>\n",
              "      <td>4381</td>\n",
              "      <td>4253</td>\n",
              "      <td>3523</td>\n",
              "      <td>5006</td>\n",
              "      <td>3290</td>\n",
              "      <td>4644</td>\n",
              "      <td>3874</td>\n",
              "      <td>689</td>\n",
              "      <td>NaN</td>\n",
              "      <td>503</td>\n",
              "    </tr>\n",
              "    <tr>\n",
              "      <th>mean</th>\n",
              "      <td>NaN</td>\n",
              "      <td>53.374404</td>\n",
              "      <td>NaN</td>\n",
              "      <td>NaN</td>\n",
              "      <td>NaN</td>\n",
              "      <td>NaN</td>\n",
              "      <td>NaN</td>\n",
              "      <td>NaN</td>\n",
              "      <td>NaN</td>\n",
              "      <td>NaN</td>\n",
              "      <td>NaN</td>\n",
              "      <td>NaN</td>\n",
              "      <td>NaN</td>\n",
              "      <td>NaN</td>\n",
              "      <td>NaN</td>\n",
              "      <td>3.134863</td>\n",
              "      <td>NaN</td>\n",
              "    </tr>\n",
              "    <tr>\n",
              "      <th>std</th>\n",
              "      <td>NaN</td>\n",
              "      <td>37.268208</td>\n",
              "      <td>NaN</td>\n",
              "      <td>NaN</td>\n",
              "      <td>NaN</td>\n",
              "      <td>NaN</td>\n",
              "      <td>NaN</td>\n",
              "      <td>NaN</td>\n",
              "      <td>NaN</td>\n",
              "      <td>NaN</td>\n",
              "      <td>NaN</td>\n",
              "      <td>NaN</td>\n",
              "      <td>NaN</td>\n",
              "      <td>NaN</td>\n",
              "      <td>NaN</td>\n",
              "      <td>1.109710</td>\n",
              "      <td>NaN</td>\n",
              "    </tr>\n",
              "    <tr>\n",
              "      <th>min</th>\n",
              "      <td>NaN</td>\n",
              "      <td>1.000000</td>\n",
              "      <td>NaN</td>\n",
              "      <td>NaN</td>\n",
              "      <td>NaN</td>\n",
              "      <td>NaN</td>\n",
              "      <td>NaN</td>\n",
              "      <td>NaN</td>\n",
              "      <td>NaN</td>\n",
              "      <td>NaN</td>\n",
              "      <td>NaN</td>\n",
              "      <td>NaN</td>\n",
              "      <td>NaN</td>\n",
              "      <td>NaN</td>\n",
              "      <td>NaN</td>\n",
              "      <td>1.000000</td>\n",
              "      <td>NaN</td>\n",
              "    </tr>\n",
              "    <tr>\n",
              "      <th>25%</th>\n",
              "      <td>NaN</td>\n",
              "      <td>24.000000</td>\n",
              "      <td>NaN</td>\n",
              "      <td>NaN</td>\n",
              "      <td>NaN</td>\n",
              "      <td>NaN</td>\n",
              "      <td>NaN</td>\n",
              "      <td>NaN</td>\n",
              "      <td>NaN</td>\n",
              "      <td>NaN</td>\n",
              "      <td>NaN</td>\n",
              "      <td>NaN</td>\n",
              "      <td>NaN</td>\n",
              "      <td>NaN</td>\n",
              "      <td>NaN</td>\n",
              "      <td>2.000000</td>\n",
              "      <td>NaN</td>\n",
              "    </tr>\n",
              "    <tr>\n",
              "      <th>50%</th>\n",
              "      <td>NaN</td>\n",
              "      <td>48.000000</td>\n",
              "      <td>NaN</td>\n",
              "      <td>NaN</td>\n",
              "      <td>NaN</td>\n",
              "      <td>NaN</td>\n",
              "      <td>NaN</td>\n",
              "      <td>NaN</td>\n",
              "      <td>NaN</td>\n",
              "      <td>NaN</td>\n",
              "      <td>NaN</td>\n",
              "      <td>NaN</td>\n",
              "      <td>NaN</td>\n",
              "      <td>NaN</td>\n",
              "      <td>NaN</td>\n",
              "      <td>3.000000</td>\n",
              "      <td>NaN</td>\n",
              "    </tr>\n",
              "    <tr>\n",
              "      <th>75%</th>\n",
              "      <td>NaN</td>\n",
              "      <td>75.000000</td>\n",
              "      <td>NaN</td>\n",
              "      <td>NaN</td>\n",
              "      <td>NaN</td>\n",
              "      <td>NaN</td>\n",
              "      <td>NaN</td>\n",
              "      <td>NaN</td>\n",
              "      <td>NaN</td>\n",
              "      <td>NaN</td>\n",
              "      <td>NaN</td>\n",
              "      <td>NaN</td>\n",
              "      <td>NaN</td>\n",
              "      <td>NaN</td>\n",
              "      <td>NaN</td>\n",
              "      <td>4.000000</td>\n",
              "      <td>NaN</td>\n",
              "    </tr>\n",
              "    <tr>\n",
              "      <th>max</th>\n",
              "      <td>NaN</td>\n",
              "      <td>207.000000</td>\n",
              "      <td>NaN</td>\n",
              "      <td>NaN</td>\n",
              "      <td>NaN</td>\n",
              "      <td>NaN</td>\n",
              "      <td>NaN</td>\n",
              "      <td>NaN</td>\n",
              "      <td>NaN</td>\n",
              "      <td>NaN</td>\n",
              "      <td>NaN</td>\n",
              "      <td>NaN</td>\n",
              "      <td>NaN</td>\n",
              "      <td>NaN</td>\n",
              "      <td>NaN</td>\n",
              "      <td>5.000000</td>\n",
              "      <td>NaN</td>\n",
              "    </tr>\n",
              "  </tbody>\n",
              "</table>\n",
              "</div>"
            ],
            "text/plain": [
              "       choral_ID  event_number     C    C#  ...     B  bass        meter chord_label\n",
              "count       5665   5665.000000  5665  5665  ...  5665  5665  5665.000000        5665\n",
              "unique        60           NaN     2     2  ...     2    16          NaN         102\n",
              "top     002908ch           NaN    NO    NO  ...    NO     D          NaN         D_M\n",
              "freq         207           NaN  3875  4711  ...  3874   689          NaN         503\n",
              "mean         NaN     53.374404   NaN   NaN  ...   NaN   NaN     3.134863         NaN\n",
              "std          NaN     37.268208   NaN   NaN  ...   NaN   NaN     1.109710         NaN\n",
              "min          NaN      1.000000   NaN   NaN  ...   NaN   NaN     1.000000         NaN\n",
              "25%          NaN     24.000000   NaN   NaN  ...   NaN   NaN     2.000000         NaN\n",
              "50%          NaN     48.000000   NaN   NaN  ...   NaN   NaN     3.000000         NaN\n",
              "75%          NaN     75.000000   NaN   NaN  ...   NaN   NaN     4.000000         NaN\n",
              "max          NaN    207.000000   NaN   NaN  ...   NaN   NaN     5.000000         NaN\n",
              "\n",
              "[11 rows x 17 columns]"
            ]
          },
          "metadata": {
            "tags": []
          },
          "execution_count": 4
        }
      ]
    },
    {
      "cell_type": "markdown",
      "metadata": {
        "id": "40MOP0g1hw6r"
      },
      "source": [
        ""
      ]
    },
    {
      "cell_type": "markdown",
      "metadata": {
        "id": "9aItOMR9ivd-"
      },
      "source": [
        "<br><br><br>\r\n",
        "\r\n",
        "#3. Data Analysis\r\n",
        "We're going to consider the features in the dataset and how complete they are.\r\n",
        "<br><br><br>"
      ]
    },
    {
      "cell_type": "code",
      "metadata": {
        "colab": {
          "base_uri": "https://localhost:8080/"
        },
        "id": "Gvv88Bepi-gb",
        "outputId": "c1d68a3c-809c-4a20-feb5-33f5ab9078c0"
      },
      "source": [
        "#get of a list of the features within the dataset\r\n",
        "bach.columns"
      ],
      "execution_count": 5,
      "outputs": [
        {
          "output_type": "execute_result",
          "data": {
            "text/plain": [
              "Index(['choral_ID', 'event_number', 'C', 'C#', 'D', 'D#', 'E', 'F', 'F#', 'G',\n",
              "       'G#', 'A', 'A#', 'B', 'bass', 'meter', 'chord_label'],\n",
              "      dtype='object')"
            ]
          },
          "metadata": {
            "tags": []
          },
          "execution_count": 5
        }
      ]
    },
    {
      "cell_type": "code",
      "metadata": {
        "colab": {
          "base_uri": "https://localhost:8080/",
          "height": 355
        },
        "id": "XgnH_rejmMNm",
        "outputId": "aa5e13d2-ee5e-4802-972f-ac8066b568e8"
      },
      "source": [
        "#see a sample of the data set to get an idea of the variables\r\n",
        "bach.sample(10)"
      ],
      "execution_count": 6,
      "outputs": [
        {
          "output_type": "execute_result",
          "data": {
            "text/html": [
              "<div>\n",
              "<style scoped>\n",
              "    .dataframe tbody tr th:only-of-type {\n",
              "        vertical-align: middle;\n",
              "    }\n",
              "\n",
              "    .dataframe tbody tr th {\n",
              "        vertical-align: top;\n",
              "    }\n",
              "\n",
              "    .dataframe thead th {\n",
              "        text-align: right;\n",
              "    }\n",
              "</style>\n",
              "<table border=\"1\" class=\"dataframe\">\n",
              "  <thead>\n",
              "    <tr style=\"text-align: right;\">\n",
              "      <th></th>\n",
              "      <th>choral_ID</th>\n",
              "      <th>event_number</th>\n",
              "      <th>C</th>\n",
              "      <th>C#</th>\n",
              "      <th>D</th>\n",
              "      <th>D#</th>\n",
              "      <th>E</th>\n",
              "      <th>F</th>\n",
              "      <th>F#</th>\n",
              "      <th>G</th>\n",
              "      <th>G#</th>\n",
              "      <th>A</th>\n",
              "      <th>A#</th>\n",
              "      <th>B</th>\n",
              "      <th>bass</th>\n",
              "      <th>meter</th>\n",
              "      <th>chord_label</th>\n",
              "    </tr>\n",
              "  </thead>\n",
              "  <tbody>\n",
              "    <tr>\n",
              "      <th>2129</th>\n",
              "      <td>003006b_</td>\n",
              "      <td>112</td>\n",
              "      <td>NO</td>\n",
              "      <td>NO</td>\n",
              "      <td>YES</td>\n",
              "      <td>NO</td>\n",
              "      <td>YES</td>\n",
              "      <td>NO</td>\n",
              "      <td>NO</td>\n",
              "      <td>NO</td>\n",
              "      <td>YES</td>\n",
              "      <td>NO</td>\n",
              "      <td>NO</td>\n",
              "      <td>YES</td>\n",
              "      <td>E</td>\n",
              "      <td>2</td>\n",
              "      <td>E_M</td>\n",
              "    </tr>\n",
              "    <tr>\n",
              "      <th>77</th>\n",
              "      <td>000106b_</td>\n",
              "      <td>78</td>\n",
              "      <td>NO</td>\n",
              "      <td>NO</td>\n",
              "      <td>YES</td>\n",
              "      <td>NO</td>\n",
              "      <td>YES</td>\n",
              "      <td>YES</td>\n",
              "      <td>NO</td>\n",
              "      <td>NO</td>\n",
              "      <td>NO</td>\n",
              "      <td>YES</td>\n",
              "      <td>NO</td>\n",
              "      <td>YES</td>\n",
              "      <td>F</td>\n",
              "      <td>2</td>\n",
              "      <td>D_m7</td>\n",
              "    </tr>\n",
              "    <tr>\n",
              "      <th>2508</th>\n",
              "      <td>003608b2</td>\n",
              "      <td>17</td>\n",
              "      <td>NO</td>\n",
              "      <td>NO</td>\n",
              "      <td>YES</td>\n",
              "      <td>NO</td>\n",
              "      <td>NO</td>\n",
              "      <td>NO</td>\n",
              "      <td>YES</td>\n",
              "      <td>NO</td>\n",
              "      <td>NO</td>\n",
              "      <td>NO</td>\n",
              "      <td>NO</td>\n",
              "      <td>YES</td>\n",
              "      <td>B</td>\n",
              "      <td>3</td>\n",
              "      <td>B_m</td>\n",
              "    </tr>\n",
              "    <tr>\n",
              "      <th>1705</th>\n",
              "      <td>002506b_</td>\n",
              "      <td>77</td>\n",
              "      <td>NO</td>\n",
              "      <td>NO</td>\n",
              "      <td>YES</td>\n",
              "      <td>NO</td>\n",
              "      <td>NO</td>\n",
              "      <td>YES</td>\n",
              "      <td>NO</td>\n",
              "      <td>NO</td>\n",
              "      <td>NO</td>\n",
              "      <td>YES</td>\n",
              "      <td>NO</td>\n",
              "      <td>NO</td>\n",
              "      <td>D</td>\n",
              "      <td>4</td>\n",
              "      <td>D_m</td>\n",
              "    </tr>\n",
              "    <tr>\n",
              "      <th>5052</th>\n",
              "      <td>014806bv</td>\n",
              "      <td>6</td>\n",
              "      <td>YES</td>\n",
              "      <td>NO</td>\n",
              "      <td>NO</td>\n",
              "      <td>NO</td>\n",
              "      <td>NO</td>\n",
              "      <td>YES</td>\n",
              "      <td>NO</td>\n",
              "      <td>NO</td>\n",
              "      <td>YES</td>\n",
              "      <td>NO</td>\n",
              "      <td>NO</td>\n",
              "      <td>NO</td>\n",
              "      <td>F</td>\n",
              "      <td>4</td>\n",
              "      <td>F_m7</td>\n",
              "    </tr>\n",
              "    <tr>\n",
              "      <th>1035</th>\n",
              "      <td>001207b_</td>\n",
              "      <td>81</td>\n",
              "      <td>NO</td>\n",
              "      <td>NO</td>\n",
              "      <td>YES</td>\n",
              "      <td>YES</td>\n",
              "      <td>NO</td>\n",
              "      <td>NO</td>\n",
              "      <td>NO</td>\n",
              "      <td>YES</td>\n",
              "      <td>NO</td>\n",
              "      <td>NO</td>\n",
              "      <td>YES</td>\n",
              "      <td>NO</td>\n",
              "      <td>Bb</td>\n",
              "      <td>2</td>\n",
              "      <td>BbM</td>\n",
              "    </tr>\n",
              "    <tr>\n",
              "      <th>1523</th>\n",
              "      <td>001907ch</td>\n",
              "      <td>82</td>\n",
              "      <td>NO</td>\n",
              "      <td>NO</td>\n",
              "      <td>YES</td>\n",
              "      <td>NO</td>\n",
              "      <td>NO</td>\n",
              "      <td>YES</td>\n",
              "      <td>NO</td>\n",
              "      <td>YES</td>\n",
              "      <td>NO</td>\n",
              "      <td>NO</td>\n",
              "      <td>NO</td>\n",
              "      <td>NO</td>\n",
              "      <td>G</td>\n",
              "      <td>2</td>\n",
              "      <td>G_M</td>\n",
              "    </tr>\n",
              "    <tr>\n",
              "      <th>520</th>\n",
              "      <td>000606b_</td>\n",
              "      <td>54</td>\n",
              "      <td>NO</td>\n",
              "      <td>NO</td>\n",
              "      <td>YES</td>\n",
              "      <td>NO</td>\n",
              "      <td>NO</td>\n",
              "      <td>NO</td>\n",
              "      <td>YES</td>\n",
              "      <td>NO</td>\n",
              "      <td>NO</td>\n",
              "      <td>YES</td>\n",
              "      <td>NO</td>\n",
              "      <td>NO</td>\n",
              "      <td>D</td>\n",
              "      <td>3</td>\n",
              "      <td>D_M</td>\n",
              "    </tr>\n",
              "    <tr>\n",
              "      <th>594</th>\n",
              "      <td>000707b_</td>\n",
              "      <td>71</td>\n",
              "      <td>NO</td>\n",
              "      <td>NO</td>\n",
              "      <td>YES</td>\n",
              "      <td>NO</td>\n",
              "      <td>NO</td>\n",
              "      <td>NO</td>\n",
              "      <td>YES</td>\n",
              "      <td>NO</td>\n",
              "      <td>NO</td>\n",
              "      <td>YES</td>\n",
              "      <td>NO</td>\n",
              "      <td>YES</td>\n",
              "      <td>F#</td>\n",
              "      <td>2</td>\n",
              "      <td>G_M</td>\n",
              "    </tr>\n",
              "    <tr>\n",
              "      <th>1639</th>\n",
              "      <td>002506b_</td>\n",
              "      <td>11</td>\n",
              "      <td>YES</td>\n",
              "      <td>NO</td>\n",
              "      <td>NO</td>\n",
              "      <td>NO</td>\n",
              "      <td>YES</td>\n",
              "      <td>NO</td>\n",
              "      <td>NO</td>\n",
              "      <td>YES</td>\n",
              "      <td>NO</td>\n",
              "      <td>NO</td>\n",
              "      <td>NO</td>\n",
              "      <td>NO</td>\n",
              "      <td>E</td>\n",
              "      <td>5</td>\n",
              "      <td>C_M</td>\n",
              "    </tr>\n",
              "  </tbody>\n",
              "</table>\n",
              "</div>"
            ],
            "text/plain": [
              "     choral_ID  event_number    C  C#    D  ...   A#    B bass meter chord_label\n",
              "2129  003006b_           112   NO  NO  YES  ...   NO  YES    E     2         E_M\n",
              "77    000106b_            78   NO  NO  YES  ...   NO  YES    F     2        D_m7\n",
              "2508  003608b2            17   NO  NO  YES  ...   NO  YES    B     3         B_m\n",
              "1705  002506b_            77   NO  NO  YES  ...   NO   NO    D     4         D_m\n",
              "5052  014806bv             6  YES  NO   NO  ...   NO   NO    F     4        F_m7\n",
              "1035  001207b_            81   NO  NO  YES  ...  YES   NO   Bb     2         BbM\n",
              "1523  001907ch            82   NO  NO  YES  ...   NO   NO    G     2         G_M\n",
              "520   000606b_            54   NO  NO  YES  ...   NO   NO    D     3         D_M\n",
              "594   000707b_            71   NO  NO  YES  ...   NO  YES   F#     2         G_M\n",
              "1639  002506b_            11  YES  NO   NO  ...   NO   NO    E     5         C_M\n",
              "\n",
              "[10 rows x 17 columns]"
            ]
          },
          "metadata": {
            "tags": []
          },
          "execution_count": 6
        }
      ]
    },
    {
      "cell_type": "markdown",
      "metadata": {
        "id": "y6M3dnoennDF"
      },
      "source": [
        "<br><br>\r\n",
        "\r\n",
        "\r\n",
        "* **Numerical Features:** Event Number(Discrete), Meter(Discrete)\r\n",
        "* **Categorical Features:** Western Scale(Discrete), Bass(Discrete)\r\n",
        "* **Label:** Chord Label(Discrete)\r\n",
        "\r\n",
        "<br>Choral Id, and Event Number will not be used for training.\r\n",
        "<br><br>\r\n",
        "Let's take another look at the dataset, now that we know what kinds of features we're working with.<br><br><br>\r\n"
      ]
    },
    {
      "cell_type": "code",
      "metadata": {
        "colab": {
          "base_uri": "https://localhost:8080/",
          "height": 386
        },
        "id": "Jg8LvG2Fn-VQ",
        "outputId": "7ac0b81b-92a4-49e5-af28-82d076ac1e26"
      },
      "source": [
        "#see a summary of the dataset\r\n",
        "bach.describe(include='all')"
      ],
      "execution_count": 7,
      "outputs": [
        {
          "output_type": "execute_result",
          "data": {
            "text/html": [
              "<div>\n",
              "<style scoped>\n",
              "    .dataframe tbody tr th:only-of-type {\n",
              "        vertical-align: middle;\n",
              "    }\n",
              "\n",
              "    .dataframe tbody tr th {\n",
              "        vertical-align: top;\n",
              "    }\n",
              "\n",
              "    .dataframe thead th {\n",
              "        text-align: right;\n",
              "    }\n",
              "</style>\n",
              "<table border=\"1\" class=\"dataframe\">\n",
              "  <thead>\n",
              "    <tr style=\"text-align: right;\">\n",
              "      <th></th>\n",
              "      <th>choral_ID</th>\n",
              "      <th>event_number</th>\n",
              "      <th>C</th>\n",
              "      <th>C#</th>\n",
              "      <th>D</th>\n",
              "      <th>D#</th>\n",
              "      <th>E</th>\n",
              "      <th>F</th>\n",
              "      <th>F#</th>\n",
              "      <th>G</th>\n",
              "      <th>G#</th>\n",
              "      <th>A</th>\n",
              "      <th>A#</th>\n",
              "      <th>B</th>\n",
              "      <th>bass</th>\n",
              "      <th>meter</th>\n",
              "      <th>chord_label</th>\n",
              "    </tr>\n",
              "  </thead>\n",
              "  <tbody>\n",
              "    <tr>\n",
              "      <th>count</th>\n",
              "      <td>5665</td>\n",
              "      <td>5665.000000</td>\n",
              "      <td>5665</td>\n",
              "      <td>5665</td>\n",
              "      <td>5665</td>\n",
              "      <td>5665</td>\n",
              "      <td>5665</td>\n",
              "      <td>5665</td>\n",
              "      <td>5665</td>\n",
              "      <td>5665</td>\n",
              "      <td>5665</td>\n",
              "      <td>5665</td>\n",
              "      <td>5665</td>\n",
              "      <td>5665</td>\n",
              "      <td>5665</td>\n",
              "      <td>5665.000000</td>\n",
              "      <td>5665</td>\n",
              "    </tr>\n",
              "    <tr>\n",
              "      <th>unique</th>\n",
              "      <td>60</td>\n",
              "      <td>NaN</td>\n",
              "      <td>2</td>\n",
              "      <td>2</td>\n",
              "      <td>2</td>\n",
              "      <td>2</td>\n",
              "      <td>2</td>\n",
              "      <td>2</td>\n",
              "      <td>2</td>\n",
              "      <td>2</td>\n",
              "      <td>2</td>\n",
              "      <td>2</td>\n",
              "      <td>2</td>\n",
              "      <td>2</td>\n",
              "      <td>16</td>\n",
              "      <td>NaN</td>\n",
              "      <td>102</td>\n",
              "    </tr>\n",
              "    <tr>\n",
              "      <th>top</th>\n",
              "      <td>002908ch</td>\n",
              "      <td>NaN</td>\n",
              "      <td>NO</td>\n",
              "      <td>NO</td>\n",
              "      <td>NO</td>\n",
              "      <td>NO</td>\n",
              "      <td>NO</td>\n",
              "      <td>NO</td>\n",
              "      <td>NO</td>\n",
              "      <td>NO</td>\n",
              "      <td>NO</td>\n",
              "      <td>NO</td>\n",
              "      <td>NO</td>\n",
              "      <td>NO</td>\n",
              "      <td>D</td>\n",
              "      <td>NaN</td>\n",
              "      <td>D_M</td>\n",
              "    </tr>\n",
              "    <tr>\n",
              "      <th>freq</th>\n",
              "      <td>207</td>\n",
              "      <td>NaN</td>\n",
              "      <td>3875</td>\n",
              "      <td>4711</td>\n",
              "      <td>3300</td>\n",
              "      <td>4956</td>\n",
              "      <td>3540</td>\n",
              "      <td>4381</td>\n",
              "      <td>4253</td>\n",
              "      <td>3523</td>\n",
              "      <td>5006</td>\n",
              "      <td>3290</td>\n",
              "      <td>4644</td>\n",
              "      <td>3874</td>\n",
              "      <td>689</td>\n",
              "      <td>NaN</td>\n",
              "      <td>503</td>\n",
              "    </tr>\n",
              "    <tr>\n",
              "      <th>mean</th>\n",
              "      <td>NaN</td>\n",
              "      <td>53.374404</td>\n",
              "      <td>NaN</td>\n",
              "      <td>NaN</td>\n",
              "      <td>NaN</td>\n",
              "      <td>NaN</td>\n",
              "      <td>NaN</td>\n",
              "      <td>NaN</td>\n",
              "      <td>NaN</td>\n",
              "      <td>NaN</td>\n",
              "      <td>NaN</td>\n",
              "      <td>NaN</td>\n",
              "      <td>NaN</td>\n",
              "      <td>NaN</td>\n",
              "      <td>NaN</td>\n",
              "      <td>3.134863</td>\n",
              "      <td>NaN</td>\n",
              "    </tr>\n",
              "    <tr>\n",
              "      <th>std</th>\n",
              "      <td>NaN</td>\n",
              "      <td>37.268208</td>\n",
              "      <td>NaN</td>\n",
              "      <td>NaN</td>\n",
              "      <td>NaN</td>\n",
              "      <td>NaN</td>\n",
              "      <td>NaN</td>\n",
              "      <td>NaN</td>\n",
              "      <td>NaN</td>\n",
              "      <td>NaN</td>\n",
              "      <td>NaN</td>\n",
              "      <td>NaN</td>\n",
              "      <td>NaN</td>\n",
              "      <td>NaN</td>\n",
              "      <td>NaN</td>\n",
              "      <td>1.109710</td>\n",
              "      <td>NaN</td>\n",
              "    </tr>\n",
              "    <tr>\n",
              "      <th>min</th>\n",
              "      <td>NaN</td>\n",
              "      <td>1.000000</td>\n",
              "      <td>NaN</td>\n",
              "      <td>NaN</td>\n",
              "      <td>NaN</td>\n",
              "      <td>NaN</td>\n",
              "      <td>NaN</td>\n",
              "      <td>NaN</td>\n",
              "      <td>NaN</td>\n",
              "      <td>NaN</td>\n",
              "      <td>NaN</td>\n",
              "      <td>NaN</td>\n",
              "      <td>NaN</td>\n",
              "      <td>NaN</td>\n",
              "      <td>NaN</td>\n",
              "      <td>1.000000</td>\n",
              "      <td>NaN</td>\n",
              "    </tr>\n",
              "    <tr>\n",
              "      <th>25%</th>\n",
              "      <td>NaN</td>\n",
              "      <td>24.000000</td>\n",
              "      <td>NaN</td>\n",
              "      <td>NaN</td>\n",
              "      <td>NaN</td>\n",
              "      <td>NaN</td>\n",
              "      <td>NaN</td>\n",
              "      <td>NaN</td>\n",
              "      <td>NaN</td>\n",
              "      <td>NaN</td>\n",
              "      <td>NaN</td>\n",
              "      <td>NaN</td>\n",
              "      <td>NaN</td>\n",
              "      <td>NaN</td>\n",
              "      <td>NaN</td>\n",
              "      <td>2.000000</td>\n",
              "      <td>NaN</td>\n",
              "    </tr>\n",
              "    <tr>\n",
              "      <th>50%</th>\n",
              "      <td>NaN</td>\n",
              "      <td>48.000000</td>\n",
              "      <td>NaN</td>\n",
              "      <td>NaN</td>\n",
              "      <td>NaN</td>\n",
              "      <td>NaN</td>\n",
              "      <td>NaN</td>\n",
              "      <td>NaN</td>\n",
              "      <td>NaN</td>\n",
              "      <td>NaN</td>\n",
              "      <td>NaN</td>\n",
              "      <td>NaN</td>\n",
              "      <td>NaN</td>\n",
              "      <td>NaN</td>\n",
              "      <td>NaN</td>\n",
              "      <td>3.000000</td>\n",
              "      <td>NaN</td>\n",
              "    </tr>\n",
              "    <tr>\n",
              "      <th>75%</th>\n",
              "      <td>NaN</td>\n",
              "      <td>75.000000</td>\n",
              "      <td>NaN</td>\n",
              "      <td>NaN</td>\n",
              "      <td>NaN</td>\n",
              "      <td>NaN</td>\n",
              "      <td>NaN</td>\n",
              "      <td>NaN</td>\n",
              "      <td>NaN</td>\n",
              "      <td>NaN</td>\n",
              "      <td>NaN</td>\n",
              "      <td>NaN</td>\n",
              "      <td>NaN</td>\n",
              "      <td>NaN</td>\n",
              "      <td>NaN</td>\n",
              "      <td>4.000000</td>\n",
              "      <td>NaN</td>\n",
              "    </tr>\n",
              "    <tr>\n",
              "      <th>max</th>\n",
              "      <td>NaN</td>\n",
              "      <td>207.000000</td>\n",
              "      <td>NaN</td>\n",
              "      <td>NaN</td>\n",
              "      <td>NaN</td>\n",
              "      <td>NaN</td>\n",
              "      <td>NaN</td>\n",
              "      <td>NaN</td>\n",
              "      <td>NaN</td>\n",
              "      <td>NaN</td>\n",
              "      <td>NaN</td>\n",
              "      <td>NaN</td>\n",
              "      <td>NaN</td>\n",
              "      <td>NaN</td>\n",
              "      <td>NaN</td>\n",
              "      <td>5.000000</td>\n",
              "      <td>NaN</td>\n",
              "    </tr>\n",
              "  </tbody>\n",
              "</table>\n",
              "</div>"
            ],
            "text/plain": [
              "       choral_ID  event_number     C    C#  ...     B  bass        meter chord_label\n",
              "count       5665   5665.000000  5665  5665  ...  5665  5665  5665.000000        5665\n",
              "unique        60           NaN     2     2  ...     2    16          NaN         102\n",
              "top     002908ch           NaN    NO    NO  ...    NO     D          NaN         D_M\n",
              "freq         207           NaN  3875  4711  ...  3874   689          NaN         503\n",
              "mean         NaN     53.374404   NaN   NaN  ...   NaN   NaN     3.134863         NaN\n",
              "std          NaN     37.268208   NaN   NaN  ...   NaN   NaN     1.109710         NaN\n",
              "min          NaN      1.000000   NaN   NaN  ...   NaN   NaN     1.000000         NaN\n",
              "25%          NaN     24.000000   NaN   NaN  ...   NaN   NaN     2.000000         NaN\n",
              "50%          NaN     48.000000   NaN   NaN  ...   NaN   NaN     3.000000         NaN\n",
              "75%          NaN     75.000000   NaN   NaN  ...   NaN   NaN     4.000000         NaN\n",
              "max          NaN    207.000000   NaN   NaN  ...   NaN   NaN     5.000000         NaN\n",
              "\n",
              "[11 rows x 17 columns]"
            ]
          },
          "metadata": {
            "tags": []
          },
          "execution_count": 7
        }
      ]
    },
    {
      "cell_type": "markdown",
      "metadata": {
        "id": "4DpefezhrwDk"
      },
      "source": [
        "<br><br><br>\r\n",
        "\r\n",
        "**Some Observatios:** \r\n",
        "\r\n",
        "* There are a total of 5,665 chords in our dataset.\r\n",
        "* All the data is complete, no missing values in the dataset.\r\n",
        "* We're going to have to hot-encode the Western Scale, and Bass columns.\r\n",
        "* Choral Id and Event Number columns will get dropped since they won't help the fitting process.\r\n",
        "<br><br><br>"
      ]
    },
    {
      "cell_type": "markdown",
      "metadata": {
        "id": "M767DFI_tZ0Y"
      },
      "source": [
        "# 4. Data Visualization\r\n",
        "\r\n",
        "Time to visualize some data."
      ]
    },
    {
      "cell_type": "code",
      "metadata": {
        "id": "Hin7itJpuqCO",
        "colab": {
          "base_uri": "https://localhost:8080/",
          "height": 333
        },
        "outputId": "25c800eb-ff1c-4ae4-8d37-ffd31adbb147"
      },
      "source": [
        "#draw a barplot of meter values\r\n",
        "sns.barplot(x=\"chord_label\", y=\"meter\", data=bach)\r\n",
        "\r\n",
        "#print percentages of meters\r\n",
        "#print(\"Meter:\\n\", bach[\"meter\"].value_counts(normalize = True)*100)\r\n",
        "print(\"Bass:\\n\", bach[\"meter\"][bach[\"meter\"] == 2].value_counts(normalize = True)*100)"
      ],
      "execution_count": 8,
      "outputs": [
        {
          "output_type": "stream",
          "text": [
            "Bass:\n",
            " 2    100.0\n",
            "Name: meter, dtype: float64\n"
          ],
          "name": "stdout"
        },
        {
          "output_type": "display_data",
          "data": {
            "image/png": "[encoded data removed]",
            "text/plain": [
              "<Figure size 432x288 with 1 Axes>"
            ]
          },
          "metadata": {
            "tags": [],
            "needs_background": "light"
          }
        }
      ]
    },
    {
      "cell_type": "markdown",
      "metadata": {
        "id": "oCVV_GcdDlti"
      },
      "source": [
        "According to the graph, it would seem that the \"5\" meter is not used a lot when making chords.\r\n",
        "<br><br><br>"
      ]
    },
    {
      "cell_type": "code",
      "metadata": {
        "colab": {
          "base_uri": "https://localhost:8080/"
        },
        "id": "FFv4tYfTD79X",
        "outputId": "8ae6eb42-6c6c-461e-cf78-647ce4627973"
      },
      "source": [
        "#draw a barplot of bass values\r\n",
        "#sns.barplot(x=\"chord_label\", y=\"bass\", data=bach)\r\n",
        "\r\n",
        "#print percentages of bass\r\n",
        "print(\"Bass:\\n\", bach[\"bass\"].value_counts(normalize = True)*100)"
      ],
      "execution_count": 9,
      "outputs": [
        {
          "output_type": "stream",
          "text": [
            "Bass:\n",
            " D     12.162401\n",
            "A     12.144748\n",
            "G     12.021183\n",
            "E     11.968226\n",
            "C     10.591350\n",
            "F      8.155340\n",
            "F#     8.049426\n",
            "B      7.925861\n",
            "Bb     5.101500\n",
            "C#     3.318623\n",
            "Eb     3.195057\n",
            "G#     2.594881\n",
            "D#     1.235658\n",
            "Ab     0.600177\n",
            "Db     0.529568\n",
            "A#     0.406002\n",
            "Name: bass, dtype: float64\n"
          ],
          "name": "stdout"
        }
      ]
    },
    {
      "cell_type": "markdown",
      "metadata": {
        "id": "x_0xPP9OXtG8"
      },
      "source": [
        "Although, we can't plot the remaining of the columns because they're not numeric, we can still see the percentages for each columns. The most commonly used basses are \"D, A, G, E, C, F\", which is roughly 60% of the bass column.\r\n",
        "<br><br><br>\r\n",
        "So, we're not going to plot the 12 notes of a Western Scale because the percentage doesn't show if those notes were actually useful to creating a chord. The percentages are not related to the chord_labels.\r\n",
        "<br><br><br>"
      ]
    },
    {
      "cell_type": "markdown",
      "metadata": {
        "id": "GEQ8WcHimGxK"
      },
      "source": [
        "#5. Cleaning Data\r\n",
        "\r\n",
        "Time to clean our data, hot-encode the bass and notes columns, and delete the unnecessary columns.\r\n",
        "<br><br><br>"
      ]
    },
    {
      "cell_type": "markdown",
      "metadata": {
        "id": "o1a6wR8sFdrm"
      },
      "source": [
        "###Looking at the data\r\n",
        "Let's see how our data looks!\r\n",
        "<br><br><br>"
      ]
    },
    {
      "cell_type": "code",
      "metadata": {
        "colab": {
          "base_uri": "https://localhost:8080/",
          "height": 386
        },
        "id": "ZvKiQUVio0lU",
        "outputId": "f2518f13-4dff-4eee-fcbd-59ef62921e9f"
      },
      "source": [
        "bach.describe(include=\"all\")"
      ],
      "execution_count": 10,
      "outputs": [
        {
          "output_type": "execute_result",
          "data": {
            "text/html": [
              "<div>\n",
              "<style scoped>\n",
              "    .dataframe tbody tr th:only-of-type {\n",
              "        vertical-align: middle;\n",
              "    }\n",
              "\n",
              "    .dataframe tbody tr th {\n",
              "        vertical-align: top;\n",
              "    }\n",
              "\n",
              "    .dataframe thead th {\n",
              "        text-align: right;\n",
              "    }\n",
              "</style>\n",
              "<table border=\"1\" class=\"dataframe\">\n",
              "  <thead>\n",
              "    <tr style=\"text-align: right;\">\n",
              "      <th></th>\n",
              "      <th>choral_ID</th>\n",
              "      <th>event_number</th>\n",
              "      <th>C</th>\n",
              "      <th>C#</th>\n",
              "      <th>D</th>\n",
              "      <th>D#</th>\n",
              "      <th>E</th>\n",
              "      <th>F</th>\n",
              "      <th>F#</th>\n",
              "      <th>G</th>\n",
              "      <th>G#</th>\n",
              "      <th>A</th>\n",
              "      <th>A#</th>\n",
              "      <th>B</th>\n",
              "      <th>bass</th>\n",
              "      <th>meter</th>\n",
              "      <th>chord_label</th>\n",
              "    </tr>\n",
              "  </thead>\n",
              "  <tbody>\n",
              "    <tr>\n",
              "      <th>count</th>\n",
              "      <td>5665</td>\n",
              "      <td>5665.000000</td>\n",
              "      <td>5665</td>\n",
              "      <td>5665</td>\n",
              "      <td>5665</td>\n",
              "      <td>5665</td>\n",
              "      <td>5665</td>\n",
              "      <td>5665</td>\n",
              "      <td>5665</td>\n",
              "      <td>5665</td>\n",
              "      <td>5665</td>\n",
              "      <td>5665</td>\n",
              "      <td>5665</td>\n",
              "      <td>5665</td>\n",
              "      <td>5665</td>\n",
              "      <td>5665.000000</td>\n",
              "      <td>5665</td>\n",
              "    </tr>\n",
              "    <tr>\n",
              "      <th>unique</th>\n",
              "      <td>60</td>\n",
              "      <td>NaN</td>\n",
              "      <td>2</td>\n",
              "      <td>2</td>\n",
              "      <td>2</td>\n",
              "      <td>2</td>\n",
              "      <td>2</td>\n",
              "      <td>2</td>\n",
              "      <td>2</td>\n",
              "      <td>2</td>\n",
              "      <td>2</td>\n",
              "      <td>2</td>\n",
              "      <td>2</td>\n",
              "      <td>2</td>\n",
              "      <td>16</td>\n",
              "      <td>NaN</td>\n",
              "      <td>102</td>\n",
              "    </tr>\n",
              "    <tr>\n",
              "      <th>top</th>\n",
              "      <td>002908ch</td>\n",
              "      <td>NaN</td>\n",
              "      <td>NO</td>\n",
              "      <td>NO</td>\n",
              "      <td>NO</td>\n",
              "      <td>NO</td>\n",
              "      <td>NO</td>\n",
              "      <td>NO</td>\n",
              "      <td>NO</td>\n",
              "      <td>NO</td>\n",
              "      <td>NO</td>\n",
              "      <td>NO</td>\n",
              "      <td>NO</td>\n",
              "      <td>NO</td>\n",
              "      <td>D</td>\n",
              "      <td>NaN</td>\n",
              "      <td>D_M</td>\n",
              "    </tr>\n",
              "    <tr>\n",
              "      <th>freq</th>\n",
              "      <td>207</td>\n",
              "      <td>NaN</td>\n",
              "      <td>3875</td>\n",
              "      <td>4711</td>\n",
              "      <td>3300</td>\n",
              "      <td>4956</td>\n",
              "      <td>3540</td>\n",
              "      <td>4381</td>\n",
              "      <td>4253</td>\n",
              "      <td>3523</td>\n",
              "      <td>5006</td>\n",
              "      <td>3290</td>\n",
              "      <td>4644</td>\n",
              "      <td>3874</td>\n",
              "      <td>689</td>\n",
              "      <td>NaN</td>\n",
              "      <td>503</td>\n",
              "    </tr>\n",
              "    <tr>\n",
              "      <th>mean</th>\n",
              "      <td>NaN</td>\n",
              "      <td>53.374404</td>\n",
              "      <td>NaN</td>\n",
              "      <td>NaN</td>\n",
              "      <td>NaN</td>\n",
              "      <td>NaN</td>\n",
              "      <td>NaN</td>\n",
              "      <td>NaN</td>\n",
              "      <td>NaN</td>\n",
              "      <td>NaN</td>\n",
              "      <td>NaN</td>\n",
              "      <td>NaN</td>\n",
              "      <td>NaN</td>\n",
              "      <td>NaN</td>\n",
              "      <td>NaN</td>\n",
              "      <td>3.134863</td>\n",
              "      <td>NaN</td>\n",
              "    </tr>\n",
              "    <tr>\n",
              "      <th>std</th>\n",
              "      <td>NaN</td>\n",
              "      <td>37.268208</td>\n",
              "      <td>NaN</td>\n",
              "      <td>NaN</td>\n",
              "      <td>NaN</td>\n",
              "      <td>NaN</td>\n",
              "      <td>NaN</td>\n",
              "      <td>NaN</td>\n",
              "      <td>NaN</td>\n",
              "      <td>NaN</td>\n",
              "      <td>NaN</td>\n",
              "      <td>NaN</td>\n",
              "      <td>NaN</td>\n",
              "      <td>NaN</td>\n",
              "      <td>NaN</td>\n",
              "      <td>1.109710</td>\n",
              "      <td>NaN</td>\n",
              "    </tr>\n",
              "    <tr>\n",
              "      <th>min</th>\n",
              "      <td>NaN</td>\n",
              "      <td>1.000000</td>\n",
              "      <td>NaN</td>\n",
              "      <td>NaN</td>\n",
              "      <td>NaN</td>\n",
              "      <td>NaN</td>\n",
              "      <td>NaN</td>\n",
              "      <td>NaN</td>\n",
              "      <td>NaN</td>\n",
              "      <td>NaN</td>\n",
              "      <td>NaN</td>\n",
              "      <td>NaN</td>\n",
              "      <td>NaN</td>\n",
              "      <td>NaN</td>\n",
              "      <td>NaN</td>\n",
              "      <td>1.000000</td>\n",
              "      <td>NaN</td>\n",
              "    </tr>\n",
              "    <tr>\n",
              "      <th>25%</th>\n",
              "      <td>NaN</td>\n",
              "      <td>24.000000</td>\n",
              "      <td>NaN</td>\n",
              "      <td>NaN</td>\n",
              "      <td>NaN</td>\n",
              "      <td>NaN</td>\n",
              "      <td>NaN</td>\n",
              "      <td>NaN</td>\n",
              "      <td>NaN</td>\n",
              "      <td>NaN</td>\n",
              "      <td>NaN</td>\n",
              "      <td>NaN</td>\n",
              "      <td>NaN</td>\n",
              "      <td>NaN</td>\n",
              "      <td>NaN</td>\n",
              "      <td>2.000000</td>\n",
              "      <td>NaN</td>\n",
              "    </tr>\n",
              "    <tr>\n",
              "      <th>50%</th>\n",
              "      <td>NaN</td>\n",
              "      <td>48.000000</td>\n",
              "      <td>NaN</td>\n",
              "      <td>NaN</td>\n",
              "      <td>NaN</td>\n",
              "      <td>NaN</td>\n",
              "      <td>NaN</td>\n",
              "      <td>NaN</td>\n",
              "      <td>NaN</td>\n",
              "      <td>NaN</td>\n",
              "      <td>NaN</td>\n",
              "      <td>NaN</td>\n",
              "      <td>NaN</td>\n",
              "      <td>NaN</td>\n",
              "      <td>NaN</td>\n",
              "      <td>3.000000</td>\n",
              "      <td>NaN</td>\n",
              "    </tr>\n",
              "    <tr>\n",
              "      <th>75%</th>\n",
              "      <td>NaN</td>\n",
              "      <td>75.000000</td>\n",
              "      <td>NaN</td>\n",
              "      <td>NaN</td>\n",
              "      <td>NaN</td>\n",
              "      <td>NaN</td>\n",
              "      <td>NaN</td>\n",
              "      <td>NaN</td>\n",
              "      <td>NaN</td>\n",
              "      <td>NaN</td>\n",
              "      <td>NaN</td>\n",
              "      <td>NaN</td>\n",
              "      <td>NaN</td>\n",
              "      <td>NaN</td>\n",
              "      <td>NaN</td>\n",
              "      <td>4.000000</td>\n",
              "      <td>NaN</td>\n",
              "    </tr>\n",
              "    <tr>\n",
              "      <th>max</th>\n",
              "      <td>NaN</td>\n",
              "      <td>207.000000</td>\n",
              "      <td>NaN</td>\n",
              "      <td>NaN</td>\n",
              "      <td>NaN</td>\n",
              "      <td>NaN</td>\n",
              "      <td>NaN</td>\n",
              "      <td>NaN</td>\n",
              "      <td>NaN</td>\n",
              "      <td>NaN</td>\n",
              "      <td>NaN</td>\n",
              "      <td>NaN</td>\n",
              "      <td>NaN</td>\n",
              "      <td>NaN</td>\n",
              "      <td>NaN</td>\n",
              "      <td>5.000000</td>\n",
              "      <td>NaN</td>\n",
              "    </tr>\n",
              "  </tbody>\n",
              "</table>\n",
              "</div>"
            ],
            "text/plain": [
              "       choral_ID  event_number     C    C#  ...     B  bass        meter chord_label\n",
              "count       5665   5665.000000  5665  5665  ...  5665  5665  5665.000000        5665\n",
              "unique        60           NaN     2     2  ...     2    16          NaN         102\n",
              "top     002908ch           NaN    NO    NO  ...    NO     D          NaN         D_M\n",
              "freq         207           NaN  3875  4711  ...  3874   689          NaN         503\n",
              "mean         NaN     53.374404   NaN   NaN  ...   NaN   NaN     3.134863         NaN\n",
              "std          NaN     37.268208   NaN   NaN  ...   NaN   NaN     1.109710         NaN\n",
              "min          NaN      1.000000   NaN   NaN  ...   NaN   NaN     1.000000         NaN\n",
              "25%          NaN     24.000000   NaN   NaN  ...   NaN   NaN     2.000000         NaN\n",
              "50%          NaN     48.000000   NaN   NaN  ...   NaN   NaN     3.000000         NaN\n",
              "75%          NaN     75.000000   NaN   NaN  ...   NaN   NaN     4.000000         NaN\n",
              "max          NaN    207.000000   NaN   NaN  ...   NaN   NaN     5.000000         NaN\n",
              "\n",
              "[11 rows x 17 columns]"
            ]
          },
          "metadata": {
            "tags": []
          },
          "execution_count": 10
        }
      ]
    },
    {
      "cell_type": "markdown",
      "metadata": {
        "id": "T5JZr3PEF-U6"
      },
      "source": [
        "<br><br>\r\n",
        "* We need to drop `choral_ID`, and `event_number`.\r\n",
        "* We need to hot-encode all the 12 notes.\r\n",
        "* We need to hot-encode the `bass` column as well.\r\n",
        "<br><br><br>"
      ]
    },
    {
      "cell_type": "markdown",
      "metadata": {
        "id": "Y9BLsqylGrM_"
      },
      "source": [
        "#### Choral Id and Event Number"
      ]
    },
    {
      "cell_type": "code",
      "metadata": {
        "id": "i_64ben6Gb0i"
      },
      "source": [
        "# We'll start off by dropping the choral_id and event_number columns,\r\n",
        "# since not a lot of useful information can be extracted from it\r\n",
        "bach = bach.drop(['choral_ID'], axis=1)\r\n",
        "bach = bach.drop(['event_number'], axis=1)"
      ],
      "execution_count": 11,
      "outputs": []
    },
    {
      "cell_type": "code",
      "metadata": {
        "colab": {
          "base_uri": "https://localhost:8080/",
          "height": 202
        },
        "id": "IkaQR1ruHkt9",
        "outputId": "d0c613f7-6718-4715-b289-15a59c626bce"
      },
      "source": [
        "bach.sample(5)"
      ],
      "execution_count": 12,
      "outputs": [
        {
          "output_type": "execute_result",
          "data": {
            "text/html": [
              "<div>\n",
              "<style scoped>\n",
              "    .dataframe tbody tr th:only-of-type {\n",
              "        vertical-align: middle;\n",
              "    }\n",
              "\n",
              "    .dataframe tbody tr th {\n",
              "        vertical-align: top;\n",
              "    }\n",
              "\n",
              "    .dataframe thead th {\n",
              "        text-align: right;\n",
              "    }\n",
              "</style>\n",
              "<table border=\"1\" class=\"dataframe\">\n",
              "  <thead>\n",
              "    <tr style=\"text-align: right;\">\n",
              "      <th></th>\n",
              "      <th>C</th>\n",
              "      <th>C#</th>\n",
              "      <th>D</th>\n",
              "      <th>D#</th>\n",
              "      <th>E</th>\n",
              "      <th>F</th>\n",
              "      <th>F#</th>\n",
              "      <th>G</th>\n",
              "      <th>G#</th>\n",
              "      <th>A</th>\n",
              "      <th>A#</th>\n",
              "      <th>B</th>\n",
              "      <th>bass</th>\n",
              "      <th>meter</th>\n",
              "      <th>chord_label</th>\n",
              "    </tr>\n",
              "  </thead>\n",
              "  <tbody>\n",
              "    <tr>\n",
              "      <th>431</th>\n",
              "      <td>YES</td>\n",
              "      <td>NO</td>\n",
              "      <td>NO</td>\n",
              "      <td>YES</td>\n",
              "      <td>NO</td>\n",
              "      <td>NO</td>\n",
              "      <td>NO</td>\n",
              "      <td>NO</td>\n",
              "      <td>NO</td>\n",
              "      <td>YES</td>\n",
              "      <td>NO</td>\n",
              "      <td>NO</td>\n",
              "      <td>A</td>\n",
              "      <td>2</td>\n",
              "      <td>F_M</td>\n",
              "    </tr>\n",
              "    <tr>\n",
              "      <th>4709</th>\n",
              "      <td>NO</td>\n",
              "      <td>NO</td>\n",
              "      <td>YES</td>\n",
              "      <td>NO</td>\n",
              "      <td>NO</td>\n",
              "      <td>NO</td>\n",
              "      <td>YES</td>\n",
              "      <td>NO</td>\n",
              "      <td>NO</td>\n",
              "      <td>YES</td>\n",
              "      <td>NO</td>\n",
              "      <td>NO</td>\n",
              "      <td>D</td>\n",
              "      <td>3</td>\n",
              "      <td>D_M</td>\n",
              "    </tr>\n",
              "    <tr>\n",
              "      <th>3315</th>\n",
              "      <td>NO</td>\n",
              "      <td>NO</td>\n",
              "      <td>YES</td>\n",
              "      <td>NO</td>\n",
              "      <td>NO</td>\n",
              "      <td>YES</td>\n",
              "      <td>NO</td>\n",
              "      <td>NO</td>\n",
              "      <td>NO</td>\n",
              "      <td>NO</td>\n",
              "      <td>YES</td>\n",
              "      <td>NO</td>\n",
              "      <td>Bb</td>\n",
              "      <td>4</td>\n",
              "      <td>BbM</td>\n",
              "    </tr>\n",
              "    <tr>\n",
              "      <th>4945</th>\n",
              "      <td>YES</td>\n",
              "      <td>NO</td>\n",
              "      <td>NO</td>\n",
              "      <td>YES</td>\n",
              "      <td>NO</td>\n",
              "      <td>YES</td>\n",
              "      <td>NO</td>\n",
              "      <td>NO</td>\n",
              "      <td>NO</td>\n",
              "      <td>YES</td>\n",
              "      <td>NO</td>\n",
              "      <td>NO</td>\n",
              "      <td>F</td>\n",
              "      <td>2</td>\n",
              "      <td>F_M</td>\n",
              "    </tr>\n",
              "    <tr>\n",
              "      <th>4396</th>\n",
              "      <td>NO</td>\n",
              "      <td>NO</td>\n",
              "      <td>NO</td>\n",
              "      <td>YES</td>\n",
              "      <td>NO</td>\n",
              "      <td>YES</td>\n",
              "      <td>NO</td>\n",
              "      <td>NO</td>\n",
              "      <td>YES</td>\n",
              "      <td>NO</td>\n",
              "      <td>YES</td>\n",
              "      <td>NO</td>\n",
              "      <td>Eb</td>\n",
              "      <td>2</td>\n",
              "      <td>EbM</td>\n",
              "    </tr>\n",
              "  </tbody>\n",
              "</table>\n",
              "</div>"
            ],
            "text/plain": [
              "        C  C#    D   D#   E    F  ...    A   A#   B bass meter chord_label\n",
              "431   YES  NO   NO  YES  NO   NO  ...  YES   NO  NO    A     2         F_M\n",
              "4709   NO  NO  YES   NO  NO   NO  ...  YES   NO  NO    D     3         D_M\n",
              "3315   NO  NO  YES   NO  NO  YES  ...   NO  YES  NO   Bb     4         BbM\n",
              "4945  YES  NO   NO  YES  NO  YES  ...  YES   NO  NO    F     2         F_M\n",
              "4396   NO  NO   NO  YES  NO  YES  ...   NO  YES  NO   Eb     2         EbM\n",
              "\n",
              "[5 rows x 15 columns]"
            ]
          },
          "metadata": {
            "tags": []
          },
          "execution_count": 12
        }
      ]
    },
    {
      "cell_type": "markdown",
      "metadata": {
        "id": "P4R39lgHVN5E"
      },
      "source": [
        "## One-hot encoding all the data\r\n",
        "<br>\r\n",
        "\r\n",
        "* We're going to replace all the wester scale notes to 1's and 0's\r\n",
        "* We'll then hot-encode the bass column using `pd.dummies()`\r\n",
        "* Repeat last step but for meter column\r\n",
        "\r\n",
        "I chose `pd.dummies()` because I found it easier to split the data as a DataFrame, and not as a Sparse Matrix which I know is more utilized in Machine Learning. I might change it in the future, once I get more acquanited with the Sklearn's One-hot encoder. I do know how to use it, I just need to figure out how to split the data 4-ways."
      ]
    },
    {
      "cell_type": "code",
      "metadata": {
        "id": "E7wIBYpDVQBV"
      },
      "source": [
        "# have a quick backup just in case\r\n",
        "backup_bach = bach\r\n",
        "\r\n",
        "# one-hot encode the notes of a Western Scale\r\n",
        "bach = bach.replace( to_replace = {\"NO\" : 0, \"YES\" : 1})\r\n",
        "\r\n",
        "# one-hot encode the bass column\r\n",
        "ohe = pd.get_dummies(bach['bass'], prefix=\"bass\")\r\n",
        "bach = bach.drop('bass', axis=1)\r\n",
        "bach = bach.join(ohe)\r\n",
        "\r\n",
        "# one-hot encode the meter column\r\n",
        "ohe2 = pd.get_dummies(bach['meter'], prefix=\"level\")\r\n",
        "bach = bach.drop('meter', axis=1)\r\n",
        "bach = bach.join(ohe2)"
      ],
      "execution_count": 15,
      "outputs": []
    },
    {
      "cell_type": "markdown",
      "metadata": {
        "id": "jWMKdLSLahAt"
      },
      "source": [
        "<br>\r\n",
        "\r\n",
        "##Split the data\r\n",
        "<br>"
      ]
    },
    {
      "cell_type": "code",
      "metadata": {
        "id": "71AIPAm-auHe"
      },
      "source": [
        "# split the features and labels columns\r\n",
        "bFeatures = bach.drop('chord_label', axis=1)\r\n",
        "bLabels = bach['chord_label']\r\n",
        "\r\n",
        "#split the features/labels into a test and train dataframe\r\n",
        "from sklearn.model_selection import train_test_split\r\n",
        "bach_train_features, bach_test_features, bach_train_labels, bach_test_labels = train_test_split(bFeatures, bLabels, test_size = 0.2, random_state=42)"
      ],
      "execution_count": 16,
      "outputs": []
    },
    {
      "cell_type": "markdown",
      "metadata": {
        "id": "n4VcgNmFXEku"
      },
      "source": [
        "<br><br><br>\r\n",
        "#6. Choosing the best model\r\n",
        "\r\n",
        "I will be testing the following models learned in class:\r\n",
        "\r\n",
        "* kNN Euclidean\r\n",
        "* kNN Manhattan\r\n",
        "* Decision Tree\r\n",
        "* Decision Tree with Cross Validation\r\n",
        "\r\n",
        "For each model, we set the model, fit it with 80% of our training data, predict for 20% of the training data and check the accuracy.\r\n",
        "<br><br><br>"
      ]
    },
    {
      "cell_type": "code",
      "metadata": {
        "colab": {
          "base_uri": "https://localhost:8080/"
        },
        "id": "I-Jc3G83XhZ2",
        "outputId": "1196a3cb-6c47-4ee7-bbf8-072ca4c595b2"
      },
      "source": [
        "# kNN Euclidean\r\n",
        "from sklearn.neighbors import KNeighborsClassifier\r\n",
        "knn = KNeighborsClassifier(n_neighbors=3)\r\n",
        "knn.fit(bach_train_features, bach_train_labels)\r\n",
        "predictions = knn.predict(bach_test_features)\r\n",
        "\r\n",
        "from sklearn.metrics import accuracy_score\r\n",
        "accuracy_score(bach_test_labels, predictions)"
      ],
      "execution_count": 17,
      "outputs": [
        {
          "output_type": "execute_result",
          "data": {
            "text/plain": [
              "0.6902030008826125"
            ]
          },
          "metadata": {
            "tags": []
          },
          "execution_count": 17
        }
      ]
    },
    {
      "cell_type": "code",
      "metadata": {
        "colab": {
          "base_uri": "https://localhost:8080/"
        },
        "id": "8w3q5JcFYuKX",
        "outputId": "48faeaa1-efe7-4bbf-f833-feb5e53c0ef2"
      },
      "source": [
        "# Knn Manhattan\r\n",
        "from sklearn.neighbors import KNeighborsClassifier\r\n",
        "knn = KNeighborsClassifier(n_neighbors=3, p=1)\r\n",
        "knn.fit(bach_train_features, bach_train_labels)\r\n",
        "predictions = knn.predict(bach_test_features)\r\n",
        "\r\n",
        "from sklearn.metrics import accuracy_score\r\n",
        "accuracy_score(bach_test_labels, predictions)"
      ],
      "execution_count": 18,
      "outputs": [
        {
          "output_type": "execute_result",
          "data": {
            "text/plain": [
              "0.6902030008826125"
            ]
          },
          "metadata": {
            "tags": []
          },
          "execution_count": 18
        }
      ]
    },
    {
      "cell_type": "code",
      "metadata": {
        "colab": {
          "base_uri": "https://localhost:8080/"
        },
        "id": "-UjuuAiuYxa8",
        "outputId": "5e7e7bd1-7023-4094-feae-6bc94b926766"
      },
      "source": [
        "# Decision Tree\r\n",
        "from sklearn import tree\r\n",
        "clf = tree.DecisionTreeClassifier(criterion='entropy')\r\n",
        "clf.fit(bach_train_features, bach_train_labels)\r\n",
        "predictions = clf.predict(bach_test_features)\r\n",
        "\r\n",
        "from sklearn.metrics import accuracy_score\r\n",
        "accuracy_score(bach_test_labels, predictions)"
      ],
      "execution_count": 19,
      "outputs": [
        {
          "output_type": "execute_result",
          "data": {
            "text/plain": [
              "0.7193292144748455"
            ]
          },
          "metadata": {
            "tags": []
          },
          "execution_count": 19
        }
      ]
    },
    {
      "cell_type": "code",
      "metadata": {
        "colab": {
          "base_uri": "https://localhost:8080/"
        },
        "id": "6HxyYsRKYzxB",
        "outputId": "3e8179e9-3018-4eaf-a1d3-5cb6a0123992"
      },
      "source": [
        "# Decision Tree with cross validation\r\n",
        "from sklearn.model_selection import GridSearchCV\r\n",
        "hyperparam_grid = [\r\n",
        "    {'max_depth': [3, 4, 5, 6, 7, 8, 9, 10, 11, 12],\r\n",
        "     'min_samples_split': [2,3,4, 5]}\r\n",
        "  ]\r\n",
        "\r\n",
        "from sklearn import tree\r\n",
        "clf = tree.DecisionTreeClassifier(criterion='entropy')\r\n",
        "grid_search = GridSearchCV(clf, hyperparam_grid, cv=10)\r\n",
        "grid_search.fit(bach_train_features, bach_train_labels)\r\n",
        "\r\n",
        "from sklearn.metrics import accuracy_score\r\n",
        "predictions = grid_search.best_estimator_.predict(bach_test_features)\r\n",
        "accuracy_score(bach_test_labels, predictions)"
      ],
      "execution_count": 20,
      "outputs": [
        {
          "output_type": "execute_result",
          "data": {
            "text/plain": [
              "0.7122683142100618"
            ]
          },
          "metadata": {
            "tags": []
          },
          "execution_count": 20
        }
      ]
    },
    {
      "cell_type": "markdown",
      "metadata": {
        "id": "Uamh9WXrbH3P"
      },
      "source": [
        "We see that the 2 ways of training the Decision Tree classifier yield almost the same result. However, the kNN classifier are not so far from the Decision Tree classifiers.<br><br>\r\n",
        "The Decision Tree classifier yields the best result."
      ]
    }
  ]
}