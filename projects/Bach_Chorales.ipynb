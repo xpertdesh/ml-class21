{
  "nbformat": 4,
  "nbformat_minor": 0,
  "metadata": {
    "colab": {
      "name": "Bach Chorales.ipynb",
      "provenance": [],
      "authorship_tag": "ABX9TyNi93dhXhUe1FDhfDnszzPs",
      "include_colab_link": true
    },
    "kernelspec": {
      "name": "python3",
      "display_name": "Python 3"
    }
  },
  "cells": [
    {
      "cell_type": "markdown",
      "metadata": {
        "id": "view-in-github",
        "colab_type": "text"
      },
      "source": [
        "<a href=\"https://colab.research.google.com/github/xpertdesh/ml-class21/blob/main/projects/Bach_Chorales.ipynb\" target=\"_parent\"><img src=\"https://colab.research.google.com/assets/colab-badge.svg\" alt=\"Open In Colab\"/></a>"
      ]
    },
    {
      "cell_type": "markdown",
      "metadata": {
        "id": "OSEGjVWzi4wS"
      },
      "source": [
        "# <center>Bach Chorales Project</center>\r\n",
        "---\r\n",
        "<br>\r\n",
        "This projects consists of predicting the chords that Bach used based off from a set of notes. Johann Sebastian Bach was a German composer and musician of the Baroque period.<br> \r\n",
        "Fun fact: This is the second time in my life hearing about Bach. First time, was for 326 when Stephen made us read that humungous book GEB.<br><br>\r\n",
        "Before looking at the data set. I understand there are 3 columns of actual data, and 2 that wouldn't be used in the project.\r\n",
        "\r\n",
        "### Ok let's get started!\r\n"
      ]
    },
    {
      "cell_type": "markdown",
      "metadata": {
        "id": "r9WkKUAgn40r"
      },
      "source": [
        "First we have to do is to download the zip file and put into a directory.\r\n",
        "\r\n",
        "https://raw.githubusercontent.com/zacharski/ml-class/master/data/bach.zip\r\n",
        "\r\n",
        "*   First,  we will download and unzip the file\r\n",
        "*   Then, we will import the neccessary libraries in order to take a look at the data\r\n",
        "*   Finally, we will explore and analyze the data\r\n",
        "\r\n"
      ]
    },
    {
      "cell_type": "code",
      "metadata": {
        "colab": {
          "base_uri": "https://localhost:8080/"
        },
        "id": "szwADf5nwZKy",
        "outputId": "0892614a-3b47-4331-d4c0-233f46ce245f"
      },
      "source": [
        "!wget https://raw.githubusercontent.com/zacharski/ml-class/master/data/bach.zip"
      ],
      "execution_count": 52,
      "outputs": [
        {
          "output_type": "stream",
          "text": [
            "--2021-02-21 23:02:48--  https://raw.githubusercontent.com/zacharski/ml-class/master/data/bach.zip\n",
            "Resolving raw.githubusercontent.com (raw.githubusercontent.com)... 185.199.109.133, 185.199.110.133, 185.199.111.133, ...\n",
            "Connecting to raw.githubusercontent.com (raw.githubusercontent.com)|185.199.109.133|:443... connected.\n",
            "HTTP request sent, awaiting response... 200 OK\n",
            "Length: 41761 (41K) [application/zip]\n",
            "Saving to: ‘bach.zip’\n",
            "\n",
            "bach.zip            100%[===================>]  40.78K  --.-KB/s    in 0.03s   \n",
            "\n",
            "2021-02-21 23:02:48 (1.25 MB/s) - ‘bach.zip’ saved [41761/41761]\n",
            "\n"
          ],
          "name": "stdout"
        }
      ]
    },
    {
      "cell_type": "code",
      "metadata": {
        "colab": {
          "base_uri": "https://localhost:8080/"
        },
        "id": "oDVu1t9Mzgsg",
        "outputId": "63b4e86a-fd91-417e-fd38-dc0e580f4900"
      },
      "source": [
        "! unzip bach.zip -d bach_chorales"
      ],
      "execution_count": 71,
      "outputs": [
        {
          "output_type": "stream",
          "text": [
            "Archive:  bach.zip\n",
            "  inflating: bach_chorales/bach.csv  \n"
          ],
          "name": "stdout"
        }
      ]
    },
    {
      "cell_type": "markdown",
      "metadata": {
        "id": "O_4O-5403ASP"
      },
      "source": [
        "The previous step actually took me quite a while but that's fine.<br><br>\r\n",
        "\r\n",
        "\r\n",
        "---\r\n",
        "\r\n",
        "\r\n",
        "<br>Ok, with that out of the way. We can now import the neccessary libraries."
      ]
    },
    {
      "cell_type": "code",
      "metadata": {
        "id": "gFqbR2Aw4OpD"
      },
      "source": [
        "#data analysis libraries \r\n",
        "import numpy as np\r\n",
        "import pandas as pd\r\n",
        "\r\n",
        "#visualization libraries\r\n",
        "import matplotlib.pyplot as plt\r\n",
        "import seaborn as sns\r\n",
        "%matplotlib inline\r\n",
        "\r\n",
        "#ignore warnings\r\n",
        "import warnings\r\n",
        "warnings.filterwarnings('ignore')"
      ],
      "execution_count": 80,
      "outputs": []
    },
    {
      "cell_type": "markdown",
      "metadata": {
        "id": "7VhnBUPq5dAn"
      },
      "source": [
        "\r\n",
        "\r\n",
        "---\r\n",
        "\r\n",
        "\r\n",
        "Finally, we can view the data and analyze it."
      ]
    },
    {
      "cell_type": "code",
      "metadata": {
        "id": "4B6mejDE5niM"
      },
      "source": [
        ""
      ],
      "execution_count": null,
      "outputs": []
    }
  ]
}