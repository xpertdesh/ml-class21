{
  "nbformat": 4,
  "nbformat_minor": 0,
  "metadata": {
    "colab": {
      "name": "bach_dummies.ipynb",
      "provenance": [],
      "authorship_tag": "ABX9TyPJfcoRZsVYIe36LdIKgVNI",
      "include_colab_link": true
    },
    "kernelspec": {
      "name": "python3",
      "display_name": "Python 3"
    }
  },
  "cells": [
    {
      "cell_type": "markdown",
      "metadata": {
        "id": "view-in-github",
        "colab_type": "text"
      },
      "source": [
        "<a href=\"https://colab.research.google.com/github/xpertdesh/ml-class21/blob/main/notes/bach_dummies.ipynb\" target=\"_parent\"><img src=\"https://colab.research.google.com/assets/colab-badge.svg\" alt=\"Open In Colab\"/></a>"
      ]
    },
    {
      "cell_type": "code",
      "metadata": {
        "id": "szwADf5nwZKy"
      },
      "source": [
        "! wget https://raw.githubusercontent.com/zacharski/ml-class/master/data/bach.zip"
      ],
      "execution_count": null,
      "outputs": []
    },
    {
      "cell_type": "code",
      "metadata": {
        "id": "oDVu1t9Mzgsg"
      },
      "source": [
        "! unzip bach.zip -d bach_chorales"
      ],
      "execution_count": null,
      "outputs": []
    },
    {
      "cell_type": "markdown",
      "metadata": {
        "id": "Pw72hHREiYls"
      },
      "source": [
        "##1. Import Neccessary Libraries\r\n",
        "<br><br><br>"
      ]
    },
    {
      "cell_type": "code",
      "metadata": {
        "id": "gFqbR2Aw4OpD"
      },
      "source": [
        "#data analysis libraries \r\n",
        "import numpy as np\r\n",
        "import pandas as pd\r\n",
        "\r\n",
        "#visualization libraries\r\n",
        "import matplotlib.pyplot as plt\r\n",
        "import seaborn as sns\r\n",
        "%matplotlib inline\r\n",
        "\r\n",
        "#ignore warnings\r\n",
        "import warnings\r\n",
        "warnings.filterwarnings('ignore')"
      ],
      "execution_count": 5,
      "outputs": []
    },
    {
      "cell_type": "code",
      "metadata": {
        "id": "4B6mejDE5niM"
      },
      "source": [
        "bach = pd.read_csv('bach_chorales/bach.csv')\r\n",
        "bach.describe(include='all')"
      ],
      "execution_count": null,
      "outputs": []
    },
    {
      "cell_type": "markdown",
      "metadata": {
        "id": "GEQ8WcHimGxK"
      },
      "source": [
        "#5. Cleaning Data\r\n",
        "\r\n",
        "Time to clean our data, hot-encode the bass and notes columns, and delete the unnecessary columns.\r\n",
        "<br><br><br>"
      ]
    },
    {
      "cell_type": "markdown",
      "metadata": {
        "id": "T5JZr3PEF-U6"
      },
      "source": [
        "<br><br>\r\n",
        "* We need to drop `choral_ID`, and `event_number`.\r\n",
        "* We need to hot-encode all the 12 notes.\r\n",
        "* We need to hot-encode the `bass` column as well.\r\n",
        "<br><br><br>"
      ]
    },
    {
      "cell_type": "markdown",
      "metadata": {
        "id": "Y9BLsqylGrM_"
      },
      "source": [
        "#### Choral Id and Event Number"
      ]
    },
    {
      "cell_type": "code",
      "metadata": {
        "id": "i_64ben6Gb0i"
      },
      "source": [
        "# We'll start off by dropping the choral_id and event_number columns,\r\n",
        "# since not a lot of useful information can be extracted from it\r\n",
        "bach = bach.drop(['choral_ID'], axis=1)\r\n",
        "bach = bach.drop(['event_number'], axis=1)"
      ],
      "execution_count": 13,
      "outputs": []
    },
    {
      "cell_type": "markdown",
      "metadata": {
        "id": "i_XTFXnmioS0"
      },
      "source": [
        "## One-hot encoding all the data\r\n",
        "<br><br><br>\r\n",
        "Using dummies"
      ]
    },
    {
      "cell_type": "code",
      "metadata": {
        "id": "93PNvPMROCGd"
      },
      "source": [
        "#create a new Dataframe to test out different methods\r\n",
        "attempt1 = bach\r\n",
        "\r\n",
        "# one-hot encode the notes of a Western Scale\r\n",
        "attempt1 = attempt1.replace( to_replace = {\"NO\" : 0, \"YES\" : 1})\r\n",
        "\r\n",
        "# one-hot encode the bass column\r\n",
        "ohe = pd.get_dummies(attempt1['bass'], prefix=\"bass\")\r\n",
        "attempt1 = attempt1.drop('bass', axis=1)\r\n",
        "attempt1 = attempt1.join(ohe)\r\n",
        "\r\n",
        "# one-hot encode the meter column\r\n",
        "ohe2 = pd.get_dummies(attempt1['meter'], prefix=\"level\")\r\n",
        "attempt1 = attempt1.drop('meter', axis=1)\r\n",
        "attempt1 = attempt1.join(ohe2)"
      ],
      "execution_count": 66,
      "outputs": []
    },
    {
      "cell_type": "code",
      "metadata": {
        "id": "WXqJOEQpjRIW"
      },
      "source": [
        "# split the features and labels columns\r\n",
        "bFeatures = attempt1.drop('chord_label', axis=1)\r\n",
        "bLabels = attempt1['chord_label']\r\n",
        "\r\n",
        "#split the features/labels into a test and train dataframe\r\n",
        "from sklearn.model_selection import train_test_split\r\n",
        "bach_train_features, bach_test_features, bach_train_labels, bach_test_labels = train_test_split(bFeatures, bLabels, test_size = 0.2, random_state=42)"
      ],
      "execution_count": 67,
      "outputs": []
    },
    {
      "cell_type": "markdown",
      "metadata": {
        "id": "JaXFTfbYozqK"
      },
      "source": [
        "<br><br><br>\r\n",
        "## Testing different models\r\n",
        "<br><br><br>"
      ]
    },
    {
      "cell_type": "code",
      "metadata": {
        "colab": {
          "base_uri": "https://localhost:8080/"
        },
        "id": "iww3zxx5pvB8",
        "outputId": "b00ce045-a759-44e0-d507-9b4922e02b84"
      },
      "source": [
        "# kNN Euclidean\r\n",
        "from sklearn.neighbors import KNeighborsClassifier\r\n",
        "knn = KNeighborsClassifier(n_neighbors=3)\r\n",
        "knn.fit(bach_train_features, bach_train_labels)\r\n",
        "predictions = knn.predict(bach_test_features)\r\n",
        "\r\n",
        "from sklearn.metrics import accuracy_score\r\n",
        "accuracy_score(bach_test_labels, predictions)"
      ],
      "execution_count": 71,
      "outputs": [
        {
          "output_type": "execute_result",
          "data": {
            "text/plain": [
              "0.6902030008826125"
            ]
          },
          "metadata": {
            "tags": []
          },
          "execution_count": 71
        }
      ]
    },
    {
      "cell_type": "code",
      "metadata": {
        "colab": {
          "base_uri": "https://localhost:8080/"
        },
        "id": "OGMd0-4brWOx",
        "outputId": "4f95cdf1-c457-4483-fc41-026fdffe0943"
      },
      "source": [
        "# Knn Manhattan\r\n",
        "from sklearn.neighbors import KNeighborsClassifier\r\n",
        "knn = KNeighborsClassifier(n_neighbors=3, p=1)\r\n",
        "knn.fit(bach_train_features, bach_train_labels)\r\n",
        "predictions = knn.predict(bach_test_features)\r\n",
        "\r\n",
        "from sklearn.metrics import accuracy_score\r\n",
        "accuracy_score(bach_test_labels, predictions)"
      ],
      "execution_count": 69,
      "outputs": [
        {
          "output_type": "execute_result",
          "data": {
            "text/plain": [
              "0.6902030008826125"
            ]
          },
          "metadata": {
            "tags": []
          },
          "execution_count": 69
        }
      ]
    },
    {
      "cell_type": "code",
      "metadata": {
        "colab": {
          "base_uri": "https://localhost:8080/"
        },
        "id": "5pNzsD92rrnQ",
        "outputId": "11b2f5e5-4833-4927-e1ea-4e1d5527dad3"
      },
      "source": [
        "# Decision Tree\r\n",
        "from sklearn import tree\r\n",
        "clf = tree.DecisionTreeClassifier(criterion='entropy')\r\n",
        "clf.fit(bach_train_features, bach_train_labels)\r\n",
        "predictions = clf.predict(bach_test_features)\r\n",
        "\r\n",
        "from sklearn.metrics import accuracy_score\r\n",
        "accuracy_score(bach_test_labels, predictions)"
      ],
      "execution_count": 72,
      "outputs": [
        {
          "output_type": "execute_result",
          "data": {
            "text/plain": [
              "0.7157987643424537"
            ]
          },
          "metadata": {
            "tags": []
          },
          "execution_count": 72
        }
      ]
    },
    {
      "cell_type": "code",
      "metadata": {
        "colab": {
          "base_uri": "https://localhost:8080/"
        },
        "id": "mjIVnmgP2NOH",
        "outputId": "b6e5a672-0110-44ab-c608-58cebc69d981"
      },
      "source": [
        "# Decision Tree with cross validation\r\n",
        "from sklearn.model_selection import GridSearchCV\r\n",
        "hyperparam_grid = [\r\n",
        "    {'max_depth': [3, 4, 5, 6, 7, 8, 9, 10, 11, 12],\r\n",
        "     'min_samples_split': [2,3,4, 5]}\r\n",
        "  ]\r\n",
        "\r\n",
        "from sklearn import tree\r\n",
        "clf = tree.DecisionTreeClassifier(criterion='entropy')\r\n",
        "grid_search = GridSearchCV(clf, hyperparam_grid, cv=10)\r\n",
        "grid_search.fit(bach_train_features, bach_train_labels)\r\n",
        "\r\n",
        "from sklearn.metrics import accuracy_score\r\n",
        "predictions = grid_search.best_estimator_.predict(bach_test_features)\r\n",
        "accuracy_score(bach_test_labels, predictions)"
      ],
      "execution_count": 73,
      "outputs": [
        {
          "output_type": "execute_result",
          "data": {
            "text/plain": [
              "0.7096204766107679"
            ]
          },
          "metadata": {
            "tags": []
          },
          "execution_count": 73
        }
      ]
    }
  ]
}