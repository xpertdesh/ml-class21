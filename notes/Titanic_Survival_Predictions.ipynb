{
  "nbformat": 4,
  "nbformat_minor": 0,
  "metadata": {
    "colab": {
      "name": "Titanic Survival Predictions.ipynb",
      "provenance": [],
      "authorship_tag": "ABX9TyMiZw2Ta5+ealbR3l3hB45P",
      "include_colab_link": true
    },
    "kernelspec": {
      "name": "python3",
      "display_name": "Python 3"
    }
  },
  "cells": [
    {
      "cell_type": "markdown",
      "metadata": {
        "id": "view-in-github",
        "colab_type": "text"
      },
      "source": [
        "<a href=\"https://colab.research.google.com/github/xpertdesh/ml-class21/blob/main/notes/Titanic_Survival_Predictions.ipynb\" target=\"_parent\"><img src=\"https://colab.research.google.com/assets/colab-badge.svg\" alt=\"Open In Colab\"/></a>"
      ]
    },
    {
      "cell_type": "markdown",
      "metadata": {
        "id": "xJpM_u3SBQnW"
      },
      "source": [
        "# Titanic Survival Predictions\r\n",
        " Just a test to see how the notebook works\r\n",
        "\r\n",
        " ### Contents:\r\n",
        "\r\n",
        " 1. one\r\n",
        " 2. two\r\n",
        " 3. three\r\n",
        "\r\n",
        "\r\n",
        " ## 1) Import Neccessary Libraries\r\n"
      ]
    },
    {
      "cell_type": "code",
      "metadata": {
        "id": "pHg2ABA1BeoD"
      },
      "source": [
        "#data analysis libraries\r\n",
        "import numpy as np \r\n",
        "import pandas as pd\r\n",
        "\r\n",
        "#visualizations libraries\r\n",
        "import matplotlib.pyplot as plt\r\n",
        "import seaborn as sns\r\n",
        "%matplotlib inline\r\n",
        "\r\n",
        "#ignore warnings\r\n",
        "import warnings\r\n",
        "warnings.filterwarnings('ignore')"
      ],
      "execution_count": 3,
      "outputs": []
    },
    {
      "cell_type": "markdown",
      "metadata": {
        "id": "oJboGaVpDA9Y"
      },
      "source": [
        "# 2) Read in and Explore the Data\r\n"
      ]
    },
    {
      "cell_type": "code",
      "metadata": {
        "id": "xAliPGOnCgJw"
      },
      "source": [
        "#import train and test CSV files\r\n",
        "train = pd.read_csv(\"../input/train.csv\")\r\n",
        "test = pd.read_csv(\"../input/test.csv\")\r\n",
        "\r\n",
        "#take a look at the training data\r\n",
        "train.describe(include=\"all\")"
      ],
      "execution_count": null,
      "outputs": []
    },
    {
      "cell_type": "markdown",
      "metadata": {
        "id": "lp0XoDdmDrQi"
      },
      "source": [
        "#OK I'M STOPPING HERE SINCE I'VE REALIZED I DON'T HAVE THE DATA FOR THE TITANIC EXAMPLE\r\n",
        "#MAYBE I'LL DO IT ONE DAY ;)"
      ]
    }
  ]
}