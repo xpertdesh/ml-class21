{
  "nbformat": 4,
  "nbformat_minor": 0,
  "metadata": {
    "kernelspec": {
      "display_name": "Python 3",
      "language": "python",
      "name": "python3"
    },
    "language_info": {
      "codemirror_mode": {
        "name": "ipython",
        "version": 3
      },
      "file_extension": ".py",
      "mimetype": "text/x-python",
      "name": "python",
      "nbconvert_exporter": "python",
      "pygments_lexer": "ipython3",
      "version": "3.6.9"
    },
    "colab": {
      "name": "clustering.ipynb",
      "provenance": [],
      "include_colab_link": true
    }
  },
  "cells": [
    {
      "cell_type": "markdown",
      "metadata": {
        "id": "view-in-github",
        "colab_type": "text"
      },
      "source": [
        "<a href=\"https://colab.research.google.com/github/xpertdesh/ml-class21/blob/main/labs/clustering.ipynb\" target=\"_parent\"><img src=\"https://colab.research.google.com/assets/colab-badge.svg\" alt=\"Open In Colab\"/></a>"
      ]
    },
    {
      "cell_type": "markdown",
      "metadata": {
        "id": "4xvgavwf4r5H"
      },
      "source": [
        "# Introduction to Clustering\n",
        "\n",
        "\n",
        "## Supervised vs Unsupervised learning\n",
        "\n",
        "Up until now we have been focusing on supervised learning. In supervised learning our training set consists of labeled data. For example, we have images and each image has an associated  label: dog, cat, elephant. And from this labeled data our model is trying to learn how to predict the label from the features. \n",
        "\n",
        "Unsupervised learning is trying to learn patterns from unlabeled data, and one set of models has to do with segmenting a dataset into clusters or groups of related data.\n",
        "\n",
        "![](https://cambridge-intelligence.com/wp-content/uploads/2016/01/clustering-animated.gif)\n",
        "\n",
        "We will cover two main clustering techniques.\n",
        "\n",
        "Let's explore this with a small dog breed dataset.\n",
        "\n",
        "First, we will load the dataset:"
      ]
    },
    {
      "cell_type": "code",
      "metadata": {
        "id": "QAQv0rnv4r5N"
      },
      "source": [
        "import pandas as pd\n",
        "dog_data = pd.read_csv('https://raw.githubusercontent.com/zacharski/machine-learning-notebooks/master/data/dogbreeds.csv')\n",
        "dog_data = dog_data.set_index('breed')"
      ],
      "execution_count": null,
      "outputs": []
    },
    {
      "cell_type": "code",
      "metadata": {
        "colab": {
          "base_uri": "https://localhost:8080/",
          "height": 131
        },
        "id": "mPnF_WW44r5N",
        "outputId": "2524efbf-ea66-4f4b-c4c1-060062732ebd"
      },
      "source": [
        "|dog_data"
      ],
      "execution_count": null,
      "outputs": [
        {
          "output_type": "error",
          "ename": "SyntaxError",
          "evalue": "ignored",
          "traceback": [
            "\u001b[0;36m  File \u001b[0;32m\"<ipython-input-2-63c573399dd1>\"\u001b[0;36m, line \u001b[0;32m1\u001b[0m\n\u001b[0;31m    |dog_data\u001b[0m\n\u001b[0m    ^\u001b[0m\n\u001b[0;31mSyntaxError\u001b[0m\u001b[0;31m:\u001b[0m invalid syntax\n"
          ]
        }
      ]
    },
    {
      "cell_type": "markdown",
      "metadata": {
        "id": "-JI_WDmv4r5O"
      },
      "source": [
        "Looking at the values in the height and weight columns it looks like we should normalize the data.\n",
        "\n",
        "<img src=\"http://animalfair.com/wp-content/uploads/2014/08/chihuahua-and-great-dane.jpg\" width=\"700\"/>\n"
      ]
    },
    {
      "cell_type": "code",
      "metadata": {
        "id": "kBV9waEe4r5P"
      },
      "source": [
        "## TODO\n"
      ],
      "execution_count": null,
      "outputs": []
    },
    {
      "cell_type": "markdown",
      "metadata": {
        "id": "eVe08rKB4r5P"
      },
      "source": [
        "And let's visualize that data:"
      ]
    },
    {
      "cell_type": "code",
      "metadata": {
        "id": "9eNnwbZA4r5P",
        "outputId": "e32a34a6-8e6d-4002-9778-9416bb004a5e"
      },
      "source": [
        "from bokeh.charts import Scatter, output_file, show\n",
        "from bokeh.io import push_notebook, show, output_notebook\n",
        "output_notebook()\n",
        "x = Scatter(dog_data, x='weight (pounds)', y='height (inches)', title=\"Plot of Dog Breeds\",\n",
        "            xlabel=\"Normalized Weight\", ylabel=\"Normalized Height\")\n",
        "\n",
        "output_file(\"dogbreed.html\")\n",
        "\n",
        "show(x)"
      ],
      "execution_count": null,
      "outputs": [
        {
          "output_type": "error",
          "ename": "ModuleNotFoundError",
          "evalue": "No module named 'bokeh'",
          "traceback": [
            "\u001b[0;31m---------------------------------------------------------------------------\u001b[0m",
            "\u001b[0;31mModuleNotFoundError\u001b[0m                       Traceback (most recent call last)",
            "\u001b[0;32m<ipython-input-4-3db2990f0e61>\u001b[0m in \u001b[0;36m<module>\u001b[0;34m\u001b[0m\n\u001b[0;32m----> 1\u001b[0;31m \u001b[0;32mfrom\u001b[0m \u001b[0mbokeh\u001b[0m\u001b[0;34m.\u001b[0m\u001b[0mcharts\u001b[0m \u001b[0;32mimport\u001b[0m \u001b[0mScatter\u001b[0m\u001b[0;34m,\u001b[0m \u001b[0moutput_file\u001b[0m\u001b[0;34m,\u001b[0m \u001b[0mshow\u001b[0m\u001b[0;34m\u001b[0m\u001b[0;34m\u001b[0m\u001b[0m\n\u001b[0m\u001b[1;32m      2\u001b[0m \u001b[0;32mfrom\u001b[0m \u001b[0mbokeh\u001b[0m\u001b[0;34m.\u001b[0m\u001b[0mio\u001b[0m \u001b[0;32mimport\u001b[0m \u001b[0mpush_notebook\u001b[0m\u001b[0;34m,\u001b[0m \u001b[0mshow\u001b[0m\u001b[0;34m,\u001b[0m \u001b[0moutput_notebook\u001b[0m\u001b[0;34m\u001b[0m\u001b[0;34m\u001b[0m\u001b[0m\n\u001b[1;32m      3\u001b[0m \u001b[0moutput_notebook\u001b[0m\u001b[0;34m(\u001b[0m\u001b[0;34m)\u001b[0m\u001b[0;34m\u001b[0m\u001b[0;34m\u001b[0m\u001b[0m\n\u001b[1;32m      4\u001b[0m x = Scatter(dog_data, x='weight (pounds)', y='height (inches)', title=\"Plot of Dog Breeds\",\n\u001b[1;32m      5\u001b[0m             xlabel=\"Normalized Weight\", ylabel=\"Normalized Height\")\n",
            "\u001b[0;31mModuleNotFoundError\u001b[0m: No module named 'bokeh'"
          ]
        }
      ]
    },
    {
      "cell_type": "markdown",
      "metadata": {
        "id": "wNd0rh6B4r5Q"
      },
      "source": [
        "Gazing at the scatter plot, it looks like we could group the data into three clusters. There are the 2 data points on the bottom left (*Chihuahua* and *Yorkshire Terrier*) The top right group of two (*Bull Mastiff* and *Great Dane*) and the middle group with all the other breeds. \n",
        "\n",
        "\n",
        "## My book\n",
        "![](http://zacharski.org/wp-content/uploads/2010/02/cover.png)\n",
        "\n",
        "Years ago I wrote a book on machine learning.The English version is free, and [the Chinese version is available on Amazon](https://www.amazon.com/%E5%86%99%E7%BB%99%E7%A8%8B%E5%BA%8F%E5%91%98%E7%9A%84%E6%95%B0%E6%8D%AE%E6%8C%96%E6%8E%98%E5%AE%9E%E8%B7%B5%E6%8C%87%E5%8D%97%EF%BC%88%E5%BC%82%E6%AD%A5%E5%9B%BE%E4%B9%A6%EF%BC%89-Chinese-Ron-Zacharski-%E6%89%8E%E5%93%88%E5%B0%94%E6%96%AF%E5%9F%BA-ebook/dp/B01ASYWU2I/ref=sr_1_6?dchild=1&keywords=zacharski&qid=1617035941&sr=8-6). The field has changed so much that most of the book is out of date. However [the general explanation of clustering](http://guidetodatamining.com/assets/guideChapters/DataMining-ch8.pdf) in the related chapter still is current and instead of repeating that here just read the material at the link. The book has the algorithms implemented from scratch but now these algorithms are available in sklearn:\n",
        "\n",
        "\n",
        "## k means clustering\n",
        "\n",
        "Let's divide our dog dataset into 3 clusters:\n"
      ]
    },
    {
      "cell_type": "code",
      "metadata": {
        "id": "2skLMP5X4r5Q"
      },
      "source": [
        "from sklearn.cluster import KMeans\n",
        "kmeans = KMeans(n_clusters=3, ).fit(dog_data)\n",
        "labels = kmeans.labels_"
      ],
      "execution_count": null,
      "outputs": []
    },
    {
      "cell_type": "markdown",
      "metadata": {
        "id": "0qTILIqf4r5R"
      },
      "source": [
        "The variable `labels` is an array the specifies which group each dog belongs to:"
      ]
    },
    {
      "cell_type": "code",
      "metadata": {
        "id": "77rM5cBM4r5R",
        "outputId": "593c9062-0aca-48ae-a080-082af8fe9d13"
      },
      "source": [
        "labels"
      ],
      "execution_count": null,
      "outputs": [
        {
          "output_type": "execute_result",
          "data": {
            "text/plain": [
              "array([1, 0, 0, 2, 0, 1, 1, 2, 1, 1, 0], dtype=int32)"
            ]
          },
          "metadata": {
            "tags": []
          },
          "execution_count": 6
        }
      ]
    },
    {
      "cell_type": "markdown",
      "metadata": {
        "id": "WSlFYCBr4r5R"
      },
      "source": [
        "My results were:\n",
        "\n",
        "    array([0, 0, 0, 1, 2, 0, 0, 1, 0, 0, 2], dtype=int32)\n",
        "\n",
        "which indicates that the first, second, and third dogs are in group 0, the next one in group 1 and so on  That may be helpful for future computational tasks but is not the helpful if we are trying to visualize the data. Let me munge that a bit into a slightly more useful form:"
      ]
    },
    {
      "cell_type": "code",
      "metadata": {
        "id": "8DHfIQVP4r5R",
        "outputId": "26906bfa-2a79-4772-8809-ea8033504942"
      },
      "source": [
        "groups = {0: [], 1: [], 2: []}\n",
        "i = 0\n",
        "for index, row in dog_data.iterrows():\n",
        "    groups[labels[i]].append(index)\n",
        "    i += 1\n",
        "## Now I will print it in a nice way:\n",
        "\n",
        "for key, value in groups.items():\n",
        "    print ('CLUSTER %i' % key)\n",
        "    for breed in value:\n",
        "        print(\"    %s\" % breed)\n",
        "    print('\\n')"
      ],
      "execution_count": null,
      "outputs": [
        {
          "output_type": "stream",
          "text": [
            "CLUSTER 0\n",
            "    Boston Terrier\n",
            "    Brittany Spaniel\n",
            "    Chihuahua\n",
            "    Yorkshire Terrier\n",
            "\n",
            "\n",
            "CLUSTER 1\n",
            "    Border Collie\n",
            "    German Shepherd\n",
            "    Golden Retreiver\n",
            "    Portuguese Water Dog\n",
            "    Standard Poodle\n",
            "\n",
            "\n",
            "CLUSTER 2\n",
            "    Bullmastiff\n",
            "    Great Dane\n",
            "\n",
            "\n"
          ],
          "name": "stdout"
        }
      ]
    },
    {
      "cell_type": "markdown",
      "metadata": {
        "id": "n_OMZ5HL4r5S"
      },
      "source": [
        "keep in mind that since they initial centroids are selected somewhat randomly it is possible that you get a different answer than I do. The answer I got was:\n",
        "\n",
        "    CLUSTER 0\n",
        "        Border Collie\n",
        "        Boston Terrier\n",
        "        Brittany Spaniel\n",
        "        German Shepherd\n",
        "        Golden Retreiver\n",
        "        Portuguese Water Dog\n",
        "        Standard Poodle\n",
        "    \n",
        "\n",
        "    CLUSTER 1\n",
        "        Bullmastiff\n",
        "        Great Dane\n",
        "\n",
        "\n",
        "    CLUSTER 2\n",
        "        Chihuahua\n",
        "        Yorkshire Terrier\n",
        "\n",
        "\n",
        "## Hierarchical Clustering\n",
        "\n",
        "For the basics on hierarchical clustering consult [the fine chapter I mentioned](http://guidetodatamining.com/assets/guideChapters/DataMining-ch8.pdf). Here is how to do hierarchical clustering in sklearn."
      ]
    },
    {
      "cell_type": "code",
      "metadata": {
        "id": "jTNxpY1J4r5S",
        "outputId": "001f3e27-6184-4b6c-ecec-57558ae2e1e8"
      },
      "source": [
        "\n",
        "from sklearn.cluster import AgglomerativeClustering\n",
        "clusterer = AgglomerativeClustering(affinity='euclidean', linkage='ward')\n",
        "clusterer.fit(dog_data)"
      ],
      "execution_count": null,
      "outputs": [
        {
          "output_type": "execute_result",
          "data": {
            "text/plain": [
              "AgglomerativeClustering(affinity='euclidean', compute_full_tree='auto',\n",
              "            connectivity=None, linkage='ward',\n",
              "            memory=Memory(cachedir=None), n_clusters=2,\n",
              "            pooling_func=<function mean at 0x115798d90>)"
            ]
          },
          "metadata": {
            "tags": []
          },
          "execution_count": 14
        }
      ]
    },
    {
      "cell_type": "markdown",
      "metadata": {
        "id": "F2bA4cgu4r5T"
      },
      "source": [
        "we can get the highest level division by viewing the `.labels_`:\n"
      ]
    },
    {
      "cell_type": "code",
      "metadata": {
        "id": "FYTJpb6-4r5T",
        "outputId": "1e3fed98-9d68-4507-b865-590b1d46a6c4"
      },
      "source": [
        "clusterer.labels_"
      ],
      "execution_count": null,
      "outputs": [
        {
          "output_type": "execute_result",
          "data": {
            "text/plain": [
              "array([0, 0, 0, 1, 0, 0, 0, 1, 0, 0, 0])"
            ]
          },
          "metadata": {
            "tags": []
          },
          "execution_count": 18
        }
      ]
    },
    {
      "cell_type": "markdown",
      "metadata": {
        "id": "i_J85yFr4r5T"
      },
      "source": [
        "So here the first dog breed, Border Collie belongs to cluster 0. Keep in mind that in kmeans there is a random element--the selection of the initial centroids, but in hierarchical clustering there is no randomness so you should get the exact same answer I do. so that is the high level division but the hierarchical clustering algorithm constructs a tree - specifically, a dendrogram. To view that requires some imagination.  I can print a representation of the tree by:"
      ]
    },
    {
      "cell_type": "code",
      "metadata": {
        "id": "rGdrv0Kq4r5T",
        "outputId": "0cabe066-0513-4f6b-8da1-441d821f23da"
      },
      "source": [
        "import itertools\n",
        "ii = itertools.count(dog_data.shape[0])\n",
        "[{'node_id': next(ii), 'left': x[0], 'right':x[1]} for x in clusterer.children_]"
      ],
      "execution_count": null,
      "outputs": [
        {
          "output_type": "execute_result",
          "data": {
            "text/plain": [
              "[{'left': 0, 'node_id': 11, 'right': 8},\n",
              " {'left': 4, 'node_id': 12, 'right': 10},\n",
              " {'left': 5, 'node_id': 13, 'right': 6},\n",
              " {'left': 1, 'node_id': 14, 'right': 2},\n",
              " {'left': 9, 'node_id': 15, 'right': 11},\n",
              " {'left': 14, 'node_id': 16, 'right': 15},\n",
              " {'left': 3, 'node_id': 17, 'right': 7},\n",
              " {'left': 13, 'node_id': 18, 'right': 16},\n",
              " {'left': 12, 'node_id': 19, 'right': 18},\n",
              " {'left': 17, 'node_id': 20, 'right': 19}]"
            ]
          },
          "metadata": {
            "tags": []
          },
          "execution_count": 19
        }
      ]
    },
    {
      "cell_type": "markdown",
      "metadata": {
        "id": "336xIjIv4r5U"
      },
      "source": [
        "The first line `{'left': 0, 'node_id': 11, 'right': 8}` reads that we combine cluster 0 *Border Collie* with cluster 8 *Portuguese Water Dog* to create Cluster 11. The next line says we  combine 4 *Chihuahua* with 10 *Yorkshire Terrier* to create cluster 12.  Let's associate index numbers with the dog breed names so that structure is easier to parse:\n"
      ]
    },
    {
      "cell_type": "code",
      "metadata": {
        "id": "5o2v0-cT4r5U",
        "outputId": "4aa75247-6b01-4271-dd38-d1ca51b6d6de"
      },
      "source": [
        "dog_names = pd.DataFrame({'breeds': dog_data.index.values})\n",
        "dog_names"
      ],
      "execution_count": null,
      "outputs": [
        {
          "output_type": "execute_result",
          "data": {
            "text/html": [
              "<div>\n",
              "<table border=\"1\" class=\"dataframe\">\n",
              "  <thead>\n",
              "    <tr style=\"text-align: right;\">\n",
              "      <th></th>\n",
              "      <th>breeds</th>\n",
              "    </tr>\n",
              "  </thead>\n",
              "  <tbody>\n",
              "    <tr>\n",
              "      <th>0</th>\n",
              "      <td>Border Collie</td>\n",
              "    </tr>\n",
              "    <tr>\n",
              "      <th>1</th>\n",
              "      <td>Boston Terrier</td>\n",
              "    </tr>\n",
              "    <tr>\n",
              "      <th>2</th>\n",
              "      <td>Brittany Spaniel</td>\n",
              "    </tr>\n",
              "    <tr>\n",
              "      <th>3</th>\n",
              "      <td>Bullmastiff</td>\n",
              "    </tr>\n",
              "    <tr>\n",
              "      <th>4</th>\n",
              "      <td>Chihuahua</td>\n",
              "    </tr>\n",
              "    <tr>\n",
              "      <th>5</th>\n",
              "      <td>German Shepherd</td>\n",
              "    </tr>\n",
              "    <tr>\n",
              "      <th>6</th>\n",
              "      <td>Golden Retreiver</td>\n",
              "    </tr>\n",
              "    <tr>\n",
              "      <th>7</th>\n",
              "      <td>Great Dane</td>\n",
              "    </tr>\n",
              "    <tr>\n",
              "      <th>8</th>\n",
              "      <td>Portuguese Water Dog</td>\n",
              "    </tr>\n",
              "    <tr>\n",
              "      <th>9</th>\n",
              "      <td>Standard Poodle</td>\n",
              "    </tr>\n",
              "    <tr>\n",
              "      <th>10</th>\n",
              "      <td>Yorkshire Terrier</td>\n",
              "    </tr>\n",
              "  </tbody>\n",
              "</table>\n",
              "</div>"
            ],
            "text/plain": [
              "                  breeds\n",
              "0          Border Collie\n",
              "1         Boston Terrier\n",
              "2       Brittany Spaniel\n",
              "3            Bullmastiff\n",
              "4              Chihuahua\n",
              "5        German Shepherd\n",
              "6       Golden Retreiver\n",
              "7             Great Dane\n",
              "8   Portuguese Water Dog\n",
              "9        Standard Poodle\n",
              "10     Yorkshire Terrier"
            ]
          },
          "metadata": {
            "tags": []
          },
          "execution_count": 14
        }
      ]
    },
    {
      "cell_type": "markdown",
      "metadata": {
        "id": "jVSLZcCN4r5V"
      },
      "source": [
        "That makes it easier to interpret lines like:\n",
        "\n",
        "    {'left': 1, 'node_id': 14, 'right': 2},\n",
        "    \n",
        "We are combining `1` *Boston Terrier* and `2` *Brittany Spaniel*\n",
        "\n",
        "So when we draw this out we get:\n",
        "\n",
        "<img src=\"http://zacharski.org/files/courses/cs419/dendro.png\" width=\"700\"/>\n",
        "\n",
        "\n",
        "<h1 style=\"color:red\">Tasks</h1>\n",
        "\n",
        "<h2 style=\"color:red\">Task 1: Breakfast Cereals</h2>\n",
        "I would like you to create 4 clusters of the data in:\n",
        "\n",
        "    https://raw.githubusercontent.com/zacharski/pg2dm-python/master/data/ch8/cereal.csv\n",
        "    \n",
        "For clustering use the features calories, sugar, protein, and fiber.\n",
        "\n",
        "Print out the results as we did for the dog breed data:\n",
        "\n",
        "\n",
        "    CLUSTER 0\n",
        "    Bullmastiff\n",
        "    Great Dane\n",
        "    \n",
        "\n",
        "    CLUSTER 1\n",
        "        Chihuahua\n",
        "        Yorkshire Terrier\n",
        "    \n",
        "\n",
        "    CLUSTER 2\n",
        "        Border Collie\n",
        "        Boston Terrier\n",
        "        Brittany Spaniel\n",
        "        German Shepherd\n",
        "        Golden Retreiver\n",
        "        Portuguese Water Dog\n",
        "        Standard Poodle\n",
        "        \n",
        "Because the initial centroids are random, by default the sklearn kmeans agorithm runs the algorithm 10 times and picks the best results (based on some of squares error). I would like you to change that parameter so it runs the algorithm 100 times.   Just google `sklearn kmeans` to get documentation on the parameters."
      ]
    },
    {
      "cell_type": "code",
      "metadata": {
        "collapsed": true,
        "id": "K2RR8kwx4r5V"
      },
      "source": [
        ""
      ],
      "execution_count": null,
      "outputs": []
    },
    {
      "cell_type": "markdown",
      "metadata": {
        "id": "HkQoS43x4r5W"
      },
      "source": [
        "\n",
        "<h2 style=\"color:red\">Task 2: Hierarchical</h2>\n",
        "I would like you to use the hierarchical clustering algorithm on the cereal data.\n"
      ]
    },
    {
      "cell_type": "code",
      "metadata": {
        "collapsed": true,
        "id": "H9Ye84l-4r5W"
      },
      "source": [
        ""
      ],
      "execution_count": null,
      "outputs": []
    },
    {
      "cell_type": "markdown",
      "metadata": {
        "id": "zRKqUn9p4r5W"
      },
      "source": [
        "And here is a question. What clusters with *Fruity Pebbles*?"
      ]
    },
    {
      "cell_type": "code",
      "metadata": {
        "collapsed": true,
        "id": "BTxVp-rX4r5W"
      },
      "source": [
        ""
      ],
      "execution_count": null,
      "outputs": []
    },
    {
      "cell_type": "markdown",
      "metadata": {
        "id": "NVZNNl3X8_hQ"
      },
      "source": [
        "## A non-programming question\n",
        "\n",
        "The following is a table of the weights of some world-class female athletes.\n",
        "\n",
        "\n",
        "name | weight in pounds\n",
        ":--- | ---:\n",
        "Asuka Teramoto\t|\t66\n",
        "Linlin Deng\t |\t68\n",
        "Rebecca Tunney\t|\t76\n",
        "Helalia Johannes\t|\t99\n",
        "Kara Goucher\t|\t123\n",
        "Brittainey Raven |\t162\n",
        "Jennifer Lacy\t|\t175\n",
        "Nakia Sanford\t|\t200\n",
        "Chen Nan\t|\t204\n",
        "\n",
        "\n",
        "In Single Linkage Hierarchical Clustering, what is the first cluster made?\n",
        "\n",
        "\n",
        "Note: You can indicate hiearchies with sub-lists: \n",
        "\n",
        "```\n",
        "  [['acoustic guitar', 'electric guitar'], 'dobro']\n",
        "```\n",
        "\n",
        "\n"
      ]
    },
    {
      "cell_type": "code",
      "metadata": {
        "id": "JT13DrJbEGUL"
      },
      "source": [
        "athletes = ['Asuka Teramoto', 'Linlin Deng', 'Rebecca Tunney', 'Helalia Johannes', 'Kara Goucher', 'Brittainey Raven', 'Jennifer Lacy', 'Nakia Sanford', 'Chen Nan']\n",
        "\n",
        "# TO DO\n",
        "first_cluster = []"
      ],
      "execution_count": null,
      "outputs": []
    },
    {
      "cell_type": "markdown",
      "metadata": {
        "id": "wtHU06uzGscP"
      },
      "source": [
        "What is the second cluster made?"
      ]
    },
    {
      "cell_type": "code",
      "metadata": {
        "id": "lnvJ32j5FCxf"
      },
      "source": [
        "# TO DO"
      ],
      "execution_count": null,
      "outputs": []
    },
    {
      "cell_type": "markdown",
      "metadata": {
        "id": "aIgk1cE5Gwnj"
      },
      "source": [
        "What is the third?"
      ]
    },
    {
      "cell_type": "code",
      "metadata": {
        "id": "K0Cyj93eGx9M"
      },
      "source": [
        ""
      ],
      "execution_count": null,
      "outputs": []
    }
  ]
}