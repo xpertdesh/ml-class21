{
  "nbformat": 4,
  "nbformat_minor": 0,
  "metadata": {
    "kernelspec": {
      "display_name": "Python 3",
      "language": "python",
      "name": "python3"
    },
    "language_info": {
      "codemirror_mode": {
        "name": "ipython",
        "version": 3
      },
      "file_extension": ".py",
      "mimetype": "text/x-python",
      "name": "python",
      "nbconvert_exporter": "python",
      "pygments_lexer": "ipython3",
      "version": "3.6.9"
    },
    "colab": {
      "name": "clustering.ipynb",
      "provenance": [],
      "include_colab_link": true
    }
  },
  "cells": [
    {
      "cell_type": "markdown",
      "metadata": {
        "id": "view-in-github",
        "colab_type": "text"
      },
      "source": [
        "<a href=\"https://colab.research.google.com/github/xpertdesh/ml-class21/blob/main/labs/clustering.ipynb\" target=\"_parent\"><img src=\"https://colab.research.google.com/assets/colab-badge.svg\" alt=\"Open In Colab\"/></a>"
      ]
    },
    {
      "cell_type": "markdown",
      "metadata": {
        "id": "4xvgavwf4r5H"
      },
      "source": [
        "# Introduction to Clustering\n",
        "\n",
        "\n",
        "## Supervised vs Unsupervised learning\n",
        "\n",
        "Up until now we have been focusing on supervised learning. In supervised learning our training set consists of labeled data. For example, we have images and each image has an associated  label: dog, cat, elephant. And from this labeled data our model is trying to learn how to predict the label from the features. \n",
        "\n",
        "Unsupervised learning is trying to learn patterns from unlabeled data, and one set of models has to do with segmenting a dataset into clusters or groups of related data.\n",
        "\n",
        "![](https://cambridge-intelligence.com/wp-content/uploads/2016/01/clustering-animated.gif)\n",
        "\n",
        "We will cover two main clustering techniques.\n",
        "\n",
        "Let's explore this with a small dog breed dataset.\n",
        "\n",
        "First, we will load the dataset:"
      ]
    },
    {
      "cell_type": "code",
      "metadata": {
        "id": "QAQv0rnv4r5N"
      },
      "source": [
        "import pandas as pd\n",
        "dog_data = pd.read_csv('https://raw.githubusercontent.com/zacharski/machine-learning-notebooks/master/data/dogbreeds.csv')\n",
        "dog_data = dog_data.set_index('breed')"
      ],
      "execution_count": 1,
      "outputs": []
    },
    {
      "cell_type": "code",
      "metadata": {
        "colab": {
          "base_uri": "https://localhost:8080/",
          "height": 421
        },
        "id": "mPnF_WW44r5N",
        "outputId": "7e7c260c-b42b-4f8e-df1f-aa6837d8fd63"
      },
      "source": [
        "dog_data"
      ],
      "execution_count": 4,
      "outputs": [
        {
          "output_type": "execute_result",
          "data": {
            "text/html": [
              "<div>\n",
              "<style scoped>\n",
              "    .dataframe tbody tr th:only-of-type {\n",
              "        vertical-align: middle;\n",
              "    }\n",
              "\n",
              "    .dataframe tbody tr th {\n",
              "        vertical-align: top;\n",
              "    }\n",
              "\n",
              "    .dataframe thead th {\n",
              "        text-align: right;\n",
              "    }\n",
              "</style>\n",
              "<table border=\"1\" class=\"dataframe\">\n",
              "  <thead>\n",
              "    <tr style=\"text-align: right;\">\n",
              "      <th></th>\n",
              "      <th>height (inches)</th>\n",
              "      <th>weight (pounds)</th>\n",
              "    </tr>\n",
              "    <tr>\n",
              "      <th>breed</th>\n",
              "      <th></th>\n",
              "      <th></th>\n",
              "    </tr>\n",
              "  </thead>\n",
              "  <tbody>\n",
              "    <tr>\n",
              "      <th>Border Collie</th>\n",
              "      <td>20</td>\n",
              "      <td>45</td>\n",
              "    </tr>\n",
              "    <tr>\n",
              "      <th>Boston Terrier</th>\n",
              "      <td>16</td>\n",
              "      <td>20</td>\n",
              "    </tr>\n",
              "    <tr>\n",
              "      <th>Brittany Spaniel</th>\n",
              "      <td>18</td>\n",
              "      <td>35</td>\n",
              "    </tr>\n",
              "    <tr>\n",
              "      <th>Bullmastiff</th>\n",
              "      <td>27</td>\n",
              "      <td>120</td>\n",
              "    </tr>\n",
              "    <tr>\n",
              "      <th>Chihuahua</th>\n",
              "      <td>8</td>\n",
              "      <td>8</td>\n",
              "    </tr>\n",
              "    <tr>\n",
              "      <th>German Shepherd</th>\n",
              "      <td>25</td>\n",
              "      <td>78</td>\n",
              "    </tr>\n",
              "    <tr>\n",
              "      <th>Golden Retreiver</th>\n",
              "      <td>23</td>\n",
              "      <td>70</td>\n",
              "    </tr>\n",
              "    <tr>\n",
              "      <th>Great Dane</th>\n",
              "      <td>32</td>\n",
              "      <td>160</td>\n",
              "    </tr>\n",
              "    <tr>\n",
              "      <th>Portuguese Water Dog</th>\n",
              "      <td>21</td>\n",
              "      <td>50</td>\n",
              "    </tr>\n",
              "    <tr>\n",
              "      <th>Standard Poodle</th>\n",
              "      <td>19</td>\n",
              "      <td>65</td>\n",
              "    </tr>\n",
              "    <tr>\n",
              "      <th>Yorkshire Terrier</th>\n",
              "      <td>6</td>\n",
              "      <td>7</td>\n",
              "    </tr>\n",
              "  </tbody>\n",
              "</table>\n",
              "</div>"
            ],
            "text/plain": [
              "                      height (inches)  weight (pounds)\n",
              "breed                                                 \n",
              "Border Collie                      20               45\n",
              "Boston Terrier                     16               20\n",
              "Brittany Spaniel                   18               35\n",
              "Bullmastiff                        27              120\n",
              "Chihuahua                           8                8\n",
              "German Shepherd                    25               78\n",
              "Golden Retreiver                   23               70\n",
              "Great Dane                         32              160\n",
              "Portuguese Water Dog               21               50\n",
              "Standard Poodle                    19               65\n",
              "Yorkshire Terrier                   6                7"
            ]
          },
          "metadata": {
            "tags": []
          },
          "execution_count": 4
        }
      ]
    },
    {
      "cell_type": "markdown",
      "metadata": {
        "id": "-JI_WDmv4r5O"
      },
      "source": [
        "Looking at the values in the height and weight columns it looks like we should normalize the data.\n",
        "\n",
        "<img src=\"http://animalfair.com/wp-content/uploads/2014/08/chihuahua-and-great-dane.jpg\" width=\"700\"/>\n"
      ]
    },
    {
      "cell_type": "code",
      "metadata": {
        "id": "kBV9waEe4r5P",
        "outputId": "c0a40947-e78a-4ae7-dbeb-fc89353ffda6",
        "colab": {
          "base_uri": "https://localhost:8080/",
          "height": 421
        }
      },
      "source": [
        "from sklearn.preprocessing import MinMaxScaler\n",
        "scaler = MinMaxScaler()\n",
        "dog_data[['height (inches)', 'weight (pounds)']] =  scaler.fit_transform(dog_data[['height (inches)', 'weight (pounds)']] )\n",
        "dog_data"
      ],
      "execution_count": 5,
      "outputs": [
        {
          "output_type": "execute_result",
          "data": {
            "text/html": [
              "<div>\n",
              "<style scoped>\n",
              "    .dataframe tbody tr th:only-of-type {\n",
              "        vertical-align: middle;\n",
              "    }\n",
              "\n",
              "    .dataframe tbody tr th {\n",
              "        vertical-align: top;\n",
              "    }\n",
              "\n",
              "    .dataframe thead th {\n",
              "        text-align: right;\n",
              "    }\n",
              "</style>\n",
              "<table border=\"1\" class=\"dataframe\">\n",
              "  <thead>\n",
              "    <tr style=\"text-align: right;\">\n",
              "      <th></th>\n",
              "      <th>height (inches)</th>\n",
              "      <th>weight (pounds)</th>\n",
              "    </tr>\n",
              "    <tr>\n",
              "      <th>breed</th>\n",
              "      <th></th>\n",
              "      <th></th>\n",
              "    </tr>\n",
              "  </thead>\n",
              "  <tbody>\n",
              "    <tr>\n",
              "      <th>Border Collie</th>\n",
              "      <td>0.538462</td>\n",
              "      <td>0.248366</td>\n",
              "    </tr>\n",
              "    <tr>\n",
              "      <th>Boston Terrier</th>\n",
              "      <td>0.384615</td>\n",
              "      <td>0.084967</td>\n",
              "    </tr>\n",
              "    <tr>\n",
              "      <th>Brittany Spaniel</th>\n",
              "      <td>0.461538</td>\n",
              "      <td>0.183007</td>\n",
              "    </tr>\n",
              "    <tr>\n",
              "      <th>Bullmastiff</th>\n",
              "      <td>0.807692</td>\n",
              "      <td>0.738562</td>\n",
              "    </tr>\n",
              "    <tr>\n",
              "      <th>Chihuahua</th>\n",
              "      <td>0.076923</td>\n",
              "      <td>0.006536</td>\n",
              "    </tr>\n",
              "    <tr>\n",
              "      <th>German Shepherd</th>\n",
              "      <td>0.730769</td>\n",
              "      <td>0.464052</td>\n",
              "    </tr>\n",
              "    <tr>\n",
              "      <th>Golden Retreiver</th>\n",
              "      <td>0.653846</td>\n",
              "      <td>0.411765</td>\n",
              "    </tr>\n",
              "    <tr>\n",
              "      <th>Great Dane</th>\n",
              "      <td>1.000000</td>\n",
              "      <td>1.000000</td>\n",
              "    </tr>\n",
              "    <tr>\n",
              "      <th>Portuguese Water Dog</th>\n",
              "      <td>0.576923</td>\n",
              "      <td>0.281046</td>\n",
              "    </tr>\n",
              "    <tr>\n",
              "      <th>Standard Poodle</th>\n",
              "      <td>0.500000</td>\n",
              "      <td>0.379085</td>\n",
              "    </tr>\n",
              "    <tr>\n",
              "      <th>Yorkshire Terrier</th>\n",
              "      <td>0.000000</td>\n",
              "      <td>0.000000</td>\n",
              "    </tr>\n",
              "  </tbody>\n",
              "</table>\n",
              "</div>"
            ],
            "text/plain": [
              "                      height (inches)  weight (pounds)\n",
              "breed                                                 \n",
              "Border Collie                0.538462         0.248366\n",
              "Boston Terrier               0.384615         0.084967\n",
              "Brittany Spaniel             0.461538         0.183007\n",
              "Bullmastiff                  0.807692         0.738562\n",
              "Chihuahua                    0.076923         0.006536\n",
              "German Shepherd              0.730769         0.464052\n",
              "Golden Retreiver             0.653846         0.411765\n",
              "Great Dane                   1.000000         1.000000\n",
              "Portuguese Water Dog         0.576923         0.281046\n",
              "Standard Poodle              0.500000         0.379085\n",
              "Yorkshire Terrier            0.000000         0.000000"
            ]
          },
          "metadata": {
            "tags": []
          },
          "execution_count": 5
        }
      ]
    },
    {
      "cell_type": "markdown",
      "metadata": {
        "id": "eVe08rKB4r5P"
      },
      "source": [
        "And let's visualize that data:"
      ]
    },
    {
      "cell_type": "code",
      "metadata": {
        "id": "9eNnwbZA4r5P",
        "outputId": "fc8c0213-58ee-4aba-dbbb-1b69539ef7a4",
        "colab": {
          "base_uri": "https://localhost:8080/",
          "height": 617
        }
      },
      "source": [
        "import bokeh.plotting as bpl\n",
        "\n",
        "\n",
        "bpl.output_notebook()\n",
        "source = bpl.ColumnDataSource(dog_data)\n",
        "x = bpl.figure(title=\"Plot of Dog Breeds\",\n",
        "            x_axis_label=\"Normalized Weight\", y_axis_label=\"Normalized Height\")\n",
        "x.scatter(x='weight (pounds)', y='height (inches)', source=source)\n",
        "\n",
        "bpl.show(x)"
      ],
      "execution_count": 14,
      "outputs": [
        {
          "output_type": "display_data",
          "data": {
            "application/javascript": [
              "\n",
              "(function(root) {\n",
              "  function now() {\n",
              "    return new Date();\n",
              "  }\n",
              "\n",
              "  var force = true;\n",
              "\n",
              "  if (typeof root._bokeh_onload_callbacks === \"undefined\" || force === true) {\n",
              "    root._bokeh_onload_callbacks = [];\n",
              "    root._bokeh_is_loading = undefined;\n",
              "  }\n",
              "\n",
              "  var JS_MIME_TYPE = 'application/javascript';\n",
              "  var HTML_MIME_TYPE = 'text/html';\n",
              "  var EXEC_MIME_TYPE = 'application/vnd.bokehjs_exec.v0+json';\n",
              "  var CLASS_NAME = 'output_bokeh rendered_html';\n",
              "\n",
              "  /**\n",
              "   * Render data to the DOM node\n",
              "   */\n",
              "  function render(props, node) {\n",
              "    var script = document.createElement(\"script\");\n",
              "    node.appendChild(script);\n",
              "  }\n",
              "\n",
              "  /**\n",
              "   * Handle when an output is cleared or removed\n",
              "   */\n",
              "  function handleClearOutput(event, handle) {\n",
              "    var cell = handle.cell;\n",
              "\n",
              "    var id = cell.output_area._bokeh_element_id;\n",
              "    var server_id = cell.output_area._bokeh_server_id;\n",
              "    // Clean up Bokeh references\n",
              "    if (id != null && id in Bokeh.index) {\n",
              "      Bokeh.index[id].model.document.clear();\n",
              "      delete Bokeh.index[id];\n",
              "    }\n",
              "\n",
              "    if (server_id !== undefined) {\n",
              "      // Clean up Bokeh references\n",
              "      var cmd = \"from bokeh.io.state import curstate; print(curstate().uuid_to_server['\" + server_id + \"'].get_sessions()[0].document.roots[0]._id)\";\n",
              "      cell.notebook.kernel.execute(cmd, {\n",
              "        iopub: {\n",
              "          output: function(msg) {\n",
              "            var id = msg.content.text.trim();\n",
              "            if (id in Bokeh.index) {\n",
              "              Bokeh.index[id].model.document.clear();\n",
              "              delete Bokeh.index[id];\n",
              "            }\n",
              "          }\n",
              "        }\n",
              "      });\n",
              "      // Destroy server and session\n",
              "      var cmd = \"import bokeh.io.notebook as ion; ion.destroy_server('\" + server_id + \"')\";\n",
              "      cell.notebook.kernel.execute(cmd);\n",
              "    }\n",
              "  }\n",
              "\n",
              "  /**\n",
              "   * Handle when a new output is added\n",
              "   */\n",
              "  function handleAddOutput(event, handle) {\n",
              "    var output_area = handle.output_area;\n",
              "    var output = handle.output;\n",
              "\n",
              "    // limit handleAddOutput to display_data with EXEC_MIME_TYPE content only\n",
              "    if ((output.output_type != \"display_data\") || (!Object.prototype.hasOwnProperty.call(output.data, EXEC_MIME_TYPE))) {\n",
              "      return\n",
              "    }\n",
              "\n",
              "    var toinsert = output_area.element.find(\".\" + CLASS_NAME.split(' ')[0]);\n",
              "\n",
              "    if (output.metadata[EXEC_MIME_TYPE][\"id\"] !== undefined) {\n",
              "      toinsert[toinsert.length - 1].firstChild.textContent = output.data[JS_MIME_TYPE];\n",
              "      // store reference to embed id on output_area\n",
              "      output_area._bokeh_element_id = output.metadata[EXEC_MIME_TYPE][\"id\"];\n",
              "    }\n",
              "    if (output.metadata[EXEC_MIME_TYPE][\"server_id\"] !== undefined) {\n",
              "      var bk_div = document.createElement(\"div\");\n",
              "      bk_div.innerHTML = output.data[HTML_MIME_TYPE];\n",
              "      var script_attrs = bk_div.children[0].attributes;\n",
              "      for (var i = 0; i < script_attrs.length; i++) {\n",
              "        toinsert[toinsert.length - 1].firstChild.setAttribute(script_attrs[i].name, script_attrs[i].value);\n",
              "        toinsert[toinsert.length - 1].firstChild.textContent = bk_div.children[0].textContent\n",
              "      }\n",
              "      // store reference to server id on output_area\n",
              "      output_area._bokeh_server_id = output.metadata[EXEC_MIME_TYPE][\"server_id\"];\n",
              "    }\n",
              "  }\n",
              "\n",
              "  function register_renderer(events, OutputArea) {\n",
              "\n",
              "    function append_mime(data, metadata, element) {\n",
              "      // create a DOM node to render to\n",
              "      var toinsert = this.create_output_subarea(\n",
              "        metadata,\n",
              "        CLASS_NAME,\n",
              "        EXEC_MIME_TYPE\n",
              "      );\n",
              "      this.keyboard_manager.register_events(toinsert);\n",
              "      // Render to node\n",
              "      var props = {data: data, metadata: metadata[EXEC_MIME_TYPE]};\n",
              "      render(props, toinsert[toinsert.length - 1]);\n",
              "      element.append(toinsert);\n",
              "      return toinsert\n",
              "    }\n",
              "\n",
              "    /* Handle when an output is cleared or removed */\n",
              "    events.on('clear_output.CodeCell', handleClearOutput);\n",
              "    events.on('delete.Cell', handleClearOutput);\n",
              "\n",
              "    /* Handle when a new output is added */\n",
              "    events.on('output_added.OutputArea', handleAddOutput);\n",
              "\n",
              "    /**\n",
              "     * Register the mime type and append_mime function with output_area\n",
              "     */\n",
              "    OutputArea.prototype.register_mime_type(EXEC_MIME_TYPE, append_mime, {\n",
              "      /* Is output safe? */\n",
              "      safe: true,\n",
              "      /* Index of renderer in `output_area.display_order` */\n",
              "      index: 0\n",
              "    });\n",
              "  }\n",
              "\n",
              "  // register the mime type if in Jupyter Notebook environment and previously unregistered\n",
              "  if (root.Jupyter !== undefined) {\n",
              "    var events = require('base/js/events');\n",
              "    var OutputArea = require('notebook/js/outputarea').OutputArea;\n",
              "\n",
              "    if (OutputArea.prototype.mime_types().indexOf(EXEC_MIME_TYPE) == -1) {\n",
              "      register_renderer(events, OutputArea);\n",
              "    }\n",
              "  }\n",
              "\n",
              "  \n",
              "  if (typeof (root._bokeh_timeout) === \"undefined\" || force === true) {\n",
              "    root._bokeh_timeout = Date.now() + 5000;\n",
              "    root._bokeh_failed_load = false;\n",
              "  }\n",
              "\n",
              "  var NB_LOAD_WARNING = {'data': {'text/html':\n",
              "     \"<div style='background-color: #fdd'>\\n\"+\n",
              "     \"<p>\\n\"+\n",
              "     \"BokehJS does not appear to have successfully loaded. If loading BokehJS from CDN, this \\n\"+\n",
              "     \"may be due to a slow or bad network connection. Possible fixes:\\n\"+\n",
              "     \"</p>\\n\"+\n",
              "     \"<ul>\\n\"+\n",
              "     \"<li>re-rerun `output_notebook()` to attempt to load from CDN again, or</li>\\n\"+\n",
              "     \"<li>use INLINE resources instead, as so:</li>\\n\"+\n",
              "     \"</ul>\\n\"+\n",
              "     \"<code>\\n\"+\n",
              "     \"from bokeh.resources import INLINE\\n\"+\n",
              "     \"output_notebook(resources=INLINE)\\n\"+\n",
              "     \"</code>\\n\"+\n",
              "     \"</div>\"}};\n",
              "\n",
              "  function display_loaded() {\n",
              "    var el = document.getElementById(null);\n",
              "    if (el != null) {\n",
              "      el.textContent = \"BokehJS is loading...\";\n",
              "    }\n",
              "    if (root.Bokeh !== undefined) {\n",
              "      if (el != null) {\n",
              "        el.textContent = \"BokehJS \" + root.Bokeh.version + \" successfully loaded.\";\n",
              "      }\n",
              "    } else if (Date.now() < root._bokeh_timeout) {\n",
              "      setTimeout(display_loaded, 100)\n",
              "    }\n",
              "  }\n",
              "\n",
              "\n",
              "  function run_callbacks() {\n",
              "    try {\n",
              "      root._bokeh_onload_callbacks.forEach(function(callback) {\n",
              "        if (callback != null)\n",
              "          callback();\n",
              "      });\n",
              "    } finally {\n",
              "      delete root._bokeh_onload_callbacks\n",
              "    }\n",
              "    console.debug(\"Bokeh: all callbacks have finished\");\n",
              "  }\n",
              "\n",
              "  function load_libs(css_urls, js_urls, callback) {\n",
              "    if (css_urls == null) css_urls = [];\n",
              "    if (js_urls == null) js_urls = [];\n",
              "\n",
              "    root._bokeh_onload_callbacks.push(callback);\n",
              "    if (root._bokeh_is_loading > 0) {\n",
              "      console.debug(\"Bokeh: BokehJS is being loaded, scheduling callback at\", now());\n",
              "      return null;\n",
              "    }\n",
              "    if (js_urls == null || js_urls.length === 0) {\n",
              "      run_callbacks();\n",
              "      return null;\n",
              "    }\n",
              "    console.debug(\"Bokeh: BokehJS not loaded, scheduling load and callback at\", now());\n",
              "    root._bokeh_is_loading = css_urls.length + js_urls.length;\n",
              "\n",
              "    function on_load() {\n",
              "      root._bokeh_is_loading--;\n",
              "      if (root._bokeh_is_loading === 0) {\n",
              "        console.debug(\"Bokeh: all BokehJS libraries/stylesheets loaded\");\n",
              "        run_callbacks()\n",
              "      }\n",
              "    }\n",
              "\n",
              "    function on_error(url) {\n",
              "      console.error(\"failed to load \" + url);\n",
              "    }\n",
              "\n",
              "    for (let i = 0; i < css_urls.length; i++) {\n",
              "      const url = css_urls[i];\n",
              "      const element = document.createElement(\"link\");\n",
              "      element.onload = on_load;\n",
              "      element.onerror = on_error.bind(null, url);\n",
              "      element.rel = \"stylesheet\";\n",
              "      element.type = \"text/css\";\n",
              "      element.href = url;\n",
              "      console.debug(\"Bokeh: injecting link tag for BokehJS stylesheet: \", url);\n",
              "      document.body.appendChild(element);\n",
              "    }\n",
              "\n",
              "    const hashes = {\"https://cdn.bokeh.org/bokeh/release/bokeh-2.3.1.min.js\": \"YF85VygJKMVnHE+lLv2AM93Vbstr0yo2TbIu5v8se5Rq3UQAUmcuh4aaJwNlpKwa\", \"https://cdn.bokeh.org/bokeh/release/bokeh-widgets-2.3.1.min.js\": \"KKuas3gevv3PvrlkyCMzffFeaMq5we/a2QsP5AUoS3mJ0jmaCL7jirFJN3GoE/lM\", \"https://cdn.bokeh.org/bokeh/release/bokeh-tables-2.3.1.min.js\": \"MK/uFc3YT18pkvvXRl66tTHjP0/dxoSH2e/eiNMFIguKlun2+WVqaPTWmUy/zvh4\"};\n",
              "\n",
              "    for (let i = 0; i < js_urls.length; i++) {\n",
              "      const url = js_urls[i];\n",
              "      const element = document.createElement('script');\n",
              "      element.onload = on_load;\n",
              "      element.onerror = on_error.bind(null, url);\n",
              "      element.async = false;\n",
              "      element.src = url;\n",
              "      if (url in hashes) {\n",
              "        element.crossOrigin = \"anonymous\";\n",
              "        element.integrity = \"sha384-\" + hashes[url];\n",
              "      }\n",
              "      console.debug(\"Bokeh: injecting script tag for BokehJS library: \", url);\n",
              "      document.head.appendChild(element);\n",
              "    }\n",
              "  };\n",
              "\n",
              "  function inject_raw_css(css) {\n",
              "    const element = document.createElement(\"style\");\n",
              "    element.appendChild(document.createTextNode(css));\n",
              "    document.body.appendChild(element);\n",
              "  }\n",
              "\n",
              "  \n",
              "  var js_urls = [\"https://cdn.bokeh.org/bokeh/release/bokeh-2.3.1.min.js\", \"https://cdn.bokeh.org/bokeh/release/bokeh-widgets-2.3.1.min.js\", \"https://cdn.bokeh.org/bokeh/release/bokeh-tables-2.3.1.min.js\"];\n",
              "  var css_urls = [];\n",
              "  \n",
              "\n",
              "  var inline_js = [\n",
              "    function(Bokeh) {\n",
              "      Bokeh.set_log_level(\"info\");\n",
              "    },\n",
              "    function(Bokeh) {\n",
              "    \n",
              "    \n",
              "    }\n",
              "  ];\n",
              "\n",
              "  function run_inline_js() {\n",
              "    \n",
              "    if (root.Bokeh !== undefined || force === true) {\n",
              "      \n",
              "    for (var i = 0; i < inline_js.length; i++) {\n",
              "      inline_js[i].call(root, root.Bokeh);\n",
              "    }\n",
              "    } else if (Date.now() < root._bokeh_timeout) {\n",
              "      setTimeout(run_inline_js, 100);\n",
              "    } else if (!root._bokeh_failed_load) {\n",
              "      console.log(\"Bokeh: BokehJS failed to load within specified timeout.\");\n",
              "      root._bokeh_failed_load = true;\n",
              "    } else if (force !== true) {\n",
              "      var cell = $(document.getElementById(null)).parents('.cell').data().cell;\n",
              "      cell.output_area.append_execute_result(NB_LOAD_WARNING)\n",
              "    }\n",
              "\n",
              "  }\n",
              "\n",
              "  if (root._bokeh_is_loading === 0) {\n",
              "    console.debug(\"Bokeh: BokehJS loaded, going straight to plotting\");\n",
              "    run_inline_js();\n",
              "  } else {\n",
              "    load_libs(css_urls, js_urls, function() {\n",
              "      console.debug(\"Bokeh: BokehJS plotting callback run at\", now());\n",
              "      run_inline_js();\n",
              "    });\n",
              "  }\n",
              "}(window));"
            ],
            "application/vnd.bokehjs_load.v0+json": "\n(function(root) {\n  function now() {\n    return new Date();\n  }\n\n  var force = true;\n\n  if (typeof root._bokeh_onload_callbacks === \"undefined\" || force === true) {\n    root._bokeh_onload_callbacks = [];\n    root._bokeh_is_loading = undefined;\n  }\n\n  \n\n  \n  if (typeof (root._bokeh_timeout) === \"undefined\" || force === true) {\n    root._bokeh_timeout = Date.now() + 5000;\n    root._bokeh_failed_load = false;\n  }\n\n  var NB_LOAD_WARNING = {'data': {'text/html':\n     \"<div style='background-color: #fdd'>\\n\"+\n     \"<p>\\n\"+\n     \"BokehJS does not appear to have successfully loaded. If loading BokehJS from CDN, this \\n\"+\n     \"may be due to a slow or bad network connection. Possible fixes:\\n\"+\n     \"</p>\\n\"+\n     \"<ul>\\n\"+\n     \"<li>re-rerun `output_notebook()` to attempt to load from CDN again, or</li>\\n\"+\n     \"<li>use INLINE resources instead, as so:</li>\\n\"+\n     \"</ul>\\n\"+\n     \"<code>\\n\"+\n     \"from bokeh.resources import INLINE\\n\"+\n     \"output_notebook(resources=INLINE)\\n\"+\n     \"</code>\\n\"+\n     \"</div>\"}};\n\n  function display_loaded() {\n    var el = document.getElementById(null);\n    if (el != null) {\n      el.textContent = \"BokehJS is loading...\";\n    }\n    if (root.Bokeh !== undefined) {\n      if (el != null) {\n        el.textContent = \"BokehJS \" + root.Bokeh.version + \" successfully loaded.\";\n      }\n    } else if (Date.now() < root._bokeh_timeout) {\n      setTimeout(display_loaded, 100)\n    }\n  }\n\n\n  function run_callbacks() {\n    try {\n      root._bokeh_onload_callbacks.forEach(function(callback) {\n        if (callback != null)\n          callback();\n      });\n    } finally {\n      delete root._bokeh_onload_callbacks\n    }\n    console.debug(\"Bokeh: all callbacks have finished\");\n  }\n\n  function load_libs(css_urls, js_urls, callback) {\n    if (css_urls == null) css_urls = [];\n    if (js_urls == null) js_urls = [];\n\n    root._bokeh_onload_callbacks.push(callback);\n    if (root._bokeh_is_loading > 0) {\n      console.debug(\"Bokeh: BokehJS is being loaded, scheduling callback at\", now());\n      return null;\n    }\n    if (js_urls == null || js_urls.length === 0) {\n      run_callbacks();\n      return null;\n    }\n    console.debug(\"Bokeh: BokehJS not loaded, scheduling load and callback at\", now());\n    root._bokeh_is_loading = css_urls.length + js_urls.length;\n\n    function on_load() {\n      root._bokeh_is_loading--;\n      if (root._bokeh_is_loading === 0) {\n        console.debug(\"Bokeh: all BokehJS libraries/stylesheets loaded\");\n        run_callbacks()\n      }\n    }\n\n    function on_error(url) {\n      console.error(\"failed to load \" + url);\n    }\n\n    for (let i = 0; i < css_urls.length; i++) {\n      const url = css_urls[i];\n      const element = document.createElement(\"link\");\n      element.onload = on_load;\n      element.onerror = on_error.bind(null, url);\n      element.rel = \"stylesheet\";\n      element.type = \"text/css\";\n      element.href = url;\n      console.debug(\"Bokeh: injecting link tag for BokehJS stylesheet: \", url);\n      document.body.appendChild(element);\n    }\n\n    const hashes = {\"https://cdn.bokeh.org/bokeh/release/bokeh-2.3.1.min.js\": \"YF85VygJKMVnHE+lLv2AM93Vbstr0yo2TbIu5v8se5Rq3UQAUmcuh4aaJwNlpKwa\", \"https://cdn.bokeh.org/bokeh/release/bokeh-widgets-2.3.1.min.js\": \"KKuas3gevv3PvrlkyCMzffFeaMq5we/a2QsP5AUoS3mJ0jmaCL7jirFJN3GoE/lM\", \"https://cdn.bokeh.org/bokeh/release/bokeh-tables-2.3.1.min.js\": \"MK/uFc3YT18pkvvXRl66tTHjP0/dxoSH2e/eiNMFIguKlun2+WVqaPTWmUy/zvh4\"};\n\n    for (let i = 0; i < js_urls.length; i++) {\n      const url = js_urls[i];\n      const element = document.createElement('script');\n      element.onload = on_load;\n      element.onerror = on_error.bind(null, url);\n      element.async = false;\n      element.src = url;\n      if (url in hashes) {\n        element.crossOrigin = \"anonymous\";\n        element.integrity = \"sha384-\" + hashes[url];\n      }\n      console.debug(\"Bokeh: injecting script tag for BokehJS library: \", url);\n      document.head.appendChild(element);\n    }\n  };\n\n  function inject_raw_css(css) {\n    const element = document.createElement(\"style\");\n    element.appendChild(document.createTextNode(css));\n    document.body.appendChild(element);\n  }\n\n  \n  var js_urls = [\"https://cdn.bokeh.org/bokeh/release/bokeh-2.3.1.min.js\", \"https://cdn.bokeh.org/bokeh/release/bokeh-widgets-2.3.1.min.js\", \"https://cdn.bokeh.org/bokeh/release/bokeh-tables-2.3.1.min.js\"];\n  var css_urls = [];\n  \n\n  var inline_js = [\n    function(Bokeh) {\n      Bokeh.set_log_level(\"info\");\n    },\n    function(Bokeh) {\n    \n    \n    }\n  ];\n\n  function run_inline_js() {\n    \n    if (root.Bokeh !== undefined || force === true) {\n      \n    for (var i = 0; i < inline_js.length; i++) {\n      inline_js[i].call(root, root.Bokeh);\n    }\n    } else if (Date.now() < root._bokeh_timeout) {\n      setTimeout(run_inline_js, 100);\n    } else if (!root._bokeh_failed_load) {\n      console.log(\"Bokeh: BokehJS failed to load within specified timeout.\");\n      root._bokeh_failed_load = true;\n    } else if (force !== true) {\n      var cell = $(document.getElementById(null)).parents('.cell').data().cell;\n      cell.output_area.append_execute_result(NB_LOAD_WARNING)\n    }\n\n  }\n\n  if (root._bokeh_is_loading === 0) {\n    console.debug(\"Bokeh: BokehJS loaded, going straight to plotting\");\n    run_inline_js();\n  } else {\n    load_libs(css_urls, js_urls, function() {\n      console.debug(\"Bokeh: BokehJS plotting callback run at\", now());\n      run_inline_js();\n    });\n  }\n}(window));"
          },
          "metadata": {
            "tags": []
          }
        },
        {
          "output_type": "display_data",
          "data": {
            "text/html": [
              "\n",
              "\n",
              "\n",
              "\n",
              "\n",
              "\n",
              "  <div class=\"bk-root\" id=\"cdc68f34-1e5a-4c71-9667-bda80dd88ab6\" data-root-id=\"1120\"></div>\n"
            ]
          },
          "metadata": {
            "tags": []
          }
        },
        {
          "output_type": "display_data",
          "data": {
            "application/javascript": [
              "(function(root) {\n",
              "  function embed_document(root) {\n",
              "    \n",
              "  var docs_json = {\"9919d32c-ac8b-45b1-bea9-371a162bc3f3\":{\"defs\":[],\"roots\":{\"references\":[{\"attributes\":{\"below\":[{\"id\":\"1131\"}],\"center\":[{\"id\":\"1134\"},{\"id\":\"1138\"}],\"left\":[{\"id\":\"1135\"}],\"renderers\":[{\"id\":\"1156\"}],\"title\":{\"id\":\"1121\"},\"toolbar\":{\"id\":\"1146\"},\"x_range\":{\"id\":\"1123\"},\"x_scale\":{\"id\":\"1127\"},\"y_range\":{\"id\":\"1125\"},\"y_scale\":{\"id\":\"1129\"}},\"id\":\"1120\",\"subtype\":\"Figure\",\"type\":\"Plot\"},{\"attributes\":{\"axis\":{\"id\":\"1135\"},\"dimension\":1,\"ticker\":null},\"id\":\"1138\",\"type\":\"Grid\"},{\"attributes\":{},\"id\":\"1166\",\"type\":\"Selection\"},{\"attributes\":{\"axis\":{\"id\":\"1131\"},\"ticker\":null},\"id\":\"1134\",\"type\":\"Grid\"},{\"attributes\":{},\"id\":\"1132\",\"type\":\"BasicTicker\"},{\"attributes\":{\"source\":{\"id\":\"1119\"}},\"id\":\"1157\",\"type\":\"CDSView\"},{\"attributes\":{},\"id\":\"1127\",\"type\":\"LinearScale\"},{\"attributes\":{},\"id\":\"1125\",\"type\":\"DataRange1d\"},{\"attributes\":{},\"id\":\"1129\",\"type\":\"LinearScale\"},{\"attributes\":{\"active_multi\":null,\"tools\":[{\"id\":\"1139\"},{\"id\":\"1140\"},{\"id\":\"1141\"},{\"id\":\"1142\"},{\"id\":\"1143\"},{\"id\":\"1144\"}]},\"id\":\"1146\",\"type\":\"Toolbar\"},{\"attributes\":{\"axis_label\":\"Normalized Weight\",\"formatter\":{\"id\":\"1164\"},\"major_label_policy\":{\"id\":\"1162\"},\"ticker\":{\"id\":\"1132\"}},\"id\":\"1131\",\"type\":\"LinearAxis\"},{\"attributes\":{\"axis_label\":\"Normalized Height\",\"formatter\":{\"id\":\"1161\"},\"major_label_policy\":{\"id\":\"1159\"},\"ticker\":{\"id\":\"1136\"}},\"id\":\"1135\",\"type\":\"LinearAxis\"},{\"attributes\":{},\"id\":\"1140\",\"type\":\"WheelZoomTool\"},{\"attributes\":{},\"id\":\"1123\",\"type\":\"DataRange1d\"},{\"attributes\":{\"text\":\"Plot of Dog Breeds\"},\"id\":\"1121\",\"type\":\"Title\"},{\"attributes\":{},\"id\":\"1159\",\"type\":\"AllLabels\"},{\"attributes\":{},\"id\":\"1161\",\"type\":\"BasicTickFormatter\"},{\"attributes\":{\"bottom_units\":\"screen\",\"fill_alpha\":0.5,\"fill_color\":\"lightgrey\",\"left_units\":\"screen\",\"level\":\"overlay\",\"line_alpha\":1.0,\"line_color\":\"black\",\"line_dash\":[4,4],\"line_width\":2,\"right_units\":\"screen\",\"syncable\":false,\"top_units\":\"screen\"},\"id\":\"1145\",\"type\":\"BoxAnnotation\"},{\"attributes\":{\"fill_color\":{\"value\":\"#1f77b4\"},\"line_color\":{\"value\":\"#1f77b4\"},\"x\":{\"field\":\"weight (pounds)\"},\"y\":{\"field\":\"height (inches)\"}},\"id\":\"1154\",\"type\":\"Scatter\"},{\"attributes\":{\"overlay\":{\"id\":\"1145\"}},\"id\":\"1141\",\"type\":\"BoxZoomTool\"},{\"attributes\":{\"data_source\":{\"id\":\"1119\"},\"glyph\":{\"id\":\"1154\"},\"hover_glyph\":null,\"muted_glyph\":null,\"nonselection_glyph\":{\"id\":\"1155\"},\"view\":{\"id\":\"1157\"}},\"id\":\"1156\",\"type\":\"GlyphRenderer\"},{\"attributes\":{},\"id\":\"1143\",\"type\":\"ResetTool\"},{\"attributes\":{},\"id\":\"1139\",\"type\":\"PanTool\"},{\"attributes\":{\"data\":{\"breed\":[\"Border Collie\",\"Boston Terrier\",\"Brittany Spaniel\",\"Bullmastiff\",\"Chihuahua\",\"German Shepherd\",\"Golden Retreiver\",\"Great Dane\",\"Portuguese Water Dog\",\"Standard Poodle\",\"Yorkshire Terrier\"],\"height (inches)\":{\"__ndarray__\":\"shM7sRM74T/ZiZ3YiZ3YP53YiZ3Yid0/ip3YiZ3Y6T8UO7ETO7GzPyh2Yid2Yuc/xk7sxE7s5D8AAAAAAADwP2IndmInduI/AAAAAAAA4D8AAAAAAAAAAA==\",\"dtype\":\"float64\",\"order\":\"little\",\"shape\":[11]},\"weight (pounds)\":{\"__ndarray__\":\"IHXKH3XKzz8Wa8AVa8C1PxjCbBfCbMc/+Eyi90yi5z8YcMUacMV6P10Is10Is90/W1paWlpa2j8AAAAAAADwP1Kn/FGn/NE/mO1CmO1C2D8AAAAAAAAAAA==\",\"dtype\":\"float64\",\"order\":\"little\",\"shape\":[11]}},\"selected\":{\"id\":\"1166\"},\"selection_policy\":{\"id\":\"1165\"}},\"id\":\"1119\",\"type\":\"ColumnDataSource\"},{\"attributes\":{},\"id\":\"1142\",\"type\":\"SaveTool\"},{\"attributes\":{},\"id\":\"1136\",\"type\":\"BasicTicker\"},{\"attributes\":{},\"id\":\"1162\",\"type\":\"AllLabels\"},{\"attributes\":{},\"id\":\"1164\",\"type\":\"BasicTickFormatter\"},{\"attributes\":{},\"id\":\"1144\",\"type\":\"HelpTool\"},{\"attributes\":{},\"id\":\"1165\",\"type\":\"UnionRenderers\"},{\"attributes\":{\"fill_alpha\":{\"value\":0.1},\"fill_color\":{\"value\":\"#1f77b4\"},\"line_alpha\":{\"value\":0.1},\"line_color\":{\"value\":\"#1f77b4\"},\"x\":{\"field\":\"weight (pounds)\"},\"y\":{\"field\":\"height (inches)\"}},\"id\":\"1155\",\"type\":\"Scatter\"}],\"root_ids\":[\"1120\"]},\"title\":\"Bokeh Application\",\"version\":\"2.3.1\"}};\n",
              "  var render_items = [{\"docid\":\"9919d32c-ac8b-45b1-bea9-371a162bc3f3\",\"root_ids\":[\"1120\"],\"roots\":{\"1120\":\"cdc68f34-1e5a-4c71-9667-bda80dd88ab6\"}}];\n",
              "  root.Bokeh.embed.embed_items_notebook(docs_json, render_items);\n",
              "\n",
              "  }\n",
              "  if (root.Bokeh !== undefined) {\n",
              "    embed_document(root);\n",
              "  } else {\n",
              "    var attempts = 0;\n",
              "    var timer = setInterval(function(root) {\n",
              "      if (root.Bokeh !== undefined) {\n",
              "        clearInterval(timer);\n",
              "        embed_document(root);\n",
              "      } else {\n",
              "        attempts++;\n",
              "        if (attempts > 100) {\n",
              "          clearInterval(timer);\n",
              "          console.log(\"Bokeh: ERROR: Unable to run BokehJS code because BokehJS library is missing\");\n",
              "        }\n",
              "      }\n",
              "    }, 10, root)\n",
              "  }\n",
              "})(window);"
            ],
            "application/vnd.bokehjs_exec.v0+json": ""
          },
          "metadata": {
            "tags": [],
            "application/vnd.bokehjs_exec.v0+json": {
              "id": "1120"
            }
          }
        }
      ]
    },
    {
      "cell_type": "markdown",
      "metadata": {
        "id": "wNd0rh6B4r5Q"
      },
      "source": [
        "Gazing at the scatter plot, it looks like we could group the data into three clusters. There are the 2 data points on the bottom left (*Chihuahua* and *Yorkshire Terrier*) The top right group of two (*Bull Mastiff* and *Great Dane*) and the middle group with all the other breeds. \n",
        "\n",
        "\n",
        "## My book\n",
        "![](http://zacharski.org/wp-content/uploads/2010/02/cover.png)\n",
        "\n",
        "Years ago I wrote a book on machine learning.The English version is free, and [the Chinese version is available on Amazon](https://www.amazon.com/%E5%86%99%E7%BB%99%E7%A8%8B%E5%BA%8F%E5%91%98%E7%9A%84%E6%95%B0%E6%8D%AE%E6%8C%96%E6%8E%98%E5%AE%9E%E8%B7%B5%E6%8C%87%E5%8D%97%EF%BC%88%E5%BC%82%E6%AD%A5%E5%9B%BE%E4%B9%A6%EF%BC%89-Chinese-Ron-Zacharski-%E6%89%8E%E5%93%88%E5%B0%94%E6%96%AF%E5%9F%BA-ebook/dp/B01ASYWU2I/ref=sr_1_6?dchild=1&keywords=zacharski&qid=1617035941&sr=8-6). The field has changed so much that most of the book is out of date. However [the general explanation of clustering](http://guidetodatamining.com/assets/guideChapters/DataMining-ch8.pdf) in the related chapter still is current and instead of repeating that here just read the material at the link. The book has the algorithms implemented from scratch but now these algorithms are available in sklearn:\n",
        "\n",
        "\n",
        "## k means clustering\n",
        "\n",
        "Let's divide our dog dataset into 3 clusters:\n"
      ]
    },
    {
      "cell_type": "code",
      "metadata": {
        "id": "2skLMP5X4r5Q"
      },
      "source": [
        "from sklearn.cluster import KMeans\n",
        "kmeans = KMeans(n_clusters=3, ).fit(dog_data)\n",
        "labels = kmeans.labels_"
      ],
      "execution_count": 15,
      "outputs": []
    },
    {
      "cell_type": "markdown",
      "metadata": {
        "id": "0qTILIqf4r5R"
      },
      "source": [
        "The variable `labels` is an array the specifies which group each dog belongs to:"
      ]
    },
    {
      "cell_type": "code",
      "metadata": {
        "id": "77rM5cBM4r5R",
        "outputId": "65f48792-58e9-4e2d-a0b7-07f0962e1846",
        "colab": {
          "base_uri": "https://localhost:8080/"
        }
      },
      "source": [
        "labels"
      ],
      "execution_count": 16,
      "outputs": [
        {
          "output_type": "execute_result",
          "data": {
            "text/plain": [
              "array([0, 0, 0, 1, 2, 0, 0, 1, 0, 0, 2], dtype=int32)"
            ]
          },
          "metadata": {
            "tags": []
          },
          "execution_count": 16
        }
      ]
    },
    {
      "cell_type": "markdown",
      "metadata": {
        "id": "WSlFYCBr4r5R"
      },
      "source": [
        "My results were:\n",
        "\n",
        "    array([0, 0, 0, 1, 2, 0, 0, 1, 0, 0, 2], dtype=int32)\n",
        "\n",
        "which indicates that the first, second, and third dogs are in group 0, the next one in group 1 and so on  That may be helpful for future computational tasks but is not the helpful if we are trying to visualize the data. Let me munge that a bit into a slightly more useful form:"
      ]
    },
    {
      "cell_type": "code",
      "metadata": {
        "id": "8DHfIQVP4r5R",
        "outputId": "9196a1ca-0cd6-4858-a29a-ef46f1e6a159",
        "colab": {
          "base_uri": "https://localhost:8080/"
        }
      },
      "source": [
        "groups = {0: [], 1: [], 2: []}\n",
        "i = 0\n",
        "for index, row in dog_data.iterrows():\n",
        "    groups[labels[i]].append(index)\n",
        "    i += 1\n",
        "## Now I will print it in a nice way:\n",
        "\n",
        "for key, value in groups.items():\n",
        "    print ('CLUSTER %i' % key)\n",
        "    for breed in value:\n",
        "        print(\"    %s\" % breed)\n",
        "    print('\\n')"
      ],
      "execution_count": 17,
      "outputs": [
        {
          "output_type": "stream",
          "text": [
            "CLUSTER 0\n",
            "    Border Collie\n",
            "    Boston Terrier\n",
            "    Brittany Spaniel\n",
            "    German Shepherd\n",
            "    Golden Retreiver\n",
            "    Portuguese Water Dog\n",
            "    Standard Poodle\n",
            "\n",
            "\n",
            "CLUSTER 1\n",
            "    Bullmastiff\n",
            "    Great Dane\n",
            "\n",
            "\n",
            "CLUSTER 2\n",
            "    Chihuahua\n",
            "    Yorkshire Terrier\n",
            "\n",
            "\n"
          ],
          "name": "stdout"
        }
      ]
    },
    {
      "cell_type": "markdown",
      "metadata": {
        "id": "n_OMZ5HL4r5S"
      },
      "source": [
        "keep in mind that since they initial centroids are selected somewhat randomly it is possible that you get a different answer than I do. The answer I got was:\n",
        "\n",
        "    CLUSTER 0\n",
        "        Border Collie\n",
        "        Boston Terrier\n",
        "        Brittany Spaniel\n",
        "        German Shepherd\n",
        "        Golden Retreiver\n",
        "        Portuguese Water Dog\n",
        "        Standard Poodle\n",
        "    \n",
        "\n",
        "    CLUSTER 1\n",
        "        Bullmastiff\n",
        "        Great Dane\n",
        "\n",
        "\n",
        "    CLUSTER 2\n",
        "        Chihuahua\n",
        "        Yorkshire Terrier\n",
        "\n",
        "\n",
        "## Hierarchical Clustering\n",
        "\n",
        "For the basics on hierarchical clustering consult [the fine chapter I mentioned](http://guidetodatamining.com/assets/guideChapters/DataMining-ch8.pdf). Here is how to do hierarchical clustering in sklearn."
      ]
    },
    {
      "cell_type": "code",
      "metadata": {
        "id": "jTNxpY1J4r5S",
        "outputId": "725ffaf9-4d8f-4264-a7e7-263338095f22",
        "colab": {
          "base_uri": "https://localhost:8080/"
        }
      },
      "source": [
        "from sklearn.cluster import AgglomerativeClustering\n",
        "clusterer = AgglomerativeClustering(affinity='euclidean', linkage='ward')\n",
        "clusterer.fit(dog_data)"
      ],
      "execution_count": 18,
      "outputs": [
        {
          "output_type": "execute_result",
          "data": {
            "text/plain": [
              "AgglomerativeClustering(affinity='euclidean', compute_full_tree='auto',\n",
              "                        connectivity=None, distance_threshold=None,\n",
              "                        linkage='ward', memory=None, n_clusters=2)"
            ]
          },
          "metadata": {
            "tags": []
          },
          "execution_count": 18
        }
      ]
    },
    {
      "cell_type": "markdown",
      "metadata": {
        "id": "F2bA4cgu4r5T"
      },
      "source": [
        "we can get the highest level division by viewing the `.labels_`:\n"
      ]
    },
    {
      "cell_type": "code",
      "metadata": {
        "id": "FYTJpb6-4r5T",
        "outputId": "36674a41-ac55-4e92-e55d-f86868149a0e",
        "colab": {
          "base_uri": "https://localhost:8080/"
        }
      },
      "source": [
        "clusterer.labels_"
      ],
      "execution_count": 19,
      "outputs": [
        {
          "output_type": "execute_result",
          "data": {
            "text/plain": [
              "array([0, 0, 0, 1, 0, 0, 0, 1, 0, 0, 0])"
            ]
          },
          "metadata": {
            "tags": []
          },
          "execution_count": 19
        }
      ]
    },
    {
      "cell_type": "markdown",
      "metadata": {
        "id": "i_J85yFr4r5T"
      },
      "source": [
        "So here the first dog breed, Border Collie belongs to cluster 0. Keep in mind that in kmeans there is a random element--the selection of the initial centroids, but in hierarchical clustering there is no randomness so you should get the exact same answer I do. so that is the high level division but the hierarchical clustering algorithm constructs a tree - specifically, a dendrogram. To view that requires some imagination.  I can print a representation of the tree by:"
      ]
    },
    {
      "cell_type": "code",
      "metadata": {
        "id": "rGdrv0Kq4r5T",
        "outputId": "cb5eba40-53a0-4665-d0e5-95c037df7039",
        "colab": {
          "base_uri": "https://localhost:8080/"
        }
      },
      "source": [
        "import itertools\n",
        "ii = itertools.count(dog_data.shape[0])\n",
        "[{'node_id': next(ii), 'left': x[0], 'right':x[1]} for x in clusterer.children_]"
      ],
      "execution_count": 20,
      "outputs": [
        {
          "output_type": "execute_result",
          "data": {
            "text/plain": [
              "[{'left': 0, 'node_id': 11, 'right': 8},\n",
              " {'left': 4, 'node_id': 12, 'right': 10},\n",
              " {'left': 5, 'node_id': 13, 'right': 6},\n",
              " {'left': 1, 'node_id': 14, 'right': 2},\n",
              " {'left': 9, 'node_id': 15, 'right': 11},\n",
              " {'left': 14, 'node_id': 16, 'right': 15},\n",
              " {'left': 3, 'node_id': 17, 'right': 7},\n",
              " {'left': 13, 'node_id': 18, 'right': 16},\n",
              " {'left': 12, 'node_id': 19, 'right': 18},\n",
              " {'left': 17, 'node_id': 20, 'right': 19}]"
            ]
          },
          "metadata": {
            "tags": []
          },
          "execution_count": 20
        }
      ]
    },
    {
      "cell_type": "markdown",
      "metadata": {
        "id": "336xIjIv4r5U"
      },
      "source": [
        "The first line `{'left': 0, 'node_id': 11, 'right': 8}` reads that we combine cluster 0 *Border Collie* with cluster 8 *Portuguese Water Dog* to create Cluster 11. The next line says we  combine 4 *Chihuahua* with 10 *Yorkshire Terrier* to create cluster 12.  Let's associate index numbers with the dog breed names so that structure is easier to parse:\n"
      ]
    },
    {
      "cell_type": "code",
      "metadata": {
        "id": "5o2v0-cT4r5U",
        "outputId": "42149c8f-0645-42f1-89f1-d7017914cfce",
        "colab": {
          "base_uri": "https://localhost:8080/",
          "height": 390
        }
      },
      "source": [
        "dog_names = pd.DataFrame({'breeds': dog_data.index.values})\n",
        "dog_names"
      ],
      "execution_count": 21,
      "outputs": [
        {
          "output_type": "execute_result",
          "data": {
            "text/html": [
              "<div>\n",
              "<style scoped>\n",
              "    .dataframe tbody tr th:only-of-type {\n",
              "        vertical-align: middle;\n",
              "    }\n",
              "\n",
              "    .dataframe tbody tr th {\n",
              "        vertical-align: top;\n",
              "    }\n",
              "\n",
              "    .dataframe thead th {\n",
              "        text-align: right;\n",
              "    }\n",
              "</style>\n",
              "<table border=\"1\" class=\"dataframe\">\n",
              "  <thead>\n",
              "    <tr style=\"text-align: right;\">\n",
              "      <th></th>\n",
              "      <th>breeds</th>\n",
              "    </tr>\n",
              "  </thead>\n",
              "  <tbody>\n",
              "    <tr>\n",
              "      <th>0</th>\n",
              "      <td>Border Collie</td>\n",
              "    </tr>\n",
              "    <tr>\n",
              "      <th>1</th>\n",
              "      <td>Boston Terrier</td>\n",
              "    </tr>\n",
              "    <tr>\n",
              "      <th>2</th>\n",
              "      <td>Brittany Spaniel</td>\n",
              "    </tr>\n",
              "    <tr>\n",
              "      <th>3</th>\n",
              "      <td>Bullmastiff</td>\n",
              "    </tr>\n",
              "    <tr>\n",
              "      <th>4</th>\n",
              "      <td>Chihuahua</td>\n",
              "    </tr>\n",
              "    <tr>\n",
              "      <th>5</th>\n",
              "      <td>German Shepherd</td>\n",
              "    </tr>\n",
              "    <tr>\n",
              "      <th>6</th>\n",
              "      <td>Golden Retreiver</td>\n",
              "    </tr>\n",
              "    <tr>\n",
              "      <th>7</th>\n",
              "      <td>Great Dane</td>\n",
              "    </tr>\n",
              "    <tr>\n",
              "      <th>8</th>\n",
              "      <td>Portuguese Water Dog</td>\n",
              "    </tr>\n",
              "    <tr>\n",
              "      <th>9</th>\n",
              "      <td>Standard Poodle</td>\n",
              "    </tr>\n",
              "    <tr>\n",
              "      <th>10</th>\n",
              "      <td>Yorkshire Terrier</td>\n",
              "    </tr>\n",
              "  </tbody>\n",
              "</table>\n",
              "</div>"
            ],
            "text/plain": [
              "                  breeds\n",
              "0          Border Collie\n",
              "1         Boston Terrier\n",
              "2       Brittany Spaniel\n",
              "3            Bullmastiff\n",
              "4              Chihuahua\n",
              "5        German Shepherd\n",
              "6       Golden Retreiver\n",
              "7             Great Dane\n",
              "8   Portuguese Water Dog\n",
              "9        Standard Poodle\n",
              "10     Yorkshire Terrier"
            ]
          },
          "metadata": {
            "tags": []
          },
          "execution_count": 21
        }
      ]
    },
    {
      "cell_type": "markdown",
      "metadata": {
        "id": "jVSLZcCN4r5V"
      },
      "source": [
        "That makes it easier to interpret lines like:\n",
        "\n",
        "    {'left': 1, 'node_id': 14, 'right': 2},\n",
        "    \n",
        "We are combining `1` *Boston Terrier* and `2` *Brittany Spaniel*\n",
        "\n",
        "So when we draw this out we get:\n",
        "\n",
        "<img src=\"http://zacharski.org/files/courses/cs419/dendro.png\" width=\"700\"/>\n",
        "\n",
        "\n",
        "<h1 style=\"color:red\">Tasks</h1>\n",
        "\n",
        "<h2 style=\"color:red\">Task 1: Breakfast Cereals</h2>\n",
        "I would like you to create 4 clusters of the data in:\n",
        "\n",
        "    https://raw.githubusercontent.com/zacharski/pg2dm-python/master/data/ch8/cereal.csv\n",
        "    \n",
        "For clustering use the features calories, sugar, protein, and fiber.\n",
        "\n",
        "Print out the results as we did for the dog breed data:\n",
        "\n",
        "\n",
        "    CLUSTER 0\n",
        "    Bullmastiff\n",
        "    Great Dane\n",
        "    \n",
        "\n",
        "    CLUSTER 1\n",
        "        Chihuahua\n",
        "        Yorkshire Terrier\n",
        "    \n",
        "\n",
        "    CLUSTER 2\n",
        "        Border Collie\n",
        "        Boston Terrier\n",
        "        Brittany Spaniel\n",
        "        German Shepherd\n",
        "        Golden Retreiver\n",
        "        Portuguese Water Dog\n",
        "        Standard Poodle\n",
        "        \n",
        "Because the initial centroids are random, by default the sklearn kmeans agorithm runs the algorithm 10 times and picks the best results (based on some of squares error). I would like you to change that parameter so it runs the algorithm 100 times.   Just google `sklearn kmeans` to get documentation on the parameters."
      ]
    },
    {
      "cell_type": "code",
      "metadata": {
        "collapsed": true,
        "id": "K2RR8kwx4r5V",
        "outputId": "c27ce5d2-5d04-476d-870c-0a566a01b0e4",
        "colab": {
          "base_uri": "https://localhost:8080/",
          "height": 450
        }
      },
      "source": [
        "import pandas as pd\n",
        "cereals = pd.read_csv('https://raw.githubusercontent.com/zacharski/pg2dm-python/master/data/ch8/cereal.csv', index_col='Name')\n",
        "cereals = cereals[['Calories', 'Protein', 'dietary fiber (g)', 'sugar']]\n",
        "cereals"
      ],
      "execution_count": 35,
      "outputs": [
        {
          "output_type": "execute_result",
          "data": {
            "text/html": [
              "<div>\n",
              "<style scoped>\n",
              "    .dataframe tbody tr th:only-of-type {\n",
              "        vertical-align: middle;\n",
              "    }\n",
              "\n",
              "    .dataframe tbody tr th {\n",
              "        vertical-align: top;\n",
              "    }\n",
              "\n",
              "    .dataframe thead th {\n",
              "        text-align: right;\n",
              "    }\n",
              "</style>\n",
              "<table border=\"1\" class=\"dataframe\">\n",
              "  <thead>\n",
              "    <tr style=\"text-align: right;\">\n",
              "      <th></th>\n",
              "      <th>Calories</th>\n",
              "      <th>Protein</th>\n",
              "      <th>dietary fiber (g)</th>\n",
              "      <th>sugar</th>\n",
              "    </tr>\n",
              "    <tr>\n",
              "      <th>Name</th>\n",
              "      <th></th>\n",
              "      <th></th>\n",
              "      <th></th>\n",
              "      <th></th>\n",
              "    </tr>\n",
              "  </thead>\n",
              "  <tbody>\n",
              "    <tr>\n",
              "      <th>100% Bran</th>\n",
              "      <td>70</td>\n",
              "      <td>4</td>\n",
              "      <td>10.0</td>\n",
              "      <td>6</td>\n",
              "    </tr>\n",
              "    <tr>\n",
              "      <th>100% Natural Bran</th>\n",
              "      <td>120</td>\n",
              "      <td>3</td>\n",
              "      <td>2.0</td>\n",
              "      <td>8</td>\n",
              "    </tr>\n",
              "    <tr>\n",
              "      <th>All-Bran</th>\n",
              "      <td>70</td>\n",
              "      <td>4</td>\n",
              "      <td>9.0</td>\n",
              "      <td>5</td>\n",
              "    </tr>\n",
              "    <tr>\n",
              "      <th>All-Bran with Extra Fiber</th>\n",
              "      <td>50</td>\n",
              "      <td>4</td>\n",
              "      <td>14.0</td>\n",
              "      <td>0</td>\n",
              "    </tr>\n",
              "    <tr>\n",
              "      <th>Almond Delight</th>\n",
              "      <td>110</td>\n",
              "      <td>2</td>\n",
              "      <td>1.0</td>\n",
              "      <td>8</td>\n",
              "    </tr>\n",
              "    <tr>\n",
              "      <th>...</th>\n",
              "      <td>...</td>\n",
              "      <td>...</td>\n",
              "      <td>...</td>\n",
              "      <td>...</td>\n",
              "    </tr>\n",
              "    <tr>\n",
              "      <th>Triples</th>\n",
              "      <td>110</td>\n",
              "      <td>2</td>\n",
              "      <td>0.0</td>\n",
              "      <td>3</td>\n",
              "    </tr>\n",
              "    <tr>\n",
              "      <th>Trix</th>\n",
              "      <td>110</td>\n",
              "      <td>1</td>\n",
              "      <td>0.0</td>\n",
              "      <td>12</td>\n",
              "    </tr>\n",
              "    <tr>\n",
              "      <th>Wheat Chex</th>\n",
              "      <td>100</td>\n",
              "      <td>3</td>\n",
              "      <td>3.0</td>\n",
              "      <td>3</td>\n",
              "    </tr>\n",
              "    <tr>\n",
              "      <th>Wheaties</th>\n",
              "      <td>100</td>\n",
              "      <td>3</td>\n",
              "      <td>3.0</td>\n",
              "      <td>3</td>\n",
              "    </tr>\n",
              "    <tr>\n",
              "      <th>Wheaties Honey Gold</th>\n",
              "      <td>110</td>\n",
              "      <td>2</td>\n",
              "      <td>1.0</td>\n",
              "      <td>8</td>\n",
              "    </tr>\n",
              "  </tbody>\n",
              "</table>\n",
              "<p>77 rows × 4 columns</p>\n",
              "</div>"
            ],
            "text/plain": [
              "                           Calories  Protein  dietary fiber (g)  sugar\n",
              "Name                                                                  \n",
              "100% Bran                        70        4               10.0      6\n",
              "100% Natural Bran               120        3                2.0      8\n",
              "All-Bran                         70        4                9.0      5\n",
              "All-Bran with Extra Fiber        50        4               14.0      0\n",
              "Almond Delight                  110        2                1.0      8\n",
              "...                             ...      ...                ...    ...\n",
              "Triples                         110        2                0.0      3\n",
              "Trix                            110        1                0.0     12\n",
              "Wheat Chex                      100        3                3.0      3\n",
              "Wheaties                        100        3                3.0      3\n",
              "Wheaties Honey Gold             110        2                1.0      8\n",
              "\n",
              "[77 rows x 4 columns]"
            ]
          },
          "metadata": {
            "tags": []
          },
          "execution_count": 35
        }
      ]
    },
    {
      "cell_type": "code",
      "metadata": {
        "id": "r5dSK2gmTkjw",
        "outputId": "e1194762-eeb1-4e84-8dbf-6a6380960b46",
        "colab": {
          "base_uri": "https://localhost:8080/",
          "height": 450
        }
      },
      "source": [
        "from sklearn.preprocessing import MinMaxScaler\n",
        "scaler = MinMaxScaler()\n",
        "cereals[['Calories', 'Protein', 'dietary fiber (g)', 'sugar']] =  scaler.fit_transform(cereals[['Calories', 'Protein', 'dietary fiber (g)', 'sugar']] )\n",
        "cereals"
      ],
      "execution_count": 36,
      "outputs": [
        {
          "output_type": "execute_result",
          "data": {
            "text/html": [
              "<div>\n",
              "<style scoped>\n",
              "    .dataframe tbody tr th:only-of-type {\n",
              "        vertical-align: middle;\n",
              "    }\n",
              "\n",
              "    .dataframe tbody tr th {\n",
              "        vertical-align: top;\n",
              "    }\n",
              "\n",
              "    .dataframe thead th {\n",
              "        text-align: right;\n",
              "    }\n",
              "</style>\n",
              "<table border=\"1\" class=\"dataframe\">\n",
              "  <thead>\n",
              "    <tr style=\"text-align: right;\">\n",
              "      <th></th>\n",
              "      <th>Calories</th>\n",
              "      <th>Protein</th>\n",
              "      <th>dietary fiber (g)</th>\n",
              "      <th>sugar</th>\n",
              "    </tr>\n",
              "    <tr>\n",
              "      <th>Name</th>\n",
              "      <th></th>\n",
              "      <th></th>\n",
              "      <th></th>\n",
              "      <th></th>\n",
              "    </tr>\n",
              "  </thead>\n",
              "  <tbody>\n",
              "    <tr>\n",
              "      <th>100% Bran</th>\n",
              "      <td>0.181818</td>\n",
              "      <td>0.6</td>\n",
              "      <td>0.714286</td>\n",
              "      <td>0.4375</td>\n",
              "    </tr>\n",
              "    <tr>\n",
              "      <th>100% Natural Bran</th>\n",
              "      <td>0.636364</td>\n",
              "      <td>0.4</td>\n",
              "      <td>0.142857</td>\n",
              "      <td>0.5625</td>\n",
              "    </tr>\n",
              "    <tr>\n",
              "      <th>All-Bran</th>\n",
              "      <td>0.181818</td>\n",
              "      <td>0.6</td>\n",
              "      <td>0.642857</td>\n",
              "      <td>0.3750</td>\n",
              "    </tr>\n",
              "    <tr>\n",
              "      <th>All-Bran with Extra Fiber</th>\n",
              "      <td>0.000000</td>\n",
              "      <td>0.6</td>\n",
              "      <td>1.000000</td>\n",
              "      <td>0.0625</td>\n",
              "    </tr>\n",
              "    <tr>\n",
              "      <th>Almond Delight</th>\n",
              "      <td>0.545455</td>\n",
              "      <td>0.2</td>\n",
              "      <td>0.071429</td>\n",
              "      <td>0.5625</td>\n",
              "    </tr>\n",
              "    <tr>\n",
              "      <th>...</th>\n",
              "      <td>...</td>\n",
              "      <td>...</td>\n",
              "      <td>...</td>\n",
              "      <td>...</td>\n",
              "    </tr>\n",
              "    <tr>\n",
              "      <th>Triples</th>\n",
              "      <td>0.545455</td>\n",
              "      <td>0.2</td>\n",
              "      <td>0.000000</td>\n",
              "      <td>0.2500</td>\n",
              "    </tr>\n",
              "    <tr>\n",
              "      <th>Trix</th>\n",
              "      <td>0.545455</td>\n",
              "      <td>0.0</td>\n",
              "      <td>0.000000</td>\n",
              "      <td>0.8125</td>\n",
              "    </tr>\n",
              "    <tr>\n",
              "      <th>Wheat Chex</th>\n",
              "      <td>0.454545</td>\n",
              "      <td>0.4</td>\n",
              "      <td>0.214286</td>\n",
              "      <td>0.2500</td>\n",
              "    </tr>\n",
              "    <tr>\n",
              "      <th>Wheaties</th>\n",
              "      <td>0.454545</td>\n",
              "      <td>0.4</td>\n",
              "      <td>0.214286</td>\n",
              "      <td>0.2500</td>\n",
              "    </tr>\n",
              "    <tr>\n",
              "      <th>Wheaties Honey Gold</th>\n",
              "      <td>0.545455</td>\n",
              "      <td>0.2</td>\n",
              "      <td>0.071429</td>\n",
              "      <td>0.5625</td>\n",
              "    </tr>\n",
              "  </tbody>\n",
              "</table>\n",
              "<p>77 rows × 4 columns</p>\n",
              "</div>"
            ],
            "text/plain": [
              "                           Calories  Protein  dietary fiber (g)   sugar\n",
              "Name                                                                   \n",
              "100% Bran                  0.181818      0.6           0.714286  0.4375\n",
              "100% Natural Bran          0.636364      0.4           0.142857  0.5625\n",
              "All-Bran                   0.181818      0.6           0.642857  0.3750\n",
              "All-Bran with Extra Fiber  0.000000      0.6           1.000000  0.0625\n",
              "Almond Delight             0.545455      0.2           0.071429  0.5625\n",
              "...                             ...      ...                ...     ...\n",
              "Triples                    0.545455      0.2           0.000000  0.2500\n",
              "Trix                       0.545455      0.0           0.000000  0.8125\n",
              "Wheat Chex                 0.454545      0.4           0.214286  0.2500\n",
              "Wheaties                   0.454545      0.4           0.214286  0.2500\n",
              "Wheaties Honey Gold        0.545455      0.2           0.071429  0.5625\n",
              "\n",
              "[77 rows x 4 columns]"
            ]
          },
          "metadata": {
            "tags": []
          },
          "execution_count": 36
        }
      ]
    },
    {
      "cell_type": "code",
      "metadata": {
        "id": "83j4GUXNSWuA"
      },
      "source": [
        "from sklearn.cluster import KMeans\n",
        "kmeans = KMeans(n_clusters=4, n_init=100).fit(cereals)\n",
        "labels = kmeans.labels_"
      ],
      "execution_count": 37,
      "outputs": []
    },
    {
      "cell_type": "code",
      "metadata": {
        "id": "HvCfZAr-TZfP",
        "outputId": "3f4310c4-d5cb-4de7-e8c1-30a59f792a74",
        "colab": {
          "base_uri": "https://localhost:8080/"
        }
      },
      "source": [
        "labels"
      ],
      "execution_count": 38,
      "outputs": [
        {
          "output_type": "execute_result",
          "data": {
            "text/plain": [
              "array([1, 0, 1, 1, 3, 3, 3, 0, 2, 2, 3, 1, 3, 2, 3, 2, 2, 3, 3, 2, 2, 2,\n",
              "       3, 2, 3, 3, 2, 0, 0, 3, 3, 3, 2, 2, 2, 3, 0, 3, 2, 0, 2, 2, 3, 2,\n",
              "       0, 0, 0, 2, 3, 0, 2, 0, 0, 2, 2, 2, 2, 1, 0, 2, 2, 2, 2, 2, 2, 2,\n",
              "       3, 1, 2, 2, 0, 2, 2, 3, 2, 2, 3], dtype=int32)"
            ]
          },
          "metadata": {
            "tags": []
          },
          "execution_count": 38
        }
      ]
    },
    {
      "cell_type": "code",
      "metadata": {
        "id": "X4JcUW6-T9kr",
        "outputId": "bd93f236-25af-4d07-ac30-872041a31b23",
        "colab": {
          "base_uri": "https://localhost:8080/"
        }
      },
      "source": [
        "groups = {0: [], 1: [], 2: [], 3: []}\n",
        "i = 0\n",
        "for index, row in cereals.iterrows():\n",
        "    groups[labels[i]].append(index)\n",
        "    i += 1\n",
        "## Now I will print it in a nice way:\n",
        "\n",
        "for key, value in groups.items():\n",
        "    print ('CLUSTER %i' % key)\n",
        "    for breed in value:\n",
        "        print(\"    %s\" % breed)\n",
        "    print('\\n')"
      ],
      "execution_count": 39,
      "outputs": [
        {
          "output_type": "stream",
          "text": [
            "CLUSTER 0\n",
            "    100% Natural Bran\n",
            "    Basic 4\n",
            "    Fruit & Fibre\n",
            "    Fruitful Bran\n",
            "    Honey Nut Cheerios\n",
            "    Just Right Fruit & Nut\n",
            "    Muesli Raisins & Almonds\n",
            "    Muesli Peaches & Pecans\n",
            "    Mueslix Crispy Blend\n",
            "    Nutri-Grain Almond-Raisin\n",
            "    Oatmeal Raisin Crisp\n",
            "    Post Nat. Raisin Bran\n",
            "    Raisin Bran\n",
            "    Total Raisin Bran\n",
            "\n",
            "\n",
            "CLUSTER 1\n",
            "    100% Bran\n",
            "    All-Bran\n",
            "    All-Bran with Extra Fiber\n",
            "    Cheerios\n",
            "    Quaker Oatmeal\n",
            "    Special K\n",
            "\n",
            "\n",
            "CLUSTER 2\n",
            "    Bran Chex\n",
            "    Bran Flakes\n",
            "    Clusters\n",
            "    Corn Chex\n",
            "    Corn Flakes\n",
            "    Cracklin' Oat Bran\n",
            "    Cream of Wheat (Quick)\n",
            "    Crispix\n",
            "    Double Chex\n",
            "    Frosted Mini-Wheats\n",
            "    Grape Nuts Flakes\n",
            "    Grape-Nuts\n",
            "    Great Grains Pecan\n",
            "    Just Right Crunchy  Nuggets\n",
            "    Kix\n",
            "    Life\n",
            "    Maypo\n",
            "    Multi-Grain Cheerios\n",
            "    Nutri-grain Wheat\n",
            "    Product 19\n",
            "    Puffed Rice\n",
            "    Puffed Wheat\n",
            "    Quaker Oat Squares\n",
            "    Raisin Nut Bran\n",
            "    Raisin Squares\n",
            "    Rice Chex\n",
            "    Rice Krispies\n",
            "    Shredded Wheat\n",
            "    Shredded Wheat 'n'Bran\n",
            "    Shredded Wheat spoon size\n",
            "    Strawberry Fruit Wheats\n",
            "    Total Corn Flakes\n",
            "    Total Whole Grain\n",
            "    Triples\n",
            "    Wheat Chex\n",
            "    Wheaties\n",
            "\n",
            "\n",
            "CLUSTER 3\n",
            "    Almond Delight\n",
            "    Apple Cinnamon Cheerios\n",
            "    Apple Jacks\n",
            "    Cap'n'Crunch\n",
            "    Cinnamon Toast Crunch\n",
            "    Cocoa Puffs\n",
            "    Corn Pops\n",
            "    Count Chocula\n",
            "    Crispy Wheat & Raisins\n",
            "    Froot Loops\n",
            "    Frosted Flakes\n",
            "    Fruity Pebbles\n",
            "    Golden Crisp\n",
            "    Golden Grahams\n",
            "    Honey Graham Ohs\n",
            "    Honey-comb\n",
            "    Lucky Charms\n",
            "    Nut&Honey Crunch\n",
            "    Smacks\n",
            "    Trix\n",
            "    Wheaties Honey Gold\n",
            "\n",
            "\n"
          ],
          "name": "stdout"
        }
      ]
    },
    {
      "cell_type": "markdown",
      "metadata": {
        "id": "HkQoS43x4r5W"
      },
      "source": [
        "\n",
        "<h2 style=\"color:red\">Task 2: Hierarchical</h2>\n",
        "I would like you to use the hierarchical clustering algorithm on the cereal data.\n"
      ]
    },
    {
      "cell_type": "code",
      "metadata": {
        "collapsed": true,
        "id": "H9Ye84l-4r5W",
        "outputId": "1f8c7972-5054-4cb1-edfc-04b985023256",
        "colab": {
          "base_uri": "https://localhost:8080/"
        }
      },
      "source": [
        "from sklearn.cluster import AgglomerativeClustering\n",
        "clusterer = AgglomerativeClustering(affinity='euclidean', linkage='ward')\n",
        "clusterer.fit(cereals)"
      ],
      "execution_count": 40,
      "outputs": [
        {
          "output_type": "execute_result",
          "data": {
            "text/plain": [
              "AgglomerativeClustering(affinity='euclidean', compute_full_tree='auto',\n",
              "                        connectivity=None, distance_threshold=None,\n",
              "                        linkage='ward', memory=None, n_clusters=2)"
            ]
          },
          "metadata": {
            "tags": []
          },
          "execution_count": 40
        }
      ]
    },
    {
      "cell_type": "code",
      "metadata": {
        "id": "rFR4CeeFVHLk",
        "outputId": "c0c90547-b8a4-4b31-b929-6011fa4912eb",
        "colab": {
          "base_uri": "https://localhost:8080/"
        }
      },
      "source": [
        "clusterer.labels_"
      ],
      "execution_count": 41,
      "outputs": [
        {
          "output_type": "execute_result",
          "data": {
            "text/plain": [
              "array([0, 1, 0, 0, 0, 0, 1, 1, 0, 0, 1, 0, 1, 0, 1, 0, 0, 1, 1, 0, 0, 0,\n",
              "       0, 0, 1, 1, 0, 1, 1, 1, 1, 1, 0, 0, 0, 1, 0, 1, 0, 1, 0, 0, 1, 0,\n",
              "       1, 1, 1, 0, 0, 1, 0, 1, 1, 0, 0, 0, 0, 0, 1, 0, 0, 0, 0, 0, 0, 0,\n",
              "       1, 0, 0, 0, 1, 0, 0, 1, 0, 0, 0])"
            ]
          },
          "metadata": {
            "tags": []
          },
          "execution_count": 41
        }
      ]
    },
    {
      "cell_type": "code",
      "metadata": {
        "id": "W3ZayeyGVwKn",
        "outputId": "a65cb99b-b9f5-4b65-ca77-aad600565df4",
        "colab": {
          "base_uri": "https://localhost:8080/"
        }
      },
      "source": [
        "import itertools\n",
        "ii = itertools.count(cereals.shape[0])\n",
        "[{'node_id': next(ii), 'left': x[0], 'right':x[1]} for x in clusterer.children_]"
      ],
      "execution_count": 43,
      "outputs": [
        {
          "output_type": "execute_result",
          "data": {
            "text/plain": [
              "[{'left': 71, 'node_id': 77, 'right': 74},\n",
              " {'left': 75, 'node_id': 78, 'right': 77},\n",
              " {'left': 41, 'node_id': 79, 'right': 56},\n",
              " {'left': 15, 'node_id': 80, 'right': 40},\n",
              " {'left': 62, 'node_id': 81, 'right': 80},\n",
              " {'left': 69, 'node_id': 82, 'right': 81},\n",
              " {'left': 72, 'node_id': 83, 'right': 82},\n",
              " {'left': 4, 'node_id': 84, 'right': 76},\n",
              " {'left': 28, 'node_id': 85, 'right': 58},\n",
              " {'left': 44, 'node_id': 86, 'right': 45},\n",
              " {'left': 29, 'node_id': 87, 'right': 73},\n",
              " {'left': 14, 'node_id': 88, 'right': 18},\n",
              " {'left': 6, 'node_id': 89, 'right': 24},\n",
              " {'left': 17, 'node_id': 90, 'right': 25},\n",
              " {'left': 64, 'node_id': 91, 'right': 65},\n",
              " {'left': 26, 'node_id': 92, 'right': 59},\n",
              " {'left': 37, 'node_id': 93, 'right': 87},\n",
              " {'left': 1, 'node_id': 94, 'right': 7},\n",
              " {'left': 12, 'node_id': 95, 'right': 31},\n",
              " {'left': 47, 'node_id': 96, 'right': 60},\n",
              " {'left': 21, 'node_id': 97, 'right': 83},\n",
              " {'left': 0, 'node_id': 98, 'right': 2},\n",
              " {'left': 8, 'node_id': 99, 'right': 68},\n",
              " {'left': 10, 'node_id': 100, 'right': 35},\n",
              " {'left': 5, 'node_id': 101, 'right': 22},\n",
              " {'left': 66, 'node_id': 102, 'right': 89},\n",
              " {'left': 33, 'node_id': 103, 'right': 34},\n",
              " {'left': 23, 'node_id': 104, 'right': 38},\n",
              " {'left': 90, 'node_id': 105, 'right': 93},\n",
              " {'left': 39, 'node_id': 106, 'right': 51},\n",
              " {'left': 13, 'node_id': 107, 'right': 92},\n",
              " {'left': 50, 'node_id': 108, 'right': 78},\n",
              " {'left': 11, 'node_id': 109, 'right': 67},\n",
              " {'left': 27, 'node_id': 110, 'right': 85},\n",
              " {'left': 48, 'node_id': 111, 'right': 84},\n",
              " {'left': 19, 'node_id': 112, 'right': 107},\n",
              " {'left': 100, 'node_id': 113, 'right': 105},\n",
              " {'left': 30, 'node_id': 114, 'right': 102},\n",
              " {'left': 16, 'node_id': 115, 'right': 97},\n",
              " {'left': 9, 'node_id': 116, 'right': 32},\n",
              " {'left': 96, 'node_id': 117, 'right': 104},\n",
              " {'left': 88, 'node_id': 118, 'right': 113},\n",
              " {'left': 53, 'node_id': 119, 'right': 108},\n",
              " {'left': 94, 'node_id': 120, 'right': 106},\n",
              " {'left': 42, 'node_id': 121, 'right': 114},\n",
              " {'left': 46, 'node_id': 122, 'right': 70},\n",
              " {'left': 49, 'node_id': 123, 'right': 120},\n",
              " {'left': 54, 'node_id': 124, 'right': 55},\n",
              " {'left': 52, 'node_id': 125, 'right': 110},\n",
              " {'left': 20, 'node_id': 126, 'right': 91},\n",
              " {'left': 101, 'node_id': 127, 'right': 111},\n",
              " {'left': 36, 'node_id': 128, 'right': 112},\n",
              " {'left': 43, 'node_id': 129, 'right': 79},\n",
              " {'left': 103, 'node_id': 130, 'right': 119},\n",
              " {'left': 61, 'node_id': 131, 'right': 115},\n",
              " {'left': 99, 'node_id': 132, 'right': 117},\n",
              " {'left': 63, 'node_id': 133, 'right': 126},\n",
              " {'left': 116, 'node_id': 134, 'right': 130},\n",
              " {'left': 95, 'node_id': 135, 'right': 118},\n",
              " {'left': 57, 'node_id': 136, 'right': 109},\n",
              " {'left': 86, 'node_id': 137, 'right': 122},\n",
              " {'left': 129, 'node_id': 138, 'right': 134},\n",
              " {'left': 127, 'node_id': 139, 'right': 128},\n",
              " {'left': 3, 'node_id': 140, 'right': 98},\n",
              " {'left': 132, 'node_id': 141, 'right': 139},\n",
              " {'left': 125, 'node_id': 142, 'right': 137},\n",
              " {'left': 121, 'node_id': 143, 'right': 135},\n",
              " {'left': 133, 'node_id': 144, 'right': 138},\n",
              " {'left': 123, 'node_id': 145, 'right': 142},\n",
              " {'left': 124, 'node_id': 146, 'right': 131},\n",
              " {'left': 144, 'node_id': 147, 'right': 146},\n",
              " {'left': 141, 'node_id': 148, 'right': 147},\n",
              " {'left': 136, 'node_id': 149, 'right': 140},\n",
              " {'left': 143, 'node_id': 150, 'right': 145},\n",
              " {'left': 148, 'node_id': 151, 'right': 149},\n",
              " {'left': 150, 'node_id': 152, 'right': 151}]"
            ]
          },
          "metadata": {
            "tags": []
          },
          "execution_count": 43
        }
      ]
    },
    {
      "cell_type": "code",
      "metadata": {
        "id": "frcwWbkeV2Hi",
        "outputId": "f5cd4323-26bf-4a70-f709-704e3ebda0a6",
        "colab": {
          "base_uri": "https://localhost:8080/",
          "height": 419
        }
      },
      "source": [
        "cereal_names = pd.DataFrame({'cereals': cereals.index.values})\n",
        "cereal_names"
      ],
      "execution_count": 44,
      "outputs": [
        {
          "output_type": "execute_result",
          "data": {
            "text/html": [
              "<div>\n",
              "<style scoped>\n",
              "    .dataframe tbody tr th:only-of-type {\n",
              "        vertical-align: middle;\n",
              "    }\n",
              "\n",
              "    .dataframe tbody tr th {\n",
              "        vertical-align: top;\n",
              "    }\n",
              "\n",
              "    .dataframe thead th {\n",
              "        text-align: right;\n",
              "    }\n",
              "</style>\n",
              "<table border=\"1\" class=\"dataframe\">\n",
              "  <thead>\n",
              "    <tr style=\"text-align: right;\">\n",
              "      <th></th>\n",
              "      <th>cereals</th>\n",
              "    </tr>\n",
              "  </thead>\n",
              "  <tbody>\n",
              "    <tr>\n",
              "      <th>0</th>\n",
              "      <td>100% Bran</td>\n",
              "    </tr>\n",
              "    <tr>\n",
              "      <th>1</th>\n",
              "      <td>100% Natural Bran</td>\n",
              "    </tr>\n",
              "    <tr>\n",
              "      <th>2</th>\n",
              "      <td>All-Bran</td>\n",
              "    </tr>\n",
              "    <tr>\n",
              "      <th>3</th>\n",
              "      <td>All-Bran with Extra Fiber</td>\n",
              "    </tr>\n",
              "    <tr>\n",
              "      <th>4</th>\n",
              "      <td>Almond Delight</td>\n",
              "    </tr>\n",
              "    <tr>\n",
              "      <th>...</th>\n",
              "      <td>...</td>\n",
              "    </tr>\n",
              "    <tr>\n",
              "      <th>72</th>\n",
              "      <td>Triples</td>\n",
              "    </tr>\n",
              "    <tr>\n",
              "      <th>73</th>\n",
              "      <td>Trix</td>\n",
              "    </tr>\n",
              "    <tr>\n",
              "      <th>74</th>\n",
              "      <td>Wheat Chex</td>\n",
              "    </tr>\n",
              "    <tr>\n",
              "      <th>75</th>\n",
              "      <td>Wheaties</td>\n",
              "    </tr>\n",
              "    <tr>\n",
              "      <th>76</th>\n",
              "      <td>Wheaties Honey Gold</td>\n",
              "    </tr>\n",
              "  </tbody>\n",
              "</table>\n",
              "<p>77 rows × 1 columns</p>\n",
              "</div>"
            ],
            "text/plain": [
              "                      cereals\n",
              "0                   100% Bran\n",
              "1           100% Natural Bran\n",
              "2                    All-Bran\n",
              "3   All-Bran with Extra Fiber\n",
              "4              Almond Delight\n",
              "..                        ...\n",
              "72                    Triples\n",
              "73                       Trix\n",
              "74                 Wheat Chex\n",
              "75                   Wheaties\n",
              "76        Wheaties Honey Gold\n",
              "\n",
              "[77 rows x 1 columns]"
            ]
          },
          "metadata": {
            "tags": []
          },
          "execution_count": 44
        }
      ]
    },
    {
      "cell_type": "code",
      "metadata": {
        "id": "S1xTor4kxOyN",
        "outputId": "f299cf4c-8dcb-4fe8-8a49-78912ab1847e",
        "colab": {
          "base_uri": "https://localhost:8080/",
          "height": 882
        }
      },
      "source": [
        "from scipy.cluster.hierarchy import dendrogram, linkage\n",
        "from matplotlib import pyplot as plt\n",
        "\n",
        "X = cereals.to_numpy()\n",
        "\n",
        "linked = linkage(X, 'single')\n",
        "\n",
        "labelList = range(1, 78)\n",
        "\n",
        "plt.figure(figsize=(30, 20))\n",
        "dendrogram(linked,\n",
        "            orientation='top',\n",
        "            labels=labelList,\n",
        "            distance_sort='descending',\n",
        "            show_leaf_counts=True, \n",
        "           leaf_font_size=12)\n",
        "plt.show()"
      ],
      "execution_count": 61,
      "outputs": [
        {
          "output_type": "display_data",
          "data": {
            "image/png": "[encoded data removed]",
            "text/plain": [
              "<Figure size 2160x1440 with 1 Axes>"
            ]
          },
          "metadata": {
            "tags": [],
            "needs_background": "light"
          }
        }
      ]
    },
    {
      "cell_type": "markdown",
      "metadata": {
        "id": "zRKqUn9p4r5W"
      },
      "source": [
        "And here is a question. What clusters with *Fruity Pebbles*?"
      ]
    },
    {
      "cell_type": "code",
      "metadata": {
        "collapsed": true,
        "id": "BTxVp-rX4r5W",
        "outputId": "a1f7e041-6843-49fb-aab5-5f9a0e7ae0ec",
        "colab": {
          "base_uri": "https://localhost:8080/",
          "height": 80
        }
      },
      "source": [
        "cereal_names[cereal_names['cereals'] == 'Fruity Pebbles']"
      ],
      "execution_count": 57,
      "outputs": [
        {
          "output_type": "execute_result",
          "data": {
            "text/html": [
              "<div>\n",
              "<style scoped>\n",
              "    .dataframe tbody tr th:only-of-type {\n",
              "        vertical-align: middle;\n",
              "    }\n",
              "\n",
              "    .dataframe tbody tr th {\n",
              "        vertical-align: top;\n",
              "    }\n",
              "\n",
              "    .dataframe thead th {\n",
              "        text-align: right;\n",
              "    }\n",
              "</style>\n",
              "<table border=\"1\" class=\"dataframe\">\n",
              "  <thead>\n",
              "    <tr style=\"text-align: right;\">\n",
              "      <th></th>\n",
              "      <th>cereals</th>\n",
              "    </tr>\n",
              "  </thead>\n",
              "  <tbody>\n",
              "    <tr>\n",
              "      <th>29</th>\n",
              "      <td>Fruity Pebbles</td>\n",
              "    </tr>\n",
              "  </tbody>\n",
              "</table>\n",
              "</div>"
            ],
            "text/plain": [
              "           cereals\n",
              "29  Fruity Pebbles"
            ]
          },
          "metadata": {
            "tags": []
          },
          "execution_count": 57
        }
      ]
    },
    {
      "cell_type": "code",
      "metadata": {
        "id": "V-xDK4nOqyJ8",
        "outputId": "00f9e5b8-31e4-4412-f329-c94933cda99e",
        "colab": {
          "base_uri": "https://localhost:8080/"
        }
      },
      "source": [
        "cereal_names.iloc[73]"
      ],
      "execution_count": 72,
      "outputs": [
        {
          "output_type": "execute_result",
          "data": {
            "text/plain": [
              "cereals    Trix\n",
              "Name: 73, dtype: object"
            ]
          },
          "metadata": {
            "tags": []
          },
          "execution_count": 72
        }
      ]
    },
    {
      "cell_type": "code",
      "metadata": {
        "id": "Ke0TQ7Hz0LEu",
        "outputId": "7e004d73-29e0-478e-c937-0c26850a5667",
        "colab": {
          "base_uri": "https://localhost:8080/"
        }
      },
      "source": [
        "cereal_names.iloc[37]"
      ],
      "execution_count": 71,
      "outputs": [
        {
          "output_type": "execute_result",
          "data": {
            "text/plain": [
              "cereals    Honey-comb\n",
              "Name: 37, dtype: object"
            ]
          },
          "metadata": {
            "tags": []
          },
          "execution_count": 71
        }
      ]
    },
    {
      "cell_type": "markdown",
      "metadata": {
        "id": "47Vlhtgc0QPI"
      },
      "source": [
        "##Fruity Pebbles clusters with Trix and Honey-Combs"
      ]
    },
    {
      "cell_type": "markdown",
      "metadata": {
        "id": "NVZNNl3X8_hQ"
      },
      "source": [
        "## A non-programming question\n",
        "\n",
        "The following is a table of the weights of some world-class female athletes.\n",
        "\n",
        "\n",
        "name | weight in pounds\n",
        ":--- | ---:\n",
        "Asuka Teramoto\t|\t66\n",
        "Linlin Deng\t |\t68\n",
        "Rebecca Tunney\t|\t76\n",
        "Helalia Johannes\t|\t99\n",
        "Kara Goucher\t|\t123\n",
        "Brittainey Raven |\t162\n",
        "Jennifer Lacy\t|\t175\n",
        "Nakia Sanford\t|\t200\n",
        "Chen Nan\t|\t204\n",
        "\n",
        "\n",
        "In Single Linkage Hierarchical Clustering, what is the first cluster made?\n",
        "\n",
        "\n",
        "Note: You can indicate hiearchies with sub-lists: \n",
        "\n",
        "```\n",
        "  [['acoustic guitar', 'electric guitar'], 'dobro']\n",
        "```\n",
        "\n",
        "\n"
      ]
    },
    {
      "cell_type": "code",
      "metadata": {
        "id": "JT13DrJbEGUL"
      },
      "source": [
        "athletes = ['Asuka Teramoto', 'Linlin Deng', 'Rebecca Tunney', 'Helalia Johannes', 'Kara Goucher', 'Brittainey Raven', 'Jennifer Lacy', 'Nakia Sanford', 'Chen Nan']\n",
        "\n",
        "first_cluster = [['Asuka Teramoto', 'Linlin Deng', 'Rebecca Tunney'],\n",
        "                 ['Helalia Johannes', 'Kara Goucher', 'Brittainey Raven', 'Jennifer Lacy'],\n",
        "                 ['Nakia Sanford', 'Chen Nan']]"
      ],
      "execution_count": null,
      "outputs": []
    },
    {
      "cell_type": "markdown",
      "metadata": {
        "id": "wtHU06uzGscP"
      },
      "source": [
        "What is the second cluster made?"
      ]
    },
    {
      "cell_type": "code",
      "metadata": {
        "id": "lnvJ32j5FCxf"
      },
      "source": [
        "second_cluster = [['Asuka Teramoto', 'Linlin Deng', 'Rebecca Tunney', 'Helalia Johannes', 'Kara Goucher', 'Brittainey Raven', 'Jennifer Lacy'],\n",
        "                  ['Nakia Sanford', 'Chen Nan']]"
      ],
      "execution_count": null,
      "outputs": []
    },
    {
      "cell_type": "markdown",
      "metadata": {
        "id": "aIgk1cE5Gwnj"
      },
      "source": [
        "What is the third?"
      ]
    },
    {
      "cell_type": "code",
      "metadata": {
        "id": "K0Cyj93eGx9M"
      },
      "source": [
        "third_cluster = [['Asuka Teramoto', 'Linlin Deng', 'Rebecca Tunney', 'Helalia Johannes', 'Kara Goucher', 'Brittainey Raven', 'Jennifer Lacy', 'Nakia Sanford', 'Chen Nan']]"
      ],
      "execution_count": null,
      "outputs": []
    }
  ]
}